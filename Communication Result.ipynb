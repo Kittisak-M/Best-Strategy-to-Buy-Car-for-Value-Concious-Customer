{
 "cells": [
  {
   "cell_type": "markdown",
   "metadata": {},
   "source": [
    "# Communication Result"
   ]
  },
  {
   "cell_type": "markdown",
   "metadata": {},
   "source": [
    "## Key Findings\n",
    "\n",
    "- **Model Popularity**: Sedans and SUVs are the most popular car body types, with Ford, Chevrolet, Nissan, Toyota, and Dodge being the top brands. And the top 5 model are Nissan Altima, Ford F-150, Ford Fusion, Toyota Camry and Ford Escape.\n",
    "\n",
    "- **Color Preference**: Black, white, grey, and silver are the most popular car colors, both exterior and interior.\n",
    "\n",
    "- **Transmission**: Automatic transmission cars have better resale value and are more popular among buyers.\n",
    "\n",
    "- **Mileage Impact**: The more mileage a car has, the lower its sale price. Additionally, cars with a more recent manufacturing year tend to have better prices. There are some car models where the price increase slightly, the range is between 10k to 25k mileage before dropping.\n"
   ]
  },
  {
   "cell_type": "markdown",
   "metadata": {},
   "source": [
    "## Visualization"
   ]
  },
  {
   "cell_type": "markdown",
   "metadata": {},
   "source": [
    "<div style=\"text-align:center\">\n",
    "\n",
    "![Image Caption](Visualization/body_type_count.png)\n",
    "\n",
    "*1.1 The best selling body type car.*\n",
    "\n",
    "</div>"
   ]
  },
  {
   "cell_type": "markdown",
   "metadata": {},
   "source": [
    "<div style=\"text-align:center;\">\n",
    "    <img src=\"Visualization/car brand sold.png\" alt=\"Image Caption\" style=\"display:block; margin:auto;\" />\n",
    "    <p><em style=\"position:relative; bottom:0; display:block;\">The top 6 most popular car brands are Ford, Chevrolet, Nissan, Dodge, and Honda, catering primarily to the mass market.</em></p>\n",
    "</div>\n"
   ]
  },
  {
   "cell_type": "markdown",
   "metadata": {},
   "source": [
    "<div style=\"text-align:center;\">\n",
    "    <img src=\"Visualization/car_color.png\" alt=\"Image Caption\" style=\"display:block; margin:auto;\" />\n",
    "    <p style=\"text-align:center; margin-top:10px;\">This chart highlights the preference for greyscale colors, including black, white, and various shades of grey, among car buyers. These colors are favored for their classic, neutral, and versatile appeal.</p>\n",
    "</div>\n"
   ]
  },
  {
   "cell_type": "markdown",
   "metadata": {},
   "source": [
    "<div style=\"text-align:center;\">\n",
    "    <img src=\"Visualization/interior_car_color.png\" alt=\"Image Caption\" style=\"display:block; margin:auto;\" />\n",
    "    <p style=\"text-align:center; margin-top:10px;\">This chart highlights the preference for greyscale colors, including black, white, and various shades of grey, among car buyers. These colors are favored for their classic, neutral, and versatile appeal.</p>\n",
    "</div>\n"
   ]
  },
  {
   "cell_type": "markdown",
   "metadata": {},
   "source": [
    "<div style=\"text-align:center;\">\n",
    "    <img src=\"Visualization/transmission types count.png\" alt=\"Image Caption\" style=\"display:block; margin:auto;\" />\n",
    "    <p><em style=\"position:relative; bottom:0; display:block;\">Automatic transmission types overwhelmingly dominate over manual transmission types, with a distribution of 97% to 3%.</em></p>\n",
    "</div>\n"
   ]
  },
  {
   "cell_type": "markdown",
   "metadata": {},
   "source": [
    "plot the graph to see trend"
   ]
  },
  {
   "cell_type": "markdown",
   "metadata": {},
   "source": [
    "<div style=\"text-align:center;\">\n",
    "    <img src=\"Visualization/odometer_price_diff.png\" alt=\"Image Caption\" style=\"display:block; margin:auto;\" />\n",
    "    <p><em style=\"position:relative; bottom:0; display:block;\">Compare the most top 3 car brand average price in each mileage ranges.</em></p>\n",
    "</div>\n"
   ]
  },
  {
   "cell_type": "markdown",
   "metadata": {},
   "source": [
    "<div style=\"text-align:center;\">\n",
    "    <img src=\"Visualization/odometer_price_diff_at_zero.png\" alt=\"Image Caption\" style=\"display:block; margin:auto;\" />\n",
    "    <p><em style=\"position:relative; bottom:0; display:block;\">Compare top 3 car brand average price if the price of the models was 10,000 to see how much price change in the models.</em></p>\n",
    "</div>\n"
   ]
  },
  {
   "cell_type": "markdown",
   "metadata": {},
   "source": [
    "To understand price changed with mileage for the top 3 best-selling cars, we analyzed their price dynamics, focusing on the Ford F-150 due to its unique trend of initial price increased before decline. This trend was attributed to several factors making the F-150 highly demanded. After doing research, the truck was known for its reliability and durability, powerful performance with options like EcoBoost engines, and versatility with numerous configurations. Ford consistently offered a comfortable, spacious interior. The F-150 maintained a strong resale value, driven by brand loyalty and a robust dealer network. These factors, combined with effective marketing, make the Ford F-150 a popular and consistently high demanded truck in the market."
   ]
  },
  {
   "cell_type": "markdown",
   "metadata": {},
   "source": [
    "After we found trend we could not find All great-to-buy car models considering value and worth. K-Means clustering had been used to group similar car model by using number of sold cars and percentage price change in 3 ranges to group car data together."
   ]
  },
  {
   "cell_type": "markdown",
   "metadata": {},
   "source": [
    "\n",
    "<div style=\"text-align:center;\">\n",
    "    <img src=\"Visualization/K-Means.png\" alt=\"Image Caption\" style=\"display:block; margin:auto;\" />\n",
    "    <p><em style=\"position:relative; bottom:0; display:block;\">K-Means Clustering with 13 Cluster to Group Similar Car.</em></p>\n",
    "</div>\n"
   ]
  },
  {
   "cell_type": "markdown",
   "metadata": {},
   "source": [
    "The datasets for the various clusters were available below:\n",
    "\n",
    "- View the comprehensive list of car models with their respective clusters in [Car Models with All Clusters](Dataset/all_cluster.csv).\n",
    "- Explore the clusters with high demand in [High Demand Cluster](Dataset/high_dm_car_final.csv).\n",
    "- Examine the clusters with low percentage change in [Low Percentage Change Cluster](Dataset/low_pct_change_car.csv).\n"
   ]
  },
  {
   "cell_type": "markdown",
   "metadata": {},
   "source": [
    "While it had been identified the ideal car to purchase, determining the appropriate price remained a challenge. To resolve this, it was employed linear regression to forecast the percentage change in value. Research had shown that a car becomes priceless (unsellable) once it reacheed 150,000 miles."
   ]
  },
  {
   "cell_type": "markdown",
   "metadata": {},
   "source": [
    "\n",
    "<div style=\"text-align:center;\">\n",
    "    <img src=\"Visualization/percentage_change_prediction.png\" alt=\"Image Caption\" style=\"display:block; margin:auto;\" />\n",
    "    <p><em style=\"position:relative; bottom:0; display:block;\">Linear forecast of car price percentage change .</em></p>\n",
    "</div>\n"
   ]
  },
  {
   "cell_type": "markdown",
   "metadata": {},
   "source": [
    "## Conclusion"
   ]
  },
  {
   "cell_type": "code",
   "execution_count": null,
   "metadata": {},
   "outputs": [],
   "source": []
  },
  {
   "cell_type": "markdown",
   "metadata": {},
   "source": [
    "\n",
    "\n",
    "\n",
    "\n",
    "\n",
    "\n",
    "\n",
    "\n",
    "\n",
    "\n",
    "\n",
    "\n",
    "\n",
    "\n",
    "\n",
    "\n",
    "\n",
    "\n",
    "\n",
    "\n",
    "\n",
    "\n",
    "\n",
    "\n",
    "\n",
    "\n",
    "\n",
    "\n",
    "\n",
    "\n",
    "\n",
    "\n",
    "\n",
    "\n",
    "\n",
    "\n",
    "\n",
    "\n",
    "\n",
    "\n",
    "\n",
    "\n",
    "\n",
    "\n",
    "\n",
    "\n",
    "\n",
    "\n",
    "\n",
    "\n",
    "\n",
    "\n",
    "\n",
    "\n",
    "\n",
    "\n",
    "\n",
    "\n",
    "\n"
   ]
  }
 ],
 "metadata": {
  "kernelspec": {
   "display_name": "Python 3",
   "language": "python",
   "name": "python3"
  },
  "language_info": {
   "codemirror_mode": {
    "name": "ipython",
    "version": 3
   },
   "file_extension": ".py",
   "mimetype": "text/x-python",
   "name": "python",
   "nbconvert_exporter": "python",
   "pygments_lexer": "ipython3",
   "version": "3.12.2"
  }
 },
 "nbformat": 4,
 "nbformat_minor": 2
}
