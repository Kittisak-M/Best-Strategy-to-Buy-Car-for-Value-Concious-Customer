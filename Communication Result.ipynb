{
 "cells": [
  {
   "cell_type": "markdown",
   "metadata": {},
   "source": [
    "<hr style=\"border: none; height: 20px; background: linear-gradient(to right, black, purple, violet, white);\">\n"
   ]
  },
  {
   "cell_type": "markdown",
   "metadata": {},
   "source": [
    "<h1 style=\"text-align: center; font-weight: bold; font-size: 48px; background: linear-gradient(to right, white, violet, violet, pink); -webkit-background-clip: text; color: transparent;\">Vehicle Sales Analysis</h1>\n"
   ]
  },
  {
   "cell_type": "markdown",
   "metadata": {},
   "source": [
    "<hr style=\"border: none; height: 20px; background: linear-gradient(to right, white, purple, violet, black);\">\n"
   ]
  },
  {
   "cell_type": "markdown",
   "metadata": {},
   "source": [
    "## <span style=\"color: #f200b1;\">Key Findings</span>\n",
    "\n",
    "- <span style=\"color: pink;\">**Model Popularity**</span>: Sedans and SUVs were the most popular car body types, with Ford, Chevrolet, Nissan, Toyota, and Dodge being the top brands. The top five models were Nissan Altima, Ford F-150, Ford Fusion, Toyota Camry, and Ford Escape.\n",
    "\n",
    "- <span style=\"color: pink;\">**Color Preference**</span>: Black, white, grey, and silver were the most popular car colors, both exterior and interior.\n",
    "\n",
    "- <span style=\"color: pink;\">**Transmission**</span>: Automatic transmission cars had better resale value and were more popular among buyers.\n",
    "\n",
    "- <span style=\"color: pink;\">**Mileage Impact**</span>: The more mileage a car had, the lower its sale price. Additionally, cars with a more recent manufacturing year tended to have better prices. There were some car models where the price increaseed slightly, in the range of 10k to 25k miles, before dropping.\n"
   ]
  },
  {
   "cell_type": "markdown",
   "metadata": {},
   "source": [
    "<hr style=\"border: none; height: 20px; background: linear-gradient(to right, black, darkviolet, purple, violet, lavender, white);\">\n"
   ]
  },
  {
   "cell_type": "markdown",
   "metadata": {},
   "source": [
    "## <span style=\"color: #f200b1;\">Visualization</span>"
   ]
  },
  {
   "cell_type": "markdown",
   "metadata": {},
   "source": [
    "<div style=\"text-align:center\">\n",
    "\n",
    "![Image Caption](Visualization/body_type_count.png)\n",
    "\n",
    "*1.1 The best selling body type car.*\n",
    "\n",
    "</div>"
   ]
  },
  {
   "cell_type": "markdown",
   "metadata": {},
   "source": [
    "<div style=\"text-align:center;\">\n",
    "    <img src=\"Visualization/car brand sold.png\" alt=\"Image Caption\" style=\"display:block; margin:auto;\" />\n",
    "    <p><em style=\"position:relative; bottom:0; display:block;\">The top 6 most popular car brands are Ford, Chevrolet, Nissan, Dodge, and Honda, catering primarily to the mass market.</em></p>\n",
    "</div>\n"
   ]
  },
  {
   "cell_type": "markdown",
   "metadata": {},
   "source": [
    "<div style=\"text-align:center;\">\n",
    "    <img src=\"Visualization/car_color.png\" alt=\"Image Caption\" style=\"display:block; margin:auto;\" />\n",
    "    <p style=\"text-align:center; margin-top:10px;\">This chart highlights the preference for greyscale colors, including black, white, and various shades of grey, among car buyers. These colors are favored for their classic, neutral, and versatile appeal.</p>\n",
    "</div>\n"
   ]
  },
  {
   "cell_type": "markdown",
   "metadata": {},
   "source": [
    "<div style=\"text-align:center;\">\n",
    "    <img src=\"Visualization/interior_car_color.png\" alt=\"Image Caption\" style=\"display:block; margin:auto;\" />\n",
    "    <p style=\"text-align:center; margin-top:10px;\">This chart highlights the preference for greyscale colors, including black, white, and various shades of grey, among car buyers. These colors are favored for their classic, neutral, and versatile appeal.</p>\n",
    "</div>\n"
   ]
  },
  {
   "cell_type": "markdown",
   "metadata": {},
   "source": [
    "<div style=\"text-align:center;\">\n",
    "    <img src=\"Visualization/transmission types count.png\" alt=\"Image Caption\" style=\"display:block; margin:auto;\" />\n",
    "    <p><em style=\"position:relative; bottom:0; display:block;\">Automatic transmission types overwhelmingly dominate over manual transmission types, with a distribution of 97% to 3%.</em></p>\n",
    "</div>\n"
   ]
  },
  {
   "cell_type": "markdown",
   "metadata": {},
   "source": [
    "plot the graph to see trend"
   ]
  },
  {
   "cell_type": "markdown",
   "metadata": {},
   "source": [
    "<div style=\"text-align:center;\">\n",
    "    <img src=\"Visualization/odometer_price_diff.png\" alt=\"Image Caption\" style=\"display:block; margin:auto;\" />\n",
    "    <p><em style=\"position:relative; bottom:0; display:block;\">Compare the most top 3 car brand average price in each mileage ranges.</em></p>\n",
    "</div>\n"
   ]
  },
  {
   "cell_type": "markdown",
   "metadata": {},
   "source": [
    "<div style=\"text-align:center;\">\n",
    "    <img src=\"Visualization/odometer_price_diff_at_zero.png\" alt=\"Image Caption\" style=\"display:block; margin:auto;\" />\n",
    "    <p><em style=\"position:relative; bottom:0; display:block;\">Compare top 3 car brand average price if the price of the models was 10,000 to see how much price change in the models.</em></p>\n",
    "</div>\n"
   ]
  },
  {
   "cell_type": "markdown",
   "metadata": {},
   "source": [
    "To understand price change with mileage for the top 3 best-selling cars, we analyzed their price dynamics, focusing on the Ford F-150 due to its unique trend of initial price increased before decline. This trend was attributed to several factors making the F-150 highly demanded and part of car engine shorttage that affects the price of the model. After doing research, the truck was known for its reliability and durability, powerful performance with options like EcoBoost engines, and versatility with numerous configurations. Ford consistently offered a comfortable, spacious interior. The F-150 maintained a strong resale value, driven by brand loyalty and a robust dealer network. These factors, combined with effective marketing, make the Ford F-150 a popular and consistently high demanded truck in the market."
   ]
  },
  {
   "cell_type": "markdown",
   "metadata": {},
   "source": [
    "After we found trend we could not find All great-to-buy car models considering value and worth. K-Means clustering had been used to group similar car model by using number of sold cars and percentage price change in 3 ranges to group car data together."
   ]
  },
  {
   "cell_type": "markdown",
   "metadata": {},
   "source": [
    "\n",
    "<div style=\"text-align:center;\">\n",
    "    <img src=\"Visualization/K-Means.png\" alt=\"Image Caption\" style=\"display:block; margin:auto;\" />\n",
    "    <p><em style=\"position:relative; bottom:0; display:block;\">K-Means Clustering with 13 Cluster to Group Similar Car.</em></p>\n",
    "</div>\n"
   ]
  },
  {
   "cell_type": "markdown",
   "metadata": {},
   "source": [
    "The datasets for the various clusters were available below:\n",
    "\n",
    "- View the comprehensive list of car models with their respective clusters in [Car Models with All Clusters](Dataset/all_cluster.csv).\n",
    "- Explore the clusters with high demand in [High Demand Cluster](Dataset/high_dm_car_final.csv).\n",
    "- Examine the clusters with low percentage change in [Low Percentage Change Cluster](Dataset/low_pct_change_car.csv).\n"
   ]
  },
  {
   "cell_type": "markdown",
   "metadata": {},
   "source": [
    "While it had been identified the ideal car to purchase, determining the appropriate price remained a challenge. To resolve this, it was employed linear regression to forecast the percentage change in value. Research had shown that a car becomes priceless (unsellable) once it reacheed 150,000 miles."
   ]
  },
  {
   "cell_type": "markdown",
   "metadata": {},
   "source": [
    "\n",
    "<div style=\"text-align:center;\">\n",
    "    <img src=\"Visualization/percentage_change_prediction.png\" alt=\"Image Caption\" style=\"display:block; margin:auto;\" />\n",
    "    <p><em style=\"position:relative; bottom:0; display:block;\">Linear forecast of car price percentage change .</em></p>\n",
    "</div>\n"
   ]
  },
  {
   "cell_type": "markdown",
   "metadata": {},
   "source": [
    "<hr style=\"border: none; height: 20px; background: linear-gradient(to right, black, darkviolet, purple, violet, lavender, white);\">\n"
   ]
  },
  {
   "cell_type": "markdown",
   "metadata": {},
   "source": [
    "## <span style=\"color: #f200b1;\">Conclusion</span>"
   ]
  },
  {
   "cell_type": "markdown",
   "metadata": {},
   "source": [
    "The project revealed several important findings regarding the purchase of used cars in the USA. The three brands that were widely sold and represented affordability, reliability, ease of maintenance, and cost-effectiveness were Ford, Chevrolet, and Nissan. These brands catered to the mass market due to their diverse range of models that suited various budgets and needs. When considering potential resale value, greyscale colors (white, black, grey, and silver) were found to be the best choices. These colors tented to be more popular and are perceived as neutral, thus appealing to a broader range of buyers.\n",
    "\n",
    "Sedans and SUVs emerged as the most popular body types for used cars. Sedans were favored for their affordability, fuel efficiency, and practicality in urban settings. In contrast, SUVs were preferred for their versatility, safety, spaciousness, and capability in all-weather conditions. Market trends and lifestyle preferences played significant roles in driving the popularity of these body types. Automatic transmissions were found to dominate the market due to their user-friendly nature and convenience, eliminating the need for manual gear changes. This preference aligns with the demand for ease of use and comfort among drivers.\n",
    "\n",
    "Additionally, the project indicated that vehicles with mileage exceeding 150,000 miles were deemed to have significantly reduced value, according to the price prediction model used. This highlights that mileage is a critical factor in determining the worth of a used car. These findings provide a comprehensive overview of the factors influencing purchase decisions and market trends in the used car industry in the USA.\n"
   ]
  },
  {
   "cell_type": "markdown",
   "metadata": {},
   "source": [
    "<hr style=\"border: none; height: 20px; background: linear-gradient(to right, black, darkviolet, purple, violet, lavender, white);\">\n"
   ]
  },
  {
   "cell_type": "markdown",
   "metadata": {},
   "source": [
    "## <span style=\"color: #f200b1;\">Purchasing Short Guidence</span>\n",
    "\n",
    "### <span style=\"color: #994af5;\">Which Car Brand Should You Consider to Purchase?</span>\n",
    "\n",
    "1. <span style=\"color: #f39c12; font-weight: bold;\">Car Brand:</span>\n",
    "   - Ford\n",
    "   - Chevrolet\n",
    "   - Nissan\n",
    "\n",
    "2. <span style=\"color: #f39c12; font-weight: bold;\">Interior Color and Body Car Color:</span>\n",
    "   - Greyscale colors (white, black, grey, and silver)\n",
    "\n",
    "3. <span style=\"color: #f39c12; font-weight: bold;\">Body Types:</span>\n",
    "   - SUV\n",
    "   - Sedan\n",
    "\n",
    "4. <span style=\"color: #f39c12; font-weight: bold;\">Transmission:</span>\n",
    "   - Automatic\n",
    "\n",
    "### <span style=\"color: #994af5;\">Calculate the Appropriate Price of the Used Car You Want to Purchase</span>\n",
    "\n",
    "[used_car_worth_and_depreciation.xlsx](https://github.com/Kittisak-M/Best-Strategy-to-Buy-Used-Car-Considering-Value-Worth-and-Deprecation-in-USA-/blob/main/car_price.xlsx) was created to help car purchasers make informed decisions about whether a car was worth buying, considering various factors.\n",
    "\n",
    "**In Excel, Metric Explanation**\n",
    "\n",
    "The higher the score, the better the car was for worth buying. The car scoring metric included four parts:\n",
    "\n",
    "1. <span style=\"color: #f39c12; font-weight: bold;\">Purchased Price:</span>\n",
    "   - If an undervalued car was purchased, the chance to resell it with less depreciation was high.\n",
    "   - Weight: 50% of the score\n",
    "\n",
    "2. <span style=\"color: #f39c12; font-weight: bold;\">Liquidity:</span>\n",
    "   - Represented how easy it could be sold in the market.\n",
    "   - Weight: 20% of the score\n",
    "\n",
    "3. <span style=\"color: #f39c12; font-weight: bold;\">Percentage Change in Various Ranges:</span>\n",
    "   - Indicated how depreciation affected the car model. Less depreciation meant it could be sold at a great price.\n",
    "   - Weight: 10% of the score\n",
    "\n",
    "4. <span style=\"color: #f39c12; font-weight: bold;\">K-Means Clustering:</span>\n",
    "   - Converted clusters group rankings from high to low and changed them into scores.\n",
    "   - Weight: 20% of the score\n"
   ]
  },
  {
   "cell_type": "markdown",
   "metadata": {},
   "source": [
    "<hr style=\"border: none; height: 20px; background: linear-gradient(to right, black, darkviolet, purple, violet, lavender, white);\">\n"
   ]
  }
 ],
 "metadata": {
  "kernelspec": {
   "display_name": "Python 3",
   "language": "python",
   "name": "python3"
  },
  "language_info": {
   "codemirror_mode": {
    "name": "ipython",
    "version": 3
   },
   "file_extension": ".py",
   "mimetype": "text/x-python",
   "name": "python",
   "nbconvert_exporter": "python",
   "pygments_lexer": "ipython3",
   "version": "3.12.2"
  }
 },
 "nbformat": 4,
 "nbformat_minor": 2
}
