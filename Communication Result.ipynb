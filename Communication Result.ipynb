{
 "cells": [
  {
   "cell_type": "markdown",
   "metadata": {},
   "source": [
    "# Communication Result"
   ]
  },
  {
   "cell_type": "markdown",
   "metadata": {},
   "source": [
    "### Key Findings\n",
    "\n",
    "- **Model Popularity**: Sedans and SUVs are the most popular car body types, with Ford, Chevrolet, Nissan, Toyota, and Dodge being the top brands. And the top 5 model are Nissan Altima, Ford F-150, Ford Fusion, Toyota Camry and Ford Escape.\n",
    "\n",
    "- **Color Preference**: Black, white, grey, and silver are the most popular car colors, both exterior and interior.\n",
    "\n",
    "- **Transmission**: Automatic transmission cars have better resale value and are more popular among buyers.\n",
    "\n",
    "- **Mileage Impact**: The more mileage a car has, the lower its sale price. Additionally, cars with a more recent manufacturing year tend to have better prices. There are some car models where the price increase slightly, the range is between 10k to 25k mileage before dropping.\n"
   ]
  },
  {
   "cell_type": "markdown",
   "metadata": {},
   "source": [
    "## Visualization"
   ]
  },
  {
   "cell_type": "markdown",
   "metadata": {},
   "source": [
    "<div style=\"text-align:center\">\n",
    "\n",
    "![Image Caption](Visualization/body_type_count.png)\n",
    "\n",
    "*1.1 The best selling body type car.*\n",
    "\n",
    "</div>"
   ]
  },
  {
   "cell_type": "markdown",
   "metadata": {},
   "source": [
    "<div style=\"text-align:center;\">\n",
    "    <img src=\"Visualization/car brand sold.png\" alt=\"Image Caption\" style=\"display:block; margin:auto;\" />\n",
    "    <p><em style=\"position:relative; bottom:0; display:block;\">The top 6 most popular car brands are Ford, Chevrolet, Nissan, Dodge, and Honda, catering primarily to the mass market.</em></p>\n",
    "</div>\n"
   ]
  },
  {
   "cell_type": "markdown",
   "metadata": {},
   "source": [
    "<div style=\"text-align:center;\">\n",
    "    <img src=\"Visualization/car_color.png\" alt=\"Image Caption\" style=\"display:block; margin:auto;\" />\n",
    "    <p style=\"text-align:center; margin-top:10px;\">This chart highlights the preference for greyscale colors, including black, white, and various shades of grey, among car buyers. These colors are favored for their classic, neutral, and versatile appeal.</p>\n",
    "</div>\n"
   ]
  },
  {
   "cell_type": "markdown",
   "metadata": {},
   "source": [
    "<div style=\"text-align:center;\">\n",
    "    <img src=\"Visualization/interior_car_color.png\" alt=\"Image Caption\" style=\"display:block; margin:auto;\" />\n",
    "    <p style=\"text-align:center; margin-top:10px;\">This chart highlights the preference for greyscale colors, including black, white, and various shades of grey, among car buyers. These colors are favored for their classic, neutral, and versatile appeal.</p>\n",
    "</div>\n"
   ]
  },
  {
   "cell_type": "markdown",
   "metadata": {},
   "source": [
    "<div style=\"text-align:center;\">\n",
    "    <img src=\"Visualization/transmission types count.png\" alt=\"Image Caption\" style=\"display:block; margin:auto;\" />\n",
    "    <p><em style=\"position:relative; bottom:0; display:block;\">Automatic transmission types overwhelmingly dominate over manual transmission types, with a distribution of 97% to 3%.</em></p>\n",
    "</div>\n"
   ]
  },
  {
   "cell_type": "markdown",
   "metadata": {},
   "source": [
    "plot the graph to see trend"
   ]
  },
  {
   "cell_type": "markdown",
   "metadata": {},
   "source": [
    "<div style=\"text-align:center;\">\n",
    "    <img src=\"Visualization/odometer_price_diff.png\" alt=\"Image Caption\" style=\"display:block; margin:auto;\" />\n",
    "    <p><em style=\"position:relative; bottom:0; display:block;\">Compare the most top 3 car brand average price in each mileage ranges.</em></p>\n",
    "</div>\n"
   ]
  },
  {
   "cell_type": "markdown",
   "metadata": {},
   "source": [
    "<div style=\"text-align:center;\">\n",
    "    <img src=\"Visualization/odometer_price_diff_at_zero.png\" alt=\"Image Caption\" style=\"display:block; margin:auto;\" />\n",
    "    <p><em style=\"position:relative; bottom:0; display:block;\">Compare top 3 car brand average price if the price of the models was 10,000 to see how much price change in the models.</em></p>\n",
    "</div>\n"
   ]
  },
  {
   "cell_type": "markdown",
   "metadata": {},
   "source": [
    "To understand price changed with mileage for the top 3 best-selling cars, we analyzed their price dynamics, focusing on the Ford F-150 due to its unique trend of initial price increased before decline. This trend was attributed to several factors making the F-150 highly demanded. After doing research, the truck was known for its reliability and durability, powerful performance with options like EcoBoost engines, and versatility with numerous configurations. Ford consistently offered a comfortable, spacious interior. The F-150 maintained a strong resale value, driven by brand loyalty and a robust dealer network. These factors, combined with effective marketing, make the Ford F-150 a popular and consistently high demanded truck in the market."
   ]
  },
  {
   "cell_type": "markdown",
   "metadata": {},
   "source": [
    "After we found trend we could not find All great-to-buy car models considering value and worth. K-Means clustering had been used to group similar car model by using number of sold cars and percentage price change in 3 ranges to group car data together."
   ]
  },
  {
   "cell_type": "markdown",
   "metadata": {},
   "source": [
    "\n",
    "<div style=\"text-align:center;\">\n",
    "    <img src=\"Visualization/K-Means.png\" alt=\"Image Caption\" style=\"display:block; margin:auto;\" />\n",
    "    <p><em style=\"position:relative; bottom:0; display:block;\">K-Means Clustering with 13 cluster to group similar car.</em></p>\n",
    "</div>\n"
   ]
  },
  {
   "cell_type": "markdown",
   "metadata": {},
   "source": [
    "The files are available here\n",
    "\n",
    "Open [Car Models with All Cluster.csv](Dataset/all_cluster.csv) to see all models with clusters.\n",
    "\n",
    "Open [High Demand Cluster.csv](Dataset/high_dm_car_final.csv) to see clusters with high demand.\n",
    "\n",
    "Open [Low Percentage Change Cluster.csv](Dataset/low_pct_change_car.csv) to see clusters with low percentage change.\n"
   ]
  },
  {
   "cell_type": "markdown",
   "metadata": {},
   "source": []
  },
  {
   "cell_type": "markdown",
   "metadata": {},
   "source": []
  },
  {
   "cell_type": "markdown",
   "metadata": {},
   "source": [
    "## Recommendation\n",
    "\n",
    "When looking to purchase a used car, several factors can help guide your decision. Firstly, consider the car's color, as certain colors are more popular and tend to have better resale value. Black, white, grey, and silver are among the most sought-after colors in the used car market. Additionally, pay attention to the interior color, with black, grey, and beige being safe choices that appeal to a wide range of buyers.\n",
    "\n",
    "Secondly, the body type of the car can also impact its resale value. Sedans and SUVs are generally more popular and have higher demand compared to other body types. They also tend to hold their value better over time.\n",
    "\n",
    "Transmission type is another important consideration. Automatic transmissions are preferred by many buyers due to their ease of use, especially in heavy traffic. They also tend to have better resale value compared to manual transmissions.\n",
    "\n",
    "Finally, consider the brand of the car. Brands like Ford, Chevrolet, Nissan, Toyota, and Dodge are well-regarded and have a strong reputation for reliability and durability. Choosing a car from one of these brands can often result in a better resale value and lower depreciation over time.\n"
   ]
  },
  {
   "cell_type": "markdown",
   "metadata": {},
   "source": []
  },
  {
   "cell_type": "markdown",
   "metadata": {},
   "source": [
    "## Conclusion"
   ]
  },
  {
   "cell_type": "code",
   "execution_count": null,
   "metadata": {},
   "outputs": [],
   "source": []
  },
  {
   "cell_type": "markdown",
   "metadata": {},
   "source": [
    "\n",
    "\n",
    "\n",
    "\n",
    "\n",
    "\n",
    "\n",
    "\n",
    "\n",
    "\n",
    "\n",
    "\n",
    "\n",
    "\n",
    "\n",
    "\n",
    "\n",
    "\n",
    "\n",
    "\n",
    "\n",
    "\n",
    "\n",
    "\n",
    "\n",
    "\n",
    "\n",
    "\n",
    "\n",
    "\n",
    "\n",
    "\n",
    "\n",
    "\n",
    "\n",
    "\n",
    "\n",
    "\n",
    "\n",
    "\n",
    "\n",
    "\n",
    "\n",
    "\n",
    "\n",
    "\n",
    "\n",
    "\n",
    "\n",
    "\n",
    "\n",
    "\n",
    "\n",
    "\n",
    "\n",
    "\n",
    "\n",
    "\n",
    "\n"
   ]
  }
 ],
 "metadata": {
  "kernelspec": {
   "display_name": "Python 3",
   "language": "python",
   "name": "python3"
  },
  "language_info": {
   "codemirror_mode": {
    "name": "ipython",
    "version": 3
   },
   "file_extension": ".py",
   "mimetype": "text/x-python",
   "name": "python",
   "nbconvert_exporter": "python",
   "pygments_lexer": "ipython3",
   "version": "3.12.2"
  }
 },
 "nbformat": 4,
 "nbformat_minor": 2
}
