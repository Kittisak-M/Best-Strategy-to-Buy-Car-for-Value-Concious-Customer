{
  "cells": [
    {
      "cell_type": "code",
      "execution_count": 1,
      "metadata": {
        "_cell_guid": "b1076dfc-b9ad-4769-8c92-a6c4dae69d19",
        "_uuid": "8f2839f25d086af736a60e9eeb907d3b93b6e0e5",
        "execution": {
          "iopub.execute_input": "2024-05-16T09:51:13.568203Z",
          "iopub.status.busy": "2024-05-16T09:51:13.567330Z",
          "iopub.status.idle": "2024-05-16T09:51:15.453791Z",
          "shell.execute_reply": "2024-05-16T09:51:15.452790Z",
          "shell.execute_reply.started": "2024-05-16T09:51:13.568164Z"
        },
        "trusted": true,
        "id": "oxvIkgjculnj"
      },
      "outputs": [],
      "source": [
        "# Import essential packages\n",
        "\n",
        "import numpy as np\n",
        "import pandas as pd\n",
        "import matplotlib.pyplot as plt\n",
        "import seaborn as sns\n",
        "import random\n",
        "import plotly.express as px\n",
        "from sklearn.impute import SimpleImputer\n",
        "from textblob import TextBlob\n"
      ]
    },
    {
      "cell_type": "markdown",
      "metadata": {
        "id": "qcXK3RhGulnl"
      },
      "source": [
        "# Data Collection:"
      ]
    },
    {
      "cell_type": "code",
      "execution_count": 2,
      "metadata": {
        "execution": {
          "iopub.execute_input": "2024-05-16T09:51:15.458820Z",
          "iopub.status.busy": "2024-05-16T09:51:15.458145Z",
          "iopub.status.idle": "2024-05-16T09:51:18.522701Z",
          "shell.execute_reply": "2024-05-16T09:51:18.521681Z",
          "shell.execute_reply.started": "2024-05-16T09:51:15.458789Z"
        },
        "trusted": true,
        "id": "qrHFqaurulnn",
        "outputId": "3d8e9a36-078e-4bb0-9d68-67e2672621c8",
        "colab": {
          "base_uri": "https://localhost:8080/"
        }
      },
      "outputs": [
        {
          "output_type": "stream",
          "name": "stderr",
          "text": [
            "<ipython-input-2-886eba5b9707>:4: DtypeWarning: Columns (16) have mixed types. Specify dtype option on import or set low_memory=False.\n",
            "  car_sales = pd.read_csv(url)\n"
          ]
        }
      ],
      "source": [
        "# Import data from Github\n",
        "url = 'https://raw.githubusercontent.com/Kittisak-M/vehicle_sales/main/Vehicale_car_sales.csv'\n",
        "\n",
        "car_sales = pd.read_csv(url)"
      ]
    },
    {
      "cell_type": "markdown",
      "metadata": {
        "id": "1h-fzD4Iulno"
      },
      "source": [
        "# Glance the dataset:"
      ]
    },
    {
      "cell_type": "code",
      "execution_count": 3,
      "metadata": {
        "execution": {
          "iopub.execute_input": "2024-05-16T09:51:18.524160Z",
          "iopub.status.busy": "2024-05-16T09:51:18.523831Z",
          "iopub.status.idle": "2024-05-16T09:51:18.554817Z",
          "shell.execute_reply": "2024-05-16T09:51:18.553836Z",
          "shell.execute_reply.started": "2024-05-16T09:51:18.524130Z"
        },
        "scrolled": true,
        "trusted": true,
        "id": "zC3m8gGmulnp",
        "outputId": "24e135b1-2639-49e3-d52a-d01d6451ad16",
        "colab": {
          "base_uri": "https://localhost:8080/",
          "height": 553
        }
      },
      "outputs": [
        {
          "output_type": "execute_result",
          "data": {
            "text/plain": [
              "   year   make                model        trim   body transmission  \\\n",
              "0  2015    Kia              Sorento          LX    SUV    automatic   \n",
              "1  2015    Kia              Sorento          LX    SUV    automatic   \n",
              "2  2014    BMW             3 Series  328i SULEV  Sedan    automatic   \n",
              "3  2015  Volvo                  S60          T5  Sedan    automatic   \n",
              "4  2014    BMW  6 Series Gran Coupe        650i  Sedan    automatic   \n",
              "\n",
              "                 vin state  condition  odometer  color interior  \\\n",
              "0  5xyktca69fg566472    ca        5.0   16639.0  white    black   \n",
              "1  5xyktca69fg561319    ca        5.0    9393.0  white    beige   \n",
              "2  wba3c1c51ek116351    ca       45.0    1331.0   gray    black   \n",
              "3  yv1612tb4f1310987    ca       41.0   14282.0  white    black   \n",
              "4  wba6b2c57ed129731    ca       43.0    2641.0   gray    black   \n",
              "\n",
              "                                   seller      mmr  sellingprice  \\\n",
              "0                 kia motors america  inc  20500.0       21500.0   \n",
              "1                 kia motors america  inc  20800.0       21500.0   \n",
              "2  financial services remarketing (lease)  31900.0       30000.0   \n",
              "3                 volvo na rep/world omni  27500.0       27750.0   \n",
              "4  financial services remarketing (lease)  66000.0       67000.0   \n",
              "\n",
              "                                  saledate Column1  \n",
              "0  Tue Dec 16 2014 12:30:00 GMT-0800 (PST)  #NAME?  \n",
              "1  Tue Dec 16 2014 12:30:00 GMT-0800 (PST)     NaN  \n",
              "2  Thu Jan 15 2015 04:30:00 GMT-0800 (PST)     NaN  \n",
              "3  Thu Jan 29 2015 04:30:00 GMT-0800 (PST)     NaN  \n",
              "4  Thu Dec 18 2014 12:30:00 GMT-0800 (PST)     NaN  "
            ],
            "text/html": [
              "\n",
              "  <div id=\"df-70787906-b9c6-4277-b28f-479256295da3\" class=\"colab-df-container\">\n",
              "    <div>\n",
              "<style scoped>\n",
              "    .dataframe tbody tr th:only-of-type {\n",
              "        vertical-align: middle;\n",
              "    }\n",
              "\n",
              "    .dataframe tbody tr th {\n",
              "        vertical-align: top;\n",
              "    }\n",
              "\n",
              "    .dataframe thead th {\n",
              "        text-align: right;\n",
              "    }\n",
              "</style>\n",
              "<table border=\"1\" class=\"dataframe\">\n",
              "  <thead>\n",
              "    <tr style=\"text-align: right;\">\n",
              "      <th></th>\n",
              "      <th>year</th>\n",
              "      <th>make</th>\n",
              "      <th>model</th>\n",
              "      <th>trim</th>\n",
              "      <th>body</th>\n",
              "      <th>transmission</th>\n",
              "      <th>vin</th>\n",
              "      <th>state</th>\n",
              "      <th>condition</th>\n",
              "      <th>odometer</th>\n",
              "      <th>color</th>\n",
              "      <th>interior</th>\n",
              "      <th>seller</th>\n",
              "      <th>mmr</th>\n",
              "      <th>sellingprice</th>\n",
              "      <th>saledate</th>\n",
              "      <th>Column1</th>\n",
              "    </tr>\n",
              "  </thead>\n",
              "  <tbody>\n",
              "    <tr>\n",
              "      <th>0</th>\n",
              "      <td>2015</td>\n",
              "      <td>Kia</td>\n",
              "      <td>Sorento</td>\n",
              "      <td>LX</td>\n",
              "      <td>SUV</td>\n",
              "      <td>automatic</td>\n",
              "      <td>5xyktca69fg566472</td>\n",
              "      <td>ca</td>\n",
              "      <td>5.0</td>\n",
              "      <td>16639.0</td>\n",
              "      <td>white</td>\n",
              "      <td>black</td>\n",
              "      <td>kia motors america  inc</td>\n",
              "      <td>20500.0</td>\n",
              "      <td>21500.0</td>\n",
              "      <td>Tue Dec 16 2014 12:30:00 GMT-0800 (PST)</td>\n",
              "      <td>#NAME?</td>\n",
              "    </tr>\n",
              "    <tr>\n",
              "      <th>1</th>\n",
              "      <td>2015</td>\n",
              "      <td>Kia</td>\n",
              "      <td>Sorento</td>\n",
              "      <td>LX</td>\n",
              "      <td>SUV</td>\n",
              "      <td>automatic</td>\n",
              "      <td>5xyktca69fg561319</td>\n",
              "      <td>ca</td>\n",
              "      <td>5.0</td>\n",
              "      <td>9393.0</td>\n",
              "      <td>white</td>\n",
              "      <td>beige</td>\n",
              "      <td>kia motors america  inc</td>\n",
              "      <td>20800.0</td>\n",
              "      <td>21500.0</td>\n",
              "      <td>Tue Dec 16 2014 12:30:00 GMT-0800 (PST)</td>\n",
              "      <td>NaN</td>\n",
              "    </tr>\n",
              "    <tr>\n",
              "      <th>2</th>\n",
              "      <td>2014</td>\n",
              "      <td>BMW</td>\n",
              "      <td>3 Series</td>\n",
              "      <td>328i SULEV</td>\n",
              "      <td>Sedan</td>\n",
              "      <td>automatic</td>\n",
              "      <td>wba3c1c51ek116351</td>\n",
              "      <td>ca</td>\n",
              "      <td>45.0</td>\n",
              "      <td>1331.0</td>\n",
              "      <td>gray</td>\n",
              "      <td>black</td>\n",
              "      <td>financial services remarketing (lease)</td>\n",
              "      <td>31900.0</td>\n",
              "      <td>30000.0</td>\n",
              "      <td>Thu Jan 15 2015 04:30:00 GMT-0800 (PST)</td>\n",
              "      <td>NaN</td>\n",
              "    </tr>\n",
              "    <tr>\n",
              "      <th>3</th>\n",
              "      <td>2015</td>\n",
              "      <td>Volvo</td>\n",
              "      <td>S60</td>\n",
              "      <td>T5</td>\n",
              "      <td>Sedan</td>\n",
              "      <td>automatic</td>\n",
              "      <td>yv1612tb4f1310987</td>\n",
              "      <td>ca</td>\n",
              "      <td>41.0</td>\n",
              "      <td>14282.0</td>\n",
              "      <td>white</td>\n",
              "      <td>black</td>\n",
              "      <td>volvo na rep/world omni</td>\n",
              "      <td>27500.0</td>\n",
              "      <td>27750.0</td>\n",
              "      <td>Thu Jan 29 2015 04:30:00 GMT-0800 (PST)</td>\n",
              "      <td>NaN</td>\n",
              "    </tr>\n",
              "    <tr>\n",
              "      <th>4</th>\n",
              "      <td>2014</td>\n",
              "      <td>BMW</td>\n",
              "      <td>6 Series Gran Coupe</td>\n",
              "      <td>650i</td>\n",
              "      <td>Sedan</td>\n",
              "      <td>automatic</td>\n",
              "      <td>wba6b2c57ed129731</td>\n",
              "      <td>ca</td>\n",
              "      <td>43.0</td>\n",
              "      <td>2641.0</td>\n",
              "      <td>gray</td>\n",
              "      <td>black</td>\n",
              "      <td>financial services remarketing (lease)</td>\n",
              "      <td>66000.0</td>\n",
              "      <td>67000.0</td>\n",
              "      <td>Thu Dec 18 2014 12:30:00 GMT-0800 (PST)</td>\n",
              "      <td>NaN</td>\n",
              "    </tr>\n",
              "  </tbody>\n",
              "</table>\n",
              "</div>\n",
              "    <div class=\"colab-df-buttons\">\n",
              "\n",
              "  <div class=\"colab-df-container\">\n",
              "    <button class=\"colab-df-convert\" onclick=\"convertToInteractive('df-70787906-b9c6-4277-b28f-479256295da3')\"\n",
              "            title=\"Convert this dataframe to an interactive table.\"\n",
              "            style=\"display:none;\">\n",
              "\n",
              "  <svg xmlns=\"http://www.w3.org/2000/svg\" height=\"24px\" viewBox=\"0 -960 960 960\">\n",
              "    <path d=\"M120-120v-720h720v720H120Zm60-500h600v-160H180v160Zm220 220h160v-160H400v160Zm0 220h160v-160H400v160ZM180-400h160v-160H180v160Zm440 0h160v-160H620v160ZM180-180h160v-160H180v160Zm440 0h160v-160H620v160Z\"/>\n",
              "  </svg>\n",
              "    </button>\n",
              "\n",
              "  <style>\n",
              "    .colab-df-container {\n",
              "      display:flex;\n",
              "      gap: 12px;\n",
              "    }\n",
              "\n",
              "    .colab-df-convert {\n",
              "      background-color: #E8F0FE;\n",
              "      border: none;\n",
              "      border-radius: 50%;\n",
              "      cursor: pointer;\n",
              "      display: none;\n",
              "      fill: #1967D2;\n",
              "      height: 32px;\n",
              "      padding: 0 0 0 0;\n",
              "      width: 32px;\n",
              "    }\n",
              "\n",
              "    .colab-df-convert:hover {\n",
              "      background-color: #E2EBFA;\n",
              "      box-shadow: 0px 1px 2px rgba(60, 64, 67, 0.3), 0px 1px 3px 1px rgba(60, 64, 67, 0.15);\n",
              "      fill: #174EA6;\n",
              "    }\n",
              "\n",
              "    .colab-df-buttons div {\n",
              "      margin-bottom: 4px;\n",
              "    }\n",
              "\n",
              "    [theme=dark] .colab-df-convert {\n",
              "      background-color: #3B4455;\n",
              "      fill: #D2E3FC;\n",
              "    }\n",
              "\n",
              "    [theme=dark] .colab-df-convert:hover {\n",
              "      background-color: #434B5C;\n",
              "      box-shadow: 0px 1px 3px 1px rgba(0, 0, 0, 0.15);\n",
              "      filter: drop-shadow(0px 1px 2px rgba(0, 0, 0, 0.3));\n",
              "      fill: #FFFFFF;\n",
              "    }\n",
              "  </style>\n",
              "\n",
              "    <script>\n",
              "      const buttonEl =\n",
              "        document.querySelector('#df-70787906-b9c6-4277-b28f-479256295da3 button.colab-df-convert');\n",
              "      buttonEl.style.display =\n",
              "        google.colab.kernel.accessAllowed ? 'block' : 'none';\n",
              "\n",
              "      async function convertToInteractive(key) {\n",
              "        const element = document.querySelector('#df-70787906-b9c6-4277-b28f-479256295da3');\n",
              "        const dataTable =\n",
              "          await google.colab.kernel.invokeFunction('convertToInteractive',\n",
              "                                                    [key], {});\n",
              "        if (!dataTable) return;\n",
              "\n",
              "        const docLinkHtml = 'Like what you see? Visit the ' +\n",
              "          '<a target=\"_blank\" href=https://colab.research.google.com/notebooks/data_table.ipynb>data table notebook</a>'\n",
              "          + ' to learn more about interactive tables.';\n",
              "        element.innerHTML = '';\n",
              "        dataTable['output_type'] = 'display_data';\n",
              "        await google.colab.output.renderOutput(dataTable, element);\n",
              "        const docLink = document.createElement('div');\n",
              "        docLink.innerHTML = docLinkHtml;\n",
              "        element.appendChild(docLink);\n",
              "      }\n",
              "    </script>\n",
              "  </div>\n",
              "\n",
              "\n",
              "<div id=\"df-63b71240-d4f0-45a8-a9c4-3f9ab3b292f1\">\n",
              "  <button class=\"colab-df-quickchart\" onclick=\"quickchart('df-63b71240-d4f0-45a8-a9c4-3f9ab3b292f1')\"\n",
              "            title=\"Suggest charts\"\n",
              "            style=\"display:none;\">\n",
              "\n",
              "<svg xmlns=\"http://www.w3.org/2000/svg\" height=\"24px\"viewBox=\"0 0 24 24\"\n",
              "     width=\"24px\">\n",
              "    <g>\n",
              "        <path d=\"M19 3H5c-1.1 0-2 .9-2 2v14c0 1.1.9 2 2 2h14c1.1 0 2-.9 2-2V5c0-1.1-.9-2-2-2zM9 17H7v-7h2v7zm4 0h-2V7h2v10zm4 0h-2v-4h2v4z\"/>\n",
              "    </g>\n",
              "</svg>\n",
              "  </button>\n",
              "\n",
              "<style>\n",
              "  .colab-df-quickchart {\n",
              "      --bg-color: #E8F0FE;\n",
              "      --fill-color: #1967D2;\n",
              "      --hover-bg-color: #E2EBFA;\n",
              "      --hover-fill-color: #174EA6;\n",
              "      --disabled-fill-color: #AAA;\n",
              "      --disabled-bg-color: #DDD;\n",
              "  }\n",
              "\n",
              "  [theme=dark] .colab-df-quickchart {\n",
              "      --bg-color: #3B4455;\n",
              "      --fill-color: #D2E3FC;\n",
              "      --hover-bg-color: #434B5C;\n",
              "      --hover-fill-color: #FFFFFF;\n",
              "      --disabled-bg-color: #3B4455;\n",
              "      --disabled-fill-color: #666;\n",
              "  }\n",
              "\n",
              "  .colab-df-quickchart {\n",
              "    background-color: var(--bg-color);\n",
              "    border: none;\n",
              "    border-radius: 50%;\n",
              "    cursor: pointer;\n",
              "    display: none;\n",
              "    fill: var(--fill-color);\n",
              "    height: 32px;\n",
              "    padding: 0;\n",
              "    width: 32px;\n",
              "  }\n",
              "\n",
              "  .colab-df-quickchart:hover {\n",
              "    background-color: var(--hover-bg-color);\n",
              "    box-shadow: 0 1px 2px rgba(60, 64, 67, 0.3), 0 1px 3px 1px rgba(60, 64, 67, 0.15);\n",
              "    fill: var(--button-hover-fill-color);\n",
              "  }\n",
              "\n",
              "  .colab-df-quickchart-complete:disabled,\n",
              "  .colab-df-quickchart-complete:disabled:hover {\n",
              "    background-color: var(--disabled-bg-color);\n",
              "    fill: var(--disabled-fill-color);\n",
              "    box-shadow: none;\n",
              "  }\n",
              "\n",
              "  .colab-df-spinner {\n",
              "    border: 2px solid var(--fill-color);\n",
              "    border-color: transparent;\n",
              "    border-bottom-color: var(--fill-color);\n",
              "    animation:\n",
              "      spin 1s steps(1) infinite;\n",
              "  }\n",
              "\n",
              "  @keyframes spin {\n",
              "    0% {\n",
              "      border-color: transparent;\n",
              "      border-bottom-color: var(--fill-color);\n",
              "      border-left-color: var(--fill-color);\n",
              "    }\n",
              "    20% {\n",
              "      border-color: transparent;\n",
              "      border-left-color: var(--fill-color);\n",
              "      border-top-color: var(--fill-color);\n",
              "    }\n",
              "    30% {\n",
              "      border-color: transparent;\n",
              "      border-left-color: var(--fill-color);\n",
              "      border-top-color: var(--fill-color);\n",
              "      border-right-color: var(--fill-color);\n",
              "    }\n",
              "    40% {\n",
              "      border-color: transparent;\n",
              "      border-right-color: var(--fill-color);\n",
              "      border-top-color: var(--fill-color);\n",
              "    }\n",
              "    60% {\n",
              "      border-color: transparent;\n",
              "      border-right-color: var(--fill-color);\n",
              "    }\n",
              "    80% {\n",
              "      border-color: transparent;\n",
              "      border-right-color: var(--fill-color);\n",
              "      border-bottom-color: var(--fill-color);\n",
              "    }\n",
              "    90% {\n",
              "      border-color: transparent;\n",
              "      border-bottom-color: var(--fill-color);\n",
              "    }\n",
              "  }\n",
              "</style>\n",
              "\n",
              "  <script>\n",
              "    async function quickchart(key) {\n",
              "      const quickchartButtonEl =\n",
              "        document.querySelector('#' + key + ' button');\n",
              "      quickchartButtonEl.disabled = true;  // To prevent multiple clicks.\n",
              "      quickchartButtonEl.classList.add('colab-df-spinner');\n",
              "      try {\n",
              "        const charts = await google.colab.kernel.invokeFunction(\n",
              "            'suggestCharts', [key], {});\n",
              "      } catch (error) {\n",
              "        console.error('Error during call to suggestCharts:', error);\n",
              "      }\n",
              "      quickchartButtonEl.classList.remove('colab-df-spinner');\n",
              "      quickchartButtonEl.classList.add('colab-df-quickchart-complete');\n",
              "    }\n",
              "    (() => {\n",
              "      let quickchartButtonEl =\n",
              "        document.querySelector('#df-63b71240-d4f0-45a8-a9c4-3f9ab3b292f1 button');\n",
              "      quickchartButtonEl.style.display =\n",
              "        google.colab.kernel.accessAllowed ? 'block' : 'none';\n",
              "    })();\n",
              "  </script>\n",
              "</div>\n",
              "    </div>\n",
              "  </div>\n"
            ],
            "application/vnd.google.colaboratory.intrinsic+json": {
              "type": "dataframe",
              "variable_name": "car_sales"
            }
          },
          "metadata": {},
          "execution_count": 3
        }
      ],
      "source": [
        "# See top 5 rows\n",
        "car_sales.head(5)"
      ]
    },
    {
      "cell_type": "code",
      "execution_count": 4,
      "metadata": {
        "execution": {
          "iopub.execute_input": "2024-05-16T09:51:18.557163Z",
          "iopub.status.busy": "2024-05-16T09:51:18.556822Z",
          "iopub.status.idle": "2024-05-16T09:51:18.576459Z",
          "shell.execute_reply": "2024-05-16T09:51:18.575396Z",
          "shell.execute_reply.started": "2024-05-16T09:51:18.557136Z"
        },
        "trusted": true,
        "id": "UOycDtTQulnp",
        "outputId": "e57f11c0-1a3a-47d5-f296-8d60c3667d86",
        "colab": {
          "base_uri": "https://localhost:8080/",
          "height": 660
        }
      },
      "outputs": [
        {
          "output_type": "execute_result",
          "data": {
            "text/plain": [
              "        year    make   model         trim       body transmission  \\\n",
              "558832  2015     Kia    K900       Luxury      Sedan          NaN   \n",
              "558833  2012     Ram    2500  Power Wagon   Crew Cab    automatic   \n",
              "558834  2012     BMW      X5    xDrive35d        SUV    automatic   \n",
              "558835  2015  Nissan  Altima        2.5 S      sedan    automatic   \n",
              "558836  2014    Ford   F-150          XLT  SuperCrew    automatic   \n",
              "\n",
              "                      vin state  condition  odometer   color interior  \\\n",
              "558832  knalw4d4xf6019304    in       45.0   18255.0  silver    black   \n",
              "558833  3c6td5et6cg112407    wa        5.0   54393.0   white    black   \n",
              "558834  5uxzw0c58cl668465    ca       48.0   50561.0   black    black   \n",
              "558835  1n4al3ap0fc216050    ga       38.0   16658.0   white    black   \n",
              "558836  1ftfw1et2eke87277    ca       34.0   15008.0    gray     gray   \n",
              "\n",
              "                                                   seller      mmr  \\\n",
              "558832                                   avis corporation  35300.0   \n",
              "558833                                    i -5 uhlmann rv  30200.0   \n",
              "558834             financial services remarketing (lease)  29800.0   \n",
              "558835  enterprise vehicle exchange / tra / rental / t...  15100.0   \n",
              "558836                   ford motor credit company llc pd  29600.0   \n",
              "\n",
              "        sellingprice                                 saledate Column1  \n",
              "558832       33000.0  Thu Jul 09 2015 07:00:00 GMT-0700 (PDT)     NaN  \n",
              "558833       30800.0  Wed Jul 08 2015 09:30:00 GMT-0700 (PDT)     NaN  \n",
              "558834       34000.0  Wed Jul 08 2015 09:30:00 GMT-0700 (PDT)     NaN  \n",
              "558835       11100.0  Thu Jul 09 2015 06:45:00 GMT-0700 (PDT)     NaN  \n",
              "558836       26700.0  Thu May 28 2015 05:30:00 GMT-0700 (PDT)     NaN  "
            ],
            "text/html": [
              "\n",
              "  <div id=\"df-f1741f07-485e-4b5c-baac-2191bc087426\" class=\"colab-df-container\">\n",
              "    <div>\n",
              "<style scoped>\n",
              "    .dataframe tbody tr th:only-of-type {\n",
              "        vertical-align: middle;\n",
              "    }\n",
              "\n",
              "    .dataframe tbody tr th {\n",
              "        vertical-align: top;\n",
              "    }\n",
              "\n",
              "    .dataframe thead th {\n",
              "        text-align: right;\n",
              "    }\n",
              "</style>\n",
              "<table border=\"1\" class=\"dataframe\">\n",
              "  <thead>\n",
              "    <tr style=\"text-align: right;\">\n",
              "      <th></th>\n",
              "      <th>year</th>\n",
              "      <th>make</th>\n",
              "      <th>model</th>\n",
              "      <th>trim</th>\n",
              "      <th>body</th>\n",
              "      <th>transmission</th>\n",
              "      <th>vin</th>\n",
              "      <th>state</th>\n",
              "      <th>condition</th>\n",
              "      <th>odometer</th>\n",
              "      <th>color</th>\n",
              "      <th>interior</th>\n",
              "      <th>seller</th>\n",
              "      <th>mmr</th>\n",
              "      <th>sellingprice</th>\n",
              "      <th>saledate</th>\n",
              "      <th>Column1</th>\n",
              "    </tr>\n",
              "  </thead>\n",
              "  <tbody>\n",
              "    <tr>\n",
              "      <th>558832</th>\n",
              "      <td>2015</td>\n",
              "      <td>Kia</td>\n",
              "      <td>K900</td>\n",
              "      <td>Luxury</td>\n",
              "      <td>Sedan</td>\n",
              "      <td>NaN</td>\n",
              "      <td>knalw4d4xf6019304</td>\n",
              "      <td>in</td>\n",
              "      <td>45.0</td>\n",
              "      <td>18255.0</td>\n",
              "      <td>silver</td>\n",
              "      <td>black</td>\n",
              "      <td>avis corporation</td>\n",
              "      <td>35300.0</td>\n",
              "      <td>33000.0</td>\n",
              "      <td>Thu Jul 09 2015 07:00:00 GMT-0700 (PDT)</td>\n",
              "      <td>NaN</td>\n",
              "    </tr>\n",
              "    <tr>\n",
              "      <th>558833</th>\n",
              "      <td>2012</td>\n",
              "      <td>Ram</td>\n",
              "      <td>2500</td>\n",
              "      <td>Power Wagon</td>\n",
              "      <td>Crew Cab</td>\n",
              "      <td>automatic</td>\n",
              "      <td>3c6td5et6cg112407</td>\n",
              "      <td>wa</td>\n",
              "      <td>5.0</td>\n",
              "      <td>54393.0</td>\n",
              "      <td>white</td>\n",
              "      <td>black</td>\n",
              "      <td>i -5 uhlmann rv</td>\n",
              "      <td>30200.0</td>\n",
              "      <td>30800.0</td>\n",
              "      <td>Wed Jul 08 2015 09:30:00 GMT-0700 (PDT)</td>\n",
              "      <td>NaN</td>\n",
              "    </tr>\n",
              "    <tr>\n",
              "      <th>558834</th>\n",
              "      <td>2012</td>\n",
              "      <td>BMW</td>\n",
              "      <td>X5</td>\n",
              "      <td>xDrive35d</td>\n",
              "      <td>SUV</td>\n",
              "      <td>automatic</td>\n",
              "      <td>5uxzw0c58cl668465</td>\n",
              "      <td>ca</td>\n",
              "      <td>48.0</td>\n",
              "      <td>50561.0</td>\n",
              "      <td>black</td>\n",
              "      <td>black</td>\n",
              "      <td>financial services remarketing (lease)</td>\n",
              "      <td>29800.0</td>\n",
              "      <td>34000.0</td>\n",
              "      <td>Wed Jul 08 2015 09:30:00 GMT-0700 (PDT)</td>\n",
              "      <td>NaN</td>\n",
              "    </tr>\n",
              "    <tr>\n",
              "      <th>558835</th>\n",
              "      <td>2015</td>\n",
              "      <td>Nissan</td>\n",
              "      <td>Altima</td>\n",
              "      <td>2.5 S</td>\n",
              "      <td>sedan</td>\n",
              "      <td>automatic</td>\n",
              "      <td>1n4al3ap0fc216050</td>\n",
              "      <td>ga</td>\n",
              "      <td>38.0</td>\n",
              "      <td>16658.0</td>\n",
              "      <td>white</td>\n",
              "      <td>black</td>\n",
              "      <td>enterprise vehicle exchange / tra / rental / t...</td>\n",
              "      <td>15100.0</td>\n",
              "      <td>11100.0</td>\n",
              "      <td>Thu Jul 09 2015 06:45:00 GMT-0700 (PDT)</td>\n",
              "      <td>NaN</td>\n",
              "    </tr>\n",
              "    <tr>\n",
              "      <th>558836</th>\n",
              "      <td>2014</td>\n",
              "      <td>Ford</td>\n",
              "      <td>F-150</td>\n",
              "      <td>XLT</td>\n",
              "      <td>SuperCrew</td>\n",
              "      <td>automatic</td>\n",
              "      <td>1ftfw1et2eke87277</td>\n",
              "      <td>ca</td>\n",
              "      <td>34.0</td>\n",
              "      <td>15008.0</td>\n",
              "      <td>gray</td>\n",
              "      <td>gray</td>\n",
              "      <td>ford motor credit company llc pd</td>\n",
              "      <td>29600.0</td>\n",
              "      <td>26700.0</td>\n",
              "      <td>Thu May 28 2015 05:30:00 GMT-0700 (PDT)</td>\n",
              "      <td>NaN</td>\n",
              "    </tr>\n",
              "  </tbody>\n",
              "</table>\n",
              "</div>\n",
              "    <div class=\"colab-df-buttons\">\n",
              "\n",
              "  <div class=\"colab-df-container\">\n",
              "    <button class=\"colab-df-convert\" onclick=\"convertToInteractive('df-f1741f07-485e-4b5c-baac-2191bc087426')\"\n",
              "            title=\"Convert this dataframe to an interactive table.\"\n",
              "            style=\"display:none;\">\n",
              "\n",
              "  <svg xmlns=\"http://www.w3.org/2000/svg\" height=\"24px\" viewBox=\"0 -960 960 960\">\n",
              "    <path d=\"M120-120v-720h720v720H120Zm60-500h600v-160H180v160Zm220 220h160v-160H400v160Zm0 220h160v-160H400v160ZM180-400h160v-160H180v160Zm440 0h160v-160H620v160ZM180-180h160v-160H180v160Zm440 0h160v-160H620v160Z\"/>\n",
              "  </svg>\n",
              "    </button>\n",
              "\n",
              "  <style>\n",
              "    .colab-df-container {\n",
              "      display:flex;\n",
              "      gap: 12px;\n",
              "    }\n",
              "\n",
              "    .colab-df-convert {\n",
              "      background-color: #E8F0FE;\n",
              "      border: none;\n",
              "      border-radius: 50%;\n",
              "      cursor: pointer;\n",
              "      display: none;\n",
              "      fill: #1967D2;\n",
              "      height: 32px;\n",
              "      padding: 0 0 0 0;\n",
              "      width: 32px;\n",
              "    }\n",
              "\n",
              "    .colab-df-convert:hover {\n",
              "      background-color: #E2EBFA;\n",
              "      box-shadow: 0px 1px 2px rgba(60, 64, 67, 0.3), 0px 1px 3px 1px rgba(60, 64, 67, 0.15);\n",
              "      fill: #174EA6;\n",
              "    }\n",
              "\n",
              "    .colab-df-buttons div {\n",
              "      margin-bottom: 4px;\n",
              "    }\n",
              "\n",
              "    [theme=dark] .colab-df-convert {\n",
              "      background-color: #3B4455;\n",
              "      fill: #D2E3FC;\n",
              "    }\n",
              "\n",
              "    [theme=dark] .colab-df-convert:hover {\n",
              "      background-color: #434B5C;\n",
              "      box-shadow: 0px 1px 3px 1px rgba(0, 0, 0, 0.15);\n",
              "      filter: drop-shadow(0px 1px 2px rgba(0, 0, 0, 0.3));\n",
              "      fill: #FFFFFF;\n",
              "    }\n",
              "  </style>\n",
              "\n",
              "    <script>\n",
              "      const buttonEl =\n",
              "        document.querySelector('#df-f1741f07-485e-4b5c-baac-2191bc087426 button.colab-df-convert');\n",
              "      buttonEl.style.display =\n",
              "        google.colab.kernel.accessAllowed ? 'block' : 'none';\n",
              "\n",
              "      async function convertToInteractive(key) {\n",
              "        const element = document.querySelector('#df-f1741f07-485e-4b5c-baac-2191bc087426');\n",
              "        const dataTable =\n",
              "          await google.colab.kernel.invokeFunction('convertToInteractive',\n",
              "                                                    [key], {});\n",
              "        if (!dataTable) return;\n",
              "\n",
              "        const docLinkHtml = 'Like what you see? Visit the ' +\n",
              "          '<a target=\"_blank\" href=https://colab.research.google.com/notebooks/data_table.ipynb>data table notebook</a>'\n",
              "          + ' to learn more about interactive tables.';\n",
              "        element.innerHTML = '';\n",
              "        dataTable['output_type'] = 'display_data';\n",
              "        await google.colab.output.renderOutput(dataTable, element);\n",
              "        const docLink = document.createElement('div');\n",
              "        docLink.innerHTML = docLinkHtml;\n",
              "        element.appendChild(docLink);\n",
              "      }\n",
              "    </script>\n",
              "  </div>\n",
              "\n",
              "\n",
              "<div id=\"df-d26e1158-6964-43b6-91a5-ae8dbc2ca435\">\n",
              "  <button class=\"colab-df-quickchart\" onclick=\"quickchart('df-d26e1158-6964-43b6-91a5-ae8dbc2ca435')\"\n",
              "            title=\"Suggest charts\"\n",
              "            style=\"display:none;\">\n",
              "\n",
              "<svg xmlns=\"http://www.w3.org/2000/svg\" height=\"24px\"viewBox=\"0 0 24 24\"\n",
              "     width=\"24px\">\n",
              "    <g>\n",
              "        <path d=\"M19 3H5c-1.1 0-2 .9-2 2v14c0 1.1.9 2 2 2h14c1.1 0 2-.9 2-2V5c0-1.1-.9-2-2-2zM9 17H7v-7h2v7zm4 0h-2V7h2v10zm4 0h-2v-4h2v4z\"/>\n",
              "    </g>\n",
              "</svg>\n",
              "  </button>\n",
              "\n",
              "<style>\n",
              "  .colab-df-quickchart {\n",
              "      --bg-color: #E8F0FE;\n",
              "      --fill-color: #1967D2;\n",
              "      --hover-bg-color: #E2EBFA;\n",
              "      --hover-fill-color: #174EA6;\n",
              "      --disabled-fill-color: #AAA;\n",
              "      --disabled-bg-color: #DDD;\n",
              "  }\n",
              "\n",
              "  [theme=dark] .colab-df-quickchart {\n",
              "      --bg-color: #3B4455;\n",
              "      --fill-color: #D2E3FC;\n",
              "      --hover-bg-color: #434B5C;\n",
              "      --hover-fill-color: #FFFFFF;\n",
              "      --disabled-bg-color: #3B4455;\n",
              "      --disabled-fill-color: #666;\n",
              "  }\n",
              "\n",
              "  .colab-df-quickchart {\n",
              "    background-color: var(--bg-color);\n",
              "    border: none;\n",
              "    border-radius: 50%;\n",
              "    cursor: pointer;\n",
              "    display: none;\n",
              "    fill: var(--fill-color);\n",
              "    height: 32px;\n",
              "    padding: 0;\n",
              "    width: 32px;\n",
              "  }\n",
              "\n",
              "  .colab-df-quickchart:hover {\n",
              "    background-color: var(--hover-bg-color);\n",
              "    box-shadow: 0 1px 2px rgba(60, 64, 67, 0.3), 0 1px 3px 1px rgba(60, 64, 67, 0.15);\n",
              "    fill: var(--button-hover-fill-color);\n",
              "  }\n",
              "\n",
              "  .colab-df-quickchart-complete:disabled,\n",
              "  .colab-df-quickchart-complete:disabled:hover {\n",
              "    background-color: var(--disabled-bg-color);\n",
              "    fill: var(--disabled-fill-color);\n",
              "    box-shadow: none;\n",
              "  }\n",
              "\n",
              "  .colab-df-spinner {\n",
              "    border: 2px solid var(--fill-color);\n",
              "    border-color: transparent;\n",
              "    border-bottom-color: var(--fill-color);\n",
              "    animation:\n",
              "      spin 1s steps(1) infinite;\n",
              "  }\n",
              "\n",
              "  @keyframes spin {\n",
              "    0% {\n",
              "      border-color: transparent;\n",
              "      border-bottom-color: var(--fill-color);\n",
              "      border-left-color: var(--fill-color);\n",
              "    }\n",
              "    20% {\n",
              "      border-color: transparent;\n",
              "      border-left-color: var(--fill-color);\n",
              "      border-top-color: var(--fill-color);\n",
              "    }\n",
              "    30% {\n",
              "      border-color: transparent;\n",
              "      border-left-color: var(--fill-color);\n",
              "      border-top-color: var(--fill-color);\n",
              "      border-right-color: var(--fill-color);\n",
              "    }\n",
              "    40% {\n",
              "      border-color: transparent;\n",
              "      border-right-color: var(--fill-color);\n",
              "      border-top-color: var(--fill-color);\n",
              "    }\n",
              "    60% {\n",
              "      border-color: transparent;\n",
              "      border-right-color: var(--fill-color);\n",
              "    }\n",
              "    80% {\n",
              "      border-color: transparent;\n",
              "      border-right-color: var(--fill-color);\n",
              "      border-bottom-color: var(--fill-color);\n",
              "    }\n",
              "    90% {\n",
              "      border-color: transparent;\n",
              "      border-bottom-color: var(--fill-color);\n",
              "    }\n",
              "  }\n",
              "</style>\n",
              "\n",
              "  <script>\n",
              "    async function quickchart(key) {\n",
              "      const quickchartButtonEl =\n",
              "        document.querySelector('#' + key + ' button');\n",
              "      quickchartButtonEl.disabled = true;  // To prevent multiple clicks.\n",
              "      quickchartButtonEl.classList.add('colab-df-spinner');\n",
              "      try {\n",
              "        const charts = await google.colab.kernel.invokeFunction(\n",
              "            'suggestCharts', [key], {});\n",
              "      } catch (error) {\n",
              "        console.error('Error during call to suggestCharts:', error);\n",
              "      }\n",
              "      quickchartButtonEl.classList.remove('colab-df-spinner');\n",
              "      quickchartButtonEl.classList.add('colab-df-quickchart-complete');\n",
              "    }\n",
              "    (() => {\n",
              "      let quickchartButtonEl =\n",
              "        document.querySelector('#df-d26e1158-6964-43b6-91a5-ae8dbc2ca435 button');\n",
              "      quickchartButtonEl.style.display =\n",
              "        google.colab.kernel.accessAllowed ? 'block' : 'none';\n",
              "    })();\n",
              "  </script>\n",
              "</div>\n",
              "    </div>\n",
              "  </div>\n"
            ],
            "application/vnd.google.colaboratory.intrinsic+json": {
              "type": "dataframe",
              "repr_error": "0"
            }
          },
          "metadata": {},
          "execution_count": 4
        }
      ],
      "source": [
        "# And 5 bottom rows\n",
        "car_sales.tail()"
      ]
    },
    {
      "cell_type": "code",
      "execution_count": 5,
      "metadata": {
        "execution": {
          "iopub.execute_input": "2024-05-16T09:51:18.578734Z",
          "iopub.status.busy": "2024-05-16T09:51:18.577939Z",
          "iopub.status.idle": "2024-05-16T09:51:18.585691Z",
          "shell.execute_reply": "2024-05-16T09:51:18.584656Z",
          "shell.execute_reply.started": "2024-05-16T09:51:18.578698Z"
        },
        "trusted": true,
        "id": "EyxuFbTiulnp",
        "outputId": "3865ac23-1fec-4bc5-a39d-758367b3924f",
        "colab": {
          "base_uri": "https://localhost:8080/"
        }
      },
      "outputs": [
        {
          "output_type": "execute_result",
          "data": {
            "text/plain": [
              "(558837, 17)"
            ]
          },
          "metadata": {},
          "execution_count": 5
        }
      ],
      "source": [
        "car_sales.shape"
      ]
    },
    {
      "cell_type": "code",
      "execution_count": 6,
      "metadata": {
        "execution": {
          "iopub.execute_input": "2024-05-16T09:51:18.587623Z",
          "iopub.status.busy": "2024-05-16T09:51:18.587209Z",
          "iopub.status.idle": "2024-05-16T09:51:18.611146Z",
          "shell.execute_reply": "2024-05-16T09:51:18.609933Z",
          "shell.execute_reply.started": "2024-05-16T09:51:18.587572Z"
        },
        "trusted": true,
        "id": "h5kXtMECulnq",
        "outputId": "b1ad3136-80b0-44e0-e3d1-625c1ae52f4c",
        "colab": {
          "base_uri": "https://localhost:8080/",
          "height": 187
        }
      },
      "outputs": [
        {
          "output_type": "execute_result",
          "data": {
            "text/plain": [
              "<bound method NDFrame.describe of         year    make                model         trim       body  \\\n",
              "0       2015     Kia              Sorento           LX        SUV   \n",
              "1       2015     Kia              Sorento           LX        SUV   \n",
              "2       2014     BMW             3 Series   328i SULEV      Sedan   \n",
              "3       2015   Volvo                  S60           T5      Sedan   \n",
              "4       2014     BMW  6 Series Gran Coupe         650i      Sedan   \n",
              "...      ...     ...                  ...          ...        ...   \n",
              "558832  2015     Kia                 K900       Luxury      Sedan   \n",
              "558833  2012     Ram                 2500  Power Wagon   Crew Cab   \n",
              "558834  2012     BMW                   X5    xDrive35d        SUV   \n",
              "558835  2015  Nissan               Altima        2.5 S      sedan   \n",
              "558836  2014    Ford                F-150          XLT  SuperCrew   \n",
              "\n",
              "       transmission                vin state  condition  odometer   color  \\\n",
              "0         automatic  5xyktca69fg566472    ca        5.0   16639.0   white   \n",
              "1         automatic  5xyktca69fg561319    ca        5.0    9393.0   white   \n",
              "2         automatic  wba3c1c51ek116351    ca       45.0    1331.0    gray   \n",
              "3         automatic  yv1612tb4f1310987    ca       41.0   14282.0   white   \n",
              "4         automatic  wba6b2c57ed129731    ca       43.0    2641.0    gray   \n",
              "...             ...                ...   ...        ...       ...     ...   \n",
              "558832          NaN  knalw4d4xf6019304    in       45.0   18255.0  silver   \n",
              "558833    automatic  3c6td5et6cg112407    wa        5.0   54393.0   white   \n",
              "558834    automatic  5uxzw0c58cl668465    ca       48.0   50561.0   black   \n",
              "558835    automatic  1n4al3ap0fc216050    ga       38.0   16658.0   white   \n",
              "558836    automatic  1ftfw1et2eke87277    ca       34.0   15008.0    gray   \n",
              "\n",
              "       interior                                             seller      mmr  \\\n",
              "0         black                            kia motors america  inc  20500.0   \n",
              "1         beige                            kia motors america  inc  20800.0   \n",
              "2         black             financial services remarketing (lease)  31900.0   \n",
              "3         black                            volvo na rep/world omni  27500.0   \n",
              "4         black             financial services remarketing (lease)  66000.0   \n",
              "...         ...                                                ...      ...   \n",
              "558832    black                                   avis corporation  35300.0   \n",
              "558833    black                                    i -5 uhlmann rv  30200.0   \n",
              "558834    black             financial services remarketing (lease)  29800.0   \n",
              "558835    black  enterprise vehicle exchange / tra / rental / t...  15100.0   \n",
              "558836     gray                   ford motor credit company llc pd  29600.0   \n",
              "\n",
              "        sellingprice                                 saledate Column1  \n",
              "0            21500.0  Tue Dec 16 2014 12:30:00 GMT-0800 (PST)  #NAME?  \n",
              "1            21500.0  Tue Dec 16 2014 12:30:00 GMT-0800 (PST)     NaN  \n",
              "2            30000.0  Thu Jan 15 2015 04:30:00 GMT-0800 (PST)     NaN  \n",
              "3            27750.0  Thu Jan 29 2015 04:30:00 GMT-0800 (PST)     NaN  \n",
              "4            67000.0  Thu Dec 18 2014 12:30:00 GMT-0800 (PST)     NaN  \n",
              "...              ...                                      ...     ...  \n",
              "558832       33000.0  Thu Jul 09 2015 07:00:00 GMT-0700 (PDT)     NaN  \n",
              "558833       30800.0  Wed Jul 08 2015 09:30:00 GMT-0700 (PDT)     NaN  \n",
              "558834       34000.0  Wed Jul 08 2015 09:30:00 GMT-0700 (PDT)     NaN  \n",
              "558835       11100.0  Thu Jul 09 2015 06:45:00 GMT-0700 (PDT)     NaN  \n",
              "558836       26700.0  Thu May 28 2015 05:30:00 GMT-0700 (PDT)     NaN  \n",
              "\n",
              "[558837 rows x 17 columns]>"
            ],
            "text/html": [
              "<div style=\"max-width:800px; border: 1px solid var(--colab-border-color);\"><style>\n",
              "      pre.function-repr-contents {\n",
              "        overflow-x: auto;\n",
              "        padding: 8px 12px;\n",
              "        max-height: 500px;\n",
              "      }\n",
              "\n",
              "      pre.function-repr-contents.function-repr-contents-collapsed {\n",
              "        cursor: pointer;\n",
              "        max-height: 100px;\n",
              "      }\n",
              "    </style>\n",
              "    <pre style=\"white-space: initial; background:\n",
              "         var(--colab-secondary-surface-color); padding: 8px 12px;\n",
              "         border-bottom: 1px solid var(--colab-border-color);\"><b>pandas.core.generic.NDFrame.describe</b><br/>def describe(percentiles=None, include=None, exclude=None) -&gt; NDFrameT</pre><pre class=\"function-repr-contents function-repr-contents-collapsed\" style=\"\"><a class=\"filepath\" style=\"display:none\" href=\"#\">/usr/local/lib/python3.10/dist-packages/pandas/core/generic.py</a>Generate descriptive statistics.\n",
              "\n",
              "Descriptive statistics include those that summarize the central\n",
              "tendency, dispersion and shape of a\n",
              "dataset&#x27;s distribution, excluding ``NaN`` values.\n",
              "\n",
              "Analyzes both numeric and object series, as well\n",
              "as ``DataFrame`` column sets of mixed data types. The output\n",
              "will vary depending on what is provided. Refer to the notes\n",
              "below for more detail.\n",
              "\n",
              "Parameters\n",
              "----------\n",
              "percentiles : list-like of numbers, optional\n",
              "    The percentiles to include in the output. All should\n",
              "    fall between 0 and 1. The default is\n",
              "    ``[.25, .5, .75]``, which returns the 25th, 50th, and\n",
              "    75th percentiles.\n",
              "include : &#x27;all&#x27;, list-like of dtypes or None (default), optional\n",
              "    A white list of data types to include in the result. Ignored\n",
              "    for ``Series``. Here are the options:\n",
              "\n",
              "    - &#x27;all&#x27; : All columns of the input will be included in the output.\n",
              "    - A list-like of dtypes : Limits the results to the\n",
              "      provided data types.\n",
              "      To limit the result to numeric types submit\n",
              "      ``numpy.number``. To limit it instead to object columns submit\n",
              "      the ``numpy.object`` data type. Strings\n",
              "      can also be used in the style of\n",
              "      ``select_dtypes`` (e.g. ``df.describe(include=[&#x27;O&#x27;])``). To\n",
              "      select pandas categorical columns, use ``&#x27;category&#x27;``\n",
              "    - None (default) : The result will include all numeric columns.\n",
              "exclude : list-like of dtypes or None (default), optional,\n",
              "    A black list of data types to omit from the result. Ignored\n",
              "    for ``Series``. Here are the options:\n",
              "\n",
              "    - A list-like of dtypes : Excludes the provided data types\n",
              "      from the result. To exclude numeric types submit\n",
              "      ``numpy.number``. To exclude object columns submit the data\n",
              "      type ``numpy.object``. Strings can also be used in the style of\n",
              "      ``select_dtypes`` (e.g. ``df.describe(exclude=[&#x27;O&#x27;])``). To\n",
              "      exclude pandas categorical columns, use ``&#x27;category&#x27;``\n",
              "    - None (default) : The result will exclude nothing.\n",
              "\n",
              "Returns\n",
              "-------\n",
              "Series or DataFrame\n",
              "    Summary statistics of the Series or Dataframe provided.\n",
              "\n",
              "See Also\n",
              "--------\n",
              "DataFrame.count: Count number of non-NA/null observations.\n",
              "DataFrame.max: Maximum of the values in the object.\n",
              "DataFrame.min: Minimum of the values in the object.\n",
              "DataFrame.mean: Mean of the values.\n",
              "DataFrame.std: Standard deviation of the observations.\n",
              "DataFrame.select_dtypes: Subset of a DataFrame including/excluding\n",
              "    columns based on their dtype.\n",
              "\n",
              "Notes\n",
              "-----\n",
              "For numeric data, the result&#x27;s index will include ``count``,\n",
              "``mean``, ``std``, ``min``, ``max`` as well as lower, ``50`` and\n",
              "upper percentiles. By default the lower percentile is ``25`` and the\n",
              "upper percentile is ``75``. The ``50`` percentile is the\n",
              "same as the median.\n",
              "\n",
              "For object data (e.g. strings or timestamps), the result&#x27;s index\n",
              "will include ``count``, ``unique``, ``top``, and ``freq``. The ``top``\n",
              "is the most common value. The ``freq`` is the most common value&#x27;s\n",
              "frequency. Timestamps also include the ``first`` and ``last`` items.\n",
              "\n",
              "If multiple object values have the highest count, then the\n",
              "``count`` and ``top`` results will be arbitrarily chosen from\n",
              "among those with the highest count.\n",
              "\n",
              "For mixed data types provided via a ``DataFrame``, the default is to\n",
              "return only an analysis of numeric columns. If the dataframe consists\n",
              "only of object and categorical data without any numeric columns, the\n",
              "default is to return an analysis of both the object and categorical\n",
              "columns. If ``include=&#x27;all&#x27;`` is provided as an option, the result\n",
              "will include a union of attributes of each type.\n",
              "\n",
              "The `include` and `exclude` parameters can be used to limit\n",
              "which columns in a ``DataFrame`` are analyzed for the output.\n",
              "The parameters are ignored when analyzing a ``Series``.\n",
              "\n",
              "Examples\n",
              "--------\n",
              "Describing a numeric ``Series``.\n",
              "\n",
              "&gt;&gt;&gt; s = pd.Series([1, 2, 3])\n",
              "&gt;&gt;&gt; s.describe()\n",
              "count    3.0\n",
              "mean     2.0\n",
              "std      1.0\n",
              "min      1.0\n",
              "25%      1.5\n",
              "50%      2.0\n",
              "75%      2.5\n",
              "max      3.0\n",
              "dtype: float64\n",
              "\n",
              "Describing a categorical ``Series``.\n",
              "\n",
              "&gt;&gt;&gt; s = pd.Series([&#x27;a&#x27;, &#x27;a&#x27;, &#x27;b&#x27;, &#x27;c&#x27;])\n",
              "&gt;&gt;&gt; s.describe()\n",
              "count     4\n",
              "unique    3\n",
              "top       a\n",
              "freq      2\n",
              "dtype: object\n",
              "\n",
              "Describing a timestamp ``Series``.\n",
              "\n",
              "&gt;&gt;&gt; s = pd.Series([\n",
              "...     np.datetime64(&quot;2000-01-01&quot;),\n",
              "...     np.datetime64(&quot;2010-01-01&quot;),\n",
              "...     np.datetime64(&quot;2010-01-01&quot;)\n",
              "... ])\n",
              "&gt;&gt;&gt; s.describe()\n",
              "count                      3\n",
              "mean     2006-09-01 08:00:00\n",
              "min      2000-01-01 00:00:00\n",
              "25%      2004-12-31 12:00:00\n",
              "50%      2010-01-01 00:00:00\n",
              "75%      2010-01-01 00:00:00\n",
              "max      2010-01-01 00:00:00\n",
              "dtype: object\n",
              "\n",
              "Describing a ``DataFrame``. By default only numeric fields\n",
              "are returned.\n",
              "\n",
              "&gt;&gt;&gt; df = pd.DataFrame({&#x27;categorical&#x27;: pd.Categorical([&#x27;d&#x27;,&#x27;e&#x27;,&#x27;f&#x27;]),\n",
              "...                    &#x27;numeric&#x27;: [1, 2, 3],\n",
              "...                    &#x27;object&#x27;: [&#x27;a&#x27;, &#x27;b&#x27;, &#x27;c&#x27;]\n",
              "...                   })\n",
              "&gt;&gt;&gt; df.describe()\n",
              "       numeric\n",
              "count      3.0\n",
              "mean       2.0\n",
              "std        1.0\n",
              "min        1.0\n",
              "25%        1.5\n",
              "50%        2.0\n",
              "75%        2.5\n",
              "max        3.0\n",
              "\n",
              "Describing all columns of a ``DataFrame`` regardless of data type.\n",
              "\n",
              "&gt;&gt;&gt; df.describe(include=&#x27;all&#x27;)  # doctest: +SKIP\n",
              "       categorical  numeric object\n",
              "count            3      3.0      3\n",
              "unique           3      NaN      3\n",
              "top              f      NaN      a\n",
              "freq             1      NaN      1\n",
              "mean           NaN      2.0    NaN\n",
              "std            NaN      1.0    NaN\n",
              "min            NaN      1.0    NaN\n",
              "25%            NaN      1.5    NaN\n",
              "50%            NaN      2.0    NaN\n",
              "75%            NaN      2.5    NaN\n",
              "max            NaN      3.0    NaN\n",
              "\n",
              "Describing a column from a ``DataFrame`` by accessing it as\n",
              "an attribute.\n",
              "\n",
              "&gt;&gt;&gt; df.numeric.describe()\n",
              "count    3.0\n",
              "mean     2.0\n",
              "std      1.0\n",
              "min      1.0\n",
              "25%      1.5\n",
              "50%      2.0\n",
              "75%      2.5\n",
              "max      3.0\n",
              "Name: numeric, dtype: float64\n",
              "\n",
              "Including only numeric columns in a ``DataFrame`` description.\n",
              "\n",
              "&gt;&gt;&gt; df.describe(include=[np.number])\n",
              "       numeric\n",
              "count      3.0\n",
              "mean       2.0\n",
              "std        1.0\n",
              "min        1.0\n",
              "25%        1.5\n",
              "50%        2.0\n",
              "75%        2.5\n",
              "max        3.0\n",
              "\n",
              "Including only string columns in a ``DataFrame`` description.\n",
              "\n",
              "&gt;&gt;&gt; df.describe(include=[object])  # doctest: +SKIP\n",
              "       object\n",
              "count       3\n",
              "unique      3\n",
              "top         a\n",
              "freq        1\n",
              "\n",
              "Including only categorical columns from a ``DataFrame`` description.\n",
              "\n",
              "&gt;&gt;&gt; df.describe(include=[&#x27;category&#x27;])\n",
              "       categorical\n",
              "count            3\n",
              "unique           3\n",
              "top              d\n",
              "freq             1\n",
              "\n",
              "Excluding numeric columns from a ``DataFrame`` description.\n",
              "\n",
              "&gt;&gt;&gt; df.describe(exclude=[np.number])  # doctest: +SKIP\n",
              "       categorical object\n",
              "count            3      3\n",
              "unique           3      3\n",
              "top              f      a\n",
              "freq             1      1\n",
              "\n",
              "Excluding object columns from a ``DataFrame`` description.\n",
              "\n",
              "&gt;&gt;&gt; df.describe(exclude=[object])  # doctest: +SKIP\n",
              "       categorical  numeric\n",
              "count            3      3.0\n",
              "unique           3      NaN\n",
              "top              f      NaN\n",
              "freq             1      NaN\n",
              "mean           NaN      2.0\n",
              "std            NaN      1.0\n",
              "min            NaN      1.0\n",
              "25%            NaN      1.5\n",
              "50%            NaN      2.0\n",
              "75%            NaN      2.5\n",
              "max            NaN      3.0</pre>\n",
              "      <script>\n",
              "      if (google.colab.kernel.accessAllowed && google.colab.files && google.colab.files.view) {\n",
              "        for (const element of document.querySelectorAll('.filepath')) {\n",
              "          element.style.display = 'block'\n",
              "          element.onclick = (event) => {\n",
              "            event.preventDefault();\n",
              "            event.stopPropagation();\n",
              "            google.colab.files.view(element.textContent, 10577);\n",
              "          };\n",
              "        }\n",
              "      }\n",
              "      for (const element of document.querySelectorAll('.function-repr-contents')) {\n",
              "        element.onclick = (event) => {\n",
              "          event.preventDefault();\n",
              "          event.stopPropagation();\n",
              "          element.classList.toggle('function-repr-contents-collapsed');\n",
              "        };\n",
              "      }\n",
              "      </script>\n",
              "      </div>"
            ]
          },
          "metadata": {},
          "execution_count": 6
        }
      ],
      "source": [
        "car_sales.describe"
      ]
    },
    {
      "cell_type": "code",
      "execution_count": 7,
      "metadata": {
        "execution": {
          "iopub.execute_input": "2024-05-16T09:51:18.613300Z",
          "iopub.status.busy": "2024-05-16T09:51:18.612563Z",
          "iopub.status.idle": "2024-05-16T09:51:18.919772Z",
          "shell.execute_reply": "2024-05-16T09:51:18.918801Z",
          "shell.execute_reply.started": "2024-05-16T09:51:18.613267Z"
        },
        "trusted": true,
        "id": "OgomQXqlulnq",
        "outputId": "434e4978-0a96-4b37-a980-ed99bc1108a2",
        "colab": {
          "base_uri": "https://localhost:8080/"
        }
      },
      "outputs": [
        {
          "output_type": "stream",
          "name": "stdout",
          "text": [
            "<class 'pandas.core.frame.DataFrame'>\n",
            "RangeIndex: 558837 entries, 0 to 558836\n",
            "Data columns (total 17 columns):\n",
            " #   Column        Non-Null Count   Dtype  \n",
            "---  ------        --------------   -----  \n",
            " 0   year          558837 non-null  int64  \n",
            " 1   make          548536 non-null  object \n",
            " 2   model         548438 non-null  object \n",
            " 3   trim          548186 non-null  object \n",
            " 4   body          545642 non-null  object \n",
            " 5   transmission  493485 non-null  object \n",
            " 6   vin           558833 non-null  object \n",
            " 7   state         558837 non-null  object \n",
            " 8   condition     547017 non-null  float64\n",
            " 9   odometer      558743 non-null  float64\n",
            " 10  color         558088 non-null  object \n",
            " 11  interior      558088 non-null  object \n",
            " 12  seller        558837 non-null  object \n",
            " 13  mmr           558799 non-null  float64\n",
            " 14  sellingprice  558825 non-null  float64\n",
            " 15  saledate      558825 non-null  object \n",
            " 16  Column1       1 non-null       object \n",
            "dtypes: float64(4), int64(1), object(12)\n",
            "memory usage: 72.5+ MB\n"
          ]
        }
      ],
      "source": [
        "# See data structure\n",
        "car_sales.info()"
      ]
    },
    {
      "cell_type": "markdown",
      "metadata": {
        "id": "3sYmPWYvulnr"
      },
      "source": [
        "There are missing values in the dataframe, we need to cleanse it."
      ]
    },
    {
      "cell_type": "code",
      "execution_count": 8,
      "metadata": {
        "execution": {
          "iopub.execute_input": "2024-05-16T09:51:18.921915Z",
          "iopub.status.busy": "2024-05-16T09:51:18.921522Z",
          "iopub.status.idle": "2024-05-16T09:51:19.210249Z",
          "shell.execute_reply": "2024-05-16T09:51:19.209046Z",
          "shell.execute_reply.started": "2024-05-16T09:51:18.921880Z"
        },
        "trusted": true,
        "id": "aKk1H19Culnr",
        "outputId": "b620acf1-2b3f-4bdf-ddf7-3b1885ea28da",
        "colab": {
          "base_uri": "https://localhost:8080/"
        }
      },
      "outputs": [
        {
          "output_type": "execute_result",
          "data": {
            "text/plain": [
              "year                 0\n",
              "make             10301\n",
              "model            10399\n",
              "trim             10651\n",
              "body             13195\n",
              "transmission     65352\n",
              "vin                  4\n",
              "state                0\n",
              "condition        11820\n",
              "odometer            94\n",
              "color              749\n",
              "interior           749\n",
              "seller               0\n",
              "mmr                 38\n",
              "sellingprice        12\n",
              "saledate            12\n",
              "Column1         558836\n",
              "dtype: int64"
            ]
          },
          "metadata": {},
          "execution_count": 8
        }
      ],
      "source": [
        "# Count null value in each columns\n",
        "car_sales.isnull().sum()"
      ]
    },
    {
      "cell_type": "markdown",
      "metadata": {
        "id": "bgmrnzmAulnr"
      },
      "source": [
        "# Data cleansing:"
      ]
    },
    {
      "cell_type": "code",
      "execution_count": 9,
      "metadata": {
        "execution": {
          "iopub.execute_input": "2024-05-16T09:51:19.213759Z",
          "iopub.status.busy": "2024-05-16T09:51:19.213452Z",
          "iopub.status.idle": "2024-05-16T09:51:19.221462Z",
          "shell.execute_reply": "2024-05-16T09:51:19.220408Z",
          "shell.execute_reply.started": "2024-05-16T09:51:19.213734Z"
        },
        "trusted": true,
        "id": "mGj5MRAiulnr",
        "outputId": "c99a4468-9ee4-41fb-d800-ffa121287ae4",
        "colab": {
          "base_uri": "https://localhost:8080/"
        }
      },
      "outputs": [
        {
          "output_type": "execute_result",
          "data": {
            "text/plain": [
              "year              int64\n",
              "make             object\n",
              "model            object\n",
              "trim             object\n",
              "body             object\n",
              "transmission     object\n",
              "vin              object\n",
              "state            object\n",
              "condition       float64\n",
              "odometer        float64\n",
              "color            object\n",
              "interior         object\n",
              "seller           object\n",
              "mmr             float64\n",
              "sellingprice    float64\n",
              "saledate         object\n",
              "Column1          object\n",
              "dtype: object"
            ]
          },
          "metadata": {},
          "execution_count": 9
        }
      ],
      "source": [
        "car_sales.dtypes"
      ]
    },
    {
      "cell_type": "code",
      "execution_count": 10,
      "metadata": {
        "execution": {
          "iopub.execute_input": "2024-05-16T09:51:19.226610Z",
          "iopub.status.busy": "2024-05-16T09:51:19.226279Z",
          "iopub.status.idle": "2024-05-16T09:51:19.519995Z",
          "shell.execute_reply": "2024-05-16T09:51:19.519001Z",
          "shell.execute_reply.started": "2024-05-16T09:51:19.226585Z"
        },
        "trusted": true,
        "id": "x4DR8ZsEulnr",
        "outputId": "5d4d2cab-802c-4550-a4d4-a80f4d8ab36c",
        "colab": {
          "base_uri": "https://localhost:8080/"
        }
      },
      "outputs": [
        {
          "output_type": "execute_result",
          "data": {
            "text/plain": [
              "year              0.0\n",
              "make              2.0\n",
              "model             2.0\n",
              "trim              2.0\n",
              "body              2.0\n",
              "transmission     12.0\n",
              "vin               0.0\n",
              "state             0.0\n",
              "condition         2.0\n",
              "odometer          0.0\n",
              "color             0.0\n",
              "interior          0.0\n",
              "seller            0.0\n",
              "mmr               0.0\n",
              "sellingprice      0.0\n",
              "saledate          0.0\n",
              "Column1         100.0\n",
              "dtype: float64"
            ]
          },
          "metadata": {},
          "execution_count": 10
        }
      ],
      "source": [
        "# Check how much percent missing value from the dataset\n",
        "\n",
        "car_sales.isnull().mean().round(2) * 100"
      ]
    },
    {
      "cell_type": "markdown",
      "metadata": {
        "id": "TF271nMEulns"
      },
      "source": [
        "### As you can see, there is a 12% missing value in the 'transmission' column, which exceeds the 10% threshold. Cleasing or transformation is necessary"
      ]
    },
    {
      "cell_type": "code",
      "execution_count": 11,
      "metadata": {
        "execution": {
          "iopub.execute_input": "2024-05-16T09:51:19.521303Z",
          "iopub.status.busy": "2024-05-16T09:51:19.521017Z",
          "iopub.status.idle": "2024-05-16T09:51:19.595984Z",
          "shell.execute_reply": "2024-05-16T09:51:19.595013Z",
          "shell.execute_reply.started": "2024-05-16T09:51:19.521281Z"
        },
        "trusted": true,
        "id": "XbeprGetulns"
      },
      "outputs": [],
      "source": [
        "# Remove unncessary column\n",
        "cleaned_cs = car_sales.drop(['vin','mmr'], axis=1)"
      ]
    },
    {
      "cell_type": "code",
      "execution_count": 12,
      "metadata": {
        "execution": {
          "iopub.execute_input": "2024-05-16T09:51:19.597914Z",
          "iopub.status.busy": "2024-05-16T09:51:19.597527Z",
          "iopub.status.idle": "2024-05-16T09:51:19.627822Z",
          "shell.execute_reply": "2024-05-16T09:51:19.626775Z",
          "shell.execute_reply.started": "2024-05-16T09:51:19.597880Z"
        },
        "trusted": true,
        "id": "qiDxRKuAulns",
        "outputId": "f0545737-3a8b-4178-e7d8-f1e9440d1c18",
        "colab": {
          "base_uri": "https://localhost:8080/"
        }
      },
      "outputs": [
        {
          "output_type": "execute_result",
          "data": {
            "text/plain": [
              "transmission\n",
              "automatic    475915\n",
              "NaN           65352\n",
              "manual        17544\n",
              "sedan            15\n",
              "Sedan            11\n",
              "Name: count, dtype: int64"
            ]
          },
          "metadata": {},
          "execution_count": 12
        }
      ],
      "source": [
        "# Count unique value in the transmission column\n",
        "car_sales['transmission'].value_counts(dropna=False)"
      ]
    },
    {
      "cell_type": "markdown",
      "metadata": {
        "id": "lrQkrrqHulns"
      },
      "source": [
        "#### Calculate ratio between 'manual' and 'automatic in the transmission column"
      ]
    },
    {
      "cell_type": "code",
      "execution_count": 13,
      "metadata": {
        "execution": {
          "iopub.execute_input": "2024-05-16T09:51:19.629437Z",
          "iopub.status.busy": "2024-05-16T09:51:19.629109Z",
          "iopub.status.idle": "2024-05-16T09:51:19.823497Z",
          "shell.execute_reply": "2024-05-16T09:51:19.822588Z",
          "shell.execute_reply.started": "2024-05-16T09:51:19.629412Z"
        },
        "trusted": true,
        "id": "1fPJuIvxulns",
        "outputId": "5bc9e873-1e15-46d3-9230-bd2064965f12",
        "colab": {
          "base_uri": "https://localhost:8080/"
        }
      },
      "outputs": [
        {
          "output_type": "stream",
          "name": "stdout",
          "text": [
            "transmission\n",
            "automatic    475915\n",
            "NaN           65378\n",
            "manual        17544\n",
            "Name: count, dtype: int64\n"
          ]
        }
      ],
      "source": [
        "# Convert all values in 'transmission' column to lowercase\n",
        "cleaned_cs['transmission'] = cleaned_cs['transmission'].str.lower()\n",
        "\n",
        "# Replace 'sedan' with np.nan (actual NaN value)\n",
        "cleaned_cs['transmission'] = cleaned_cs['transmission'].replace('sedan', np.nan)\n",
        "\n",
        "# Count the occurrences of each value in the 'transmission' column\n",
        "transmission_counts = cleaned_cs['transmission'].value_counts(dropna=False)\n",
        "\n",
        "print(transmission_counts)\n"
      ]
    },
    {
      "cell_type": "markdown",
      "metadata": {
        "id": "sf1y-Z6pulnt"
      },
      "source": [
        "#### Calculate percentage between 'manual' and 'automatic' in the transmission column in order to replace with 'NaN' with the same percentage(uncleaned version)"
      ]
    },
    {
      "cell_type": "code",
      "execution_count": 14,
      "metadata": {
        "execution": {
          "iopub.execute_input": "2024-05-16T09:51:19.825121Z",
          "iopub.status.busy": "2024-05-16T09:51:19.824704Z",
          "iopub.status.idle": "2024-05-16T09:51:20.021580Z",
          "shell.execute_reply": "2024-05-16T09:51:20.020629Z",
          "shell.execute_reply.started": "2024-05-16T09:51:19.825014Z"
        },
        "scrolled": true,
        "trusted": true,
        "id": "tbZJ7ug2ulnt",
        "outputId": "e3086353-3a10-41f4-d660-8488c2bc1750",
        "colab": {
          "base_uri": "https://localhost:8080/"
        }
      },
      "outputs": [
        {
          "output_type": "stream",
          "name": "stdout",
          "text": [
            "total missing value:  65378 rows\n",
            "manual to all_ms percentage:  3.5553105729148724 %\n",
            "auto to all_ms percentage:  96.44468942708512 %\n",
            "count rows to fill missing value with manual:  2324.0\n",
            "count rows to fill missing value with auto:  63054.0\n"
          ]
        }
      ],
      "source": [
        "# Find ratio transmission and automatic\n",
        "manual =  cleaned_cs['transmission'].value_counts().get('manual', 0)\n",
        "\n",
        "auto = cleaned_cs['transmission'].value_counts().get('automatic', 0)\n",
        "\n",
        "total_m_and_a = cleaned_cs['transmission'].value_counts().get('manual', 0) + cleaned_cs['transmission'].value_counts().get('automatic', 0)\n",
        "\n",
        "total_ms = cleaned_cs['transmission'].isna().sum()\n",
        "\n",
        "# Calculate percentage between automatic and manual then round up\n",
        "m2allms_percent = manual / total_m_and_a * 100\n",
        "\n",
        "a2allms_percent  = auto / total_m_and_a * 100\n",
        "\n",
        "# Calculate how many rows it have to be replaced with 'NaN' in the column\n",
        "m2allms = m2allms_percent * total_ms / 100\n",
        "\n",
        "a2allms  =  a2allms_percent * total_ms / 100\n",
        "\n",
        "print('total missing value: ', total_ms, 'rows')\n",
        "print('manual to all_ms percentage: ',m2allms_percent, '%')\n",
        "print('auto to all_ms percentage: ',a2allms_percent, '%')\n",
        "print('count rows to fill missing value with manual: ',m2allms.round())\n",
        "print('count rows to fill missing value with auto: ',a2allms.round())"
      ]
    },
    {
      "cell_type": "code",
      "execution_count": 15,
      "metadata": {
        "execution": {
          "iopub.execute_input": "2024-05-16T09:51:20.023589Z",
          "iopub.status.busy": "2024-05-16T09:51:20.022943Z",
          "iopub.status.idle": "2024-05-16T09:51:20.054331Z",
          "shell.execute_reply": "2024-05-16T09:51:20.053478Z",
          "shell.execute_reply.started": "2024-05-16T09:51:20.023550Z"
        },
        "trusted": true,
        "id": "aE5MlCyFulnt",
        "outputId": "9597e8f1-56f4-4ef1-a2c8-3096bf618a93",
        "colab": {
          "base_uri": "https://localhost:8080/"
        }
      },
      "outputs": [
        {
          "output_type": "execute_result",
          "data": {
            "text/plain": [
              "transmission\n",
              "automatic    475915\n",
              "NaN           65378\n",
              "manual        17544\n",
              "Name: count, dtype: int64"
            ]
          },
          "metadata": {},
          "execution_count": 15
        }
      ],
      "source": [
        "cleaned_cs['transmission'].value_counts(dropna=False)"
      ]
    },
    {
      "cell_type": "code",
      "execution_count": 16,
      "metadata": {
        "execution": {
          "iopub.execute_input": "2024-05-16T09:51:20.055660Z",
          "iopub.status.busy": "2024-05-16T09:51:20.055358Z",
          "iopub.status.idle": "2024-05-16T09:51:20.180129Z",
          "shell.execute_reply": "2024-05-16T09:51:20.179232Z",
          "shell.execute_reply.started": "2024-05-16T09:51:20.055635Z"
        },
        "trusted": true,
        "id": "9dtYsYExulnt"
      },
      "outputs": [],
      "source": [
        "# Replace NaN with 'automatic' for 63054 rows\n",
        "auto_indices = cleaned_cs[cleaned_cs['transmission'].isnull()].sample(n=63054).index\n",
        "cleaned_cs.loc[auto_indices, 'transmission'] = 'automatic'\n",
        "\n",
        "# Replace NaN with 'manual' for 2412 rows\n",
        "manual_indices = cleaned_cs[cleaned_cs['transmission'].isnull()].sample(n=2324).index\n",
        "cleaned_cs.loc[manual_indices, 'transmission'] = 'manual'"
      ]
    },
    {
      "cell_type": "code",
      "execution_count": 17,
      "metadata": {
        "execution": {
          "iopub.execute_input": "2024-05-16T09:51:20.181491Z",
          "iopub.status.busy": "2024-05-16T09:51:20.181185Z",
          "iopub.status.idle": "2024-05-16T09:51:20.211856Z",
          "shell.execute_reply": "2024-05-16T09:51:20.210881Z",
          "shell.execute_reply.started": "2024-05-16T09:51:20.181466Z"
        },
        "trusted": true,
        "id": "Q9x7tEdlulnt",
        "outputId": "25320f8b-9d54-4614-8c64-2682edac3d60",
        "colab": {
          "base_uri": "https://localhost:8080/"
        }
      },
      "outputs": [
        {
          "output_type": "stream",
          "name": "stdout",
          "text": [
            "percentage:  transmission\n",
            "automatic    96.44\n",
            "manual        3.56\n",
            "Name: count, dtype: float64\n"
          ]
        }
      ],
      "source": [
        "# Check value count percentage After cleansing (it needs to be the same befor cleansing)\n",
        "value_counts = cleaned_cs['transmission'].value_counts(dropna=False)\n",
        "\n",
        "# Calculate the total count\n",
        "total_count = value_counts.sum()\n",
        "\n",
        "# Calculate the percentage of each value\n",
        "value_counts_percentage = (value_counts / total_count * 100).round(2)\n",
        "print('percentage: ', value_counts_percentage)\n"
      ]
    },
    {
      "cell_type": "code",
      "execution_count": 18,
      "metadata": {
        "execution": {
          "iopub.execute_input": "2024-05-16T09:51:20.213441Z",
          "iopub.status.busy": "2024-05-16T09:51:20.213094Z",
          "iopub.status.idle": "2024-05-16T09:51:20.250810Z",
          "shell.execute_reply": "2024-05-16T09:51:20.249668Z",
          "shell.execute_reply.started": "2024-05-16T09:51:20.213414Z"
        },
        "trusted": true,
        "id": "oosIx_u-ulnt",
        "outputId": "ee694124-b1ac-44b6-fe86-4b52ee291ae6",
        "colab": {
          "base_uri": "https://localhost:8080/"
        }
      },
      "outputs": [
        {
          "output_type": "execute_result",
          "data": {
            "text/plain": [
              "transmission\n",
              "automatic    538969\n",
              "manual        19868\n",
              "Name: count, dtype: int64"
            ]
          },
          "metadata": {},
          "execution_count": 18
        }
      ],
      "source": [
        "# Verify the column is clear\n",
        "cleaned_cs['transmission'].value_counts(dropna= False)"
      ]
    },
    {
      "cell_type": "code",
      "execution_count": 19,
      "metadata": {
        "execution": {
          "iopub.execute_input": "2024-05-16T09:51:20.252541Z",
          "iopub.status.busy": "2024-05-16T09:51:20.252188Z",
          "iopub.status.idle": "2024-05-16T09:51:20.272322Z",
          "shell.execute_reply": "2024-05-16T09:51:20.271333Z",
          "shell.execute_reply.started": "2024-05-16T09:51:20.252514Z"
        },
        "trusted": true,
        "id": "2zAu5pQPulnu",
        "outputId": "fc4dbe92-9251-4949-8ccc-0bda12a6d4df",
        "colab": {
          "base_uri": "https://localhost:8080/"
        }
      },
      "outputs": [
        {
          "output_type": "execute_result",
          "data": {
            "text/plain": [
              "year\n",
              "1982         2\n",
              "1983         1\n",
              "1984         5\n",
              "1985        10\n",
              "1986        11\n",
              "1987         8\n",
              "1988        11\n",
              "1989        20\n",
              "1990        49\n",
              "1991        67\n",
              "1992       132\n",
              "1993       205\n",
              "1994       392\n",
              "1995       711\n",
              "1996       851\n",
              "1997      1546\n",
              "1998      2149\n",
              "1999      3363\n",
              "2000      5227\n",
              "2001      6468\n",
              "2002      9715\n",
              "2003     13281\n",
              "2004     17342\n",
              "2005     21394\n",
              "2006     26913\n",
              "2007     30845\n",
              "2008     31502\n",
              "2009     20594\n",
              "2010     26485\n",
              "2011     48548\n",
              "2012    102315\n",
              "2013     98168\n",
              "2014     81070\n",
              "2015      9437\n",
              "Name: count, dtype: int64"
            ]
          },
          "metadata": {},
          "execution_count": 19
        }
      ],
      "source": [
        "# Cout value in the 'Year' column and see if there is 'NaN'\n",
        "cleaned_cs['year'].value_counts(dropna=False).sort_index()"
      ]
    },
    {
      "cell_type": "markdown",
      "metadata": {
        "id": "uyqrx7I1ulnu"
      },
      "source": []
    },
    {
      "cell_type": "code",
      "execution_count": 20,
      "metadata": {
        "execution": {
          "iopub.execute_input": "2024-05-16T09:51:20.274033Z",
          "iopub.status.busy": "2024-05-16T09:51:20.273689Z",
          "iopub.status.idle": "2024-05-16T09:51:20.308336Z",
          "shell.execute_reply": "2024-05-16T09:51:20.307372Z",
          "shell.execute_reply.started": "2024-05-16T09:51:20.274008Z"
        },
        "trusted": true,
        "id": "ucsGEFxdulnu",
        "outputId": "68410525-f36d-4875-8788-6b8b3975001f",
        "colab": {
          "base_uri": "https://localhost:8080/"
        }
      },
      "outputs": [
        {
          "output_type": "execute_result",
          "data": {
            "text/plain": [
              "make\n",
              "vw                 24\n",
              "volkswagen         24\n",
              "toyota             95\n",
              "suzuki              5\n",
              "subaru             60\n",
              "                ...  \n",
              "BMW             20719\n",
              "Audi             5869\n",
              "Aston Martin       25\n",
              "Acura            5901\n",
              "NaN             10301\n",
              "Name: count, Length: 97, dtype: int64"
            ]
          },
          "metadata": {},
          "execution_count": 20
        }
      ],
      "source": [
        "# Cout value in the 'make' column and see if there is 'NaN' or incorrect name\n",
        "cleaned_cs['make'].value_counts(dropna=False).sort_index(ascending=False)"
      ]
    },
    {
      "cell_type": "code",
      "execution_count": 21,
      "metadata": {
        "execution": {
          "iopub.execute_input": "2024-05-16T09:51:20.309978Z",
          "iopub.status.busy": "2024-05-16T09:51:20.309416Z",
          "iopub.status.idle": "2024-05-16T09:51:20.346784Z",
          "shell.execute_reply": "2024-05-16T09:51:20.345867Z",
          "shell.execute_reply.started": "2024-05-16T09:51:20.309942Z"
        },
        "trusted": true,
        "id": "iNnoafp-ulnu",
        "outputId": "505bc4a7-0123-42be-e178-4fce3b12d149",
        "colab": {
          "base_uri": "https://localhost:8080/"
        }
      },
      "outputs": [
        {
          "output_type": "stream",
          "name": "stdout",
          "text": [
            "Missing value percentage in the 'make'column:  1.84 %\n"
          ]
        }
      ],
      "source": [
        "# The missing value do not reach 5 percent of all rows, so droping null value is needed\n",
        "percent = cleaned_cs['make'].isnull().sum() / cleaned_cs.shape[0] * 100\n",
        "\n",
        "round_percent = percent.round(2)\n",
        "\n",
        "print(\"Missing value percentage in the 'make'column: \",round_percent, \"%\")"
      ]
    },
    {
      "cell_type": "code",
      "execution_count": 22,
      "metadata": {
        "execution": {
          "iopub.execute_input": "2024-05-16T09:51:20.348294Z",
          "iopub.status.busy": "2024-05-16T09:51:20.347946Z",
          "iopub.status.idle": "2024-05-16T09:51:20.517518Z",
          "shell.execute_reply": "2024-05-16T09:51:20.516319Z",
          "shell.execute_reply.started": "2024-05-16T09:51:20.348231Z"
        },
        "trusted": true,
        "id": "Y82_Au4Tulnu"
      },
      "outputs": [],
      "source": [
        "# Drop null valve in the column\n",
        "cleaned_cs = cleaned_cs.dropna(subset=['make'])"
      ]
    },
    {
      "cell_type": "code",
      "execution_count": 23,
      "metadata": {
        "execution": {
          "iopub.execute_input": "2024-05-16T09:51:20.519291Z",
          "iopub.status.busy": "2024-05-16T09:51:20.518802Z",
          "iopub.status.idle": "2024-05-16T09:51:20.553736Z",
          "shell.execute_reply": "2024-05-16T09:51:20.552748Z",
          "shell.execute_reply.started": "2024-05-16T09:51:20.519259Z"
        },
        "trusted": true,
        "id": "U7e7wFuxulnu",
        "outputId": "a55803e3-fc18-4f61-f2fb-1a37d1c809a4",
        "colab": {
          "base_uri": "https://localhost:8080/"
        }
      },
      "outputs": [
        {
          "output_type": "execute_result",
          "data": {
            "text/plain": [
              "make\n",
              "vw                 24\n",
              "volkswagen         24\n",
              "toyota             95\n",
              "suzuki              5\n",
              "subaru             60\n",
              "                ...  \n",
              "Bentley           116\n",
              "BMW             20719\n",
              "Audi             5869\n",
              "Aston Martin       25\n",
              "Acura            5901\n",
              "Name: count, Length: 96, dtype: int64"
            ]
          },
          "metadata": {},
          "execution_count": 23
        }
      ],
      "source": [
        "# Recheck null value is already removed\n",
        "cleaned_cs['make'].value_counts(dropna=False).sort_index(ascending=False)"
      ]
    },
    {
      "cell_type": "markdown",
      "metadata": {
        "id": "yXAzkW_yulnv"
      },
      "source": [
        "### Chatgpt is needed to get answer which one is not a car brand name.\n",
        "\n",
        "This is my personal helper's answer: The item 'dot' is not a car brand name. It might refer to the Department of Transportation (DOT) or another entity, as it is not a commonly known car brand."
      ]
    },
    {
      "cell_type": "code",
      "execution_count": 24,
      "metadata": {
        "execution": {
          "iopub.execute_input": "2024-05-16T09:51:20.555456Z",
          "iopub.status.busy": "2024-05-16T09:51:20.555108Z",
          "iopub.status.idle": "2024-05-16T09:51:20.595046Z",
          "shell.execute_reply": "2024-05-16T09:51:20.593990Z",
          "shell.execute_reply.started": "2024-05-16T09:51:20.555425Z"
        },
        "trusted": true,
        "id": "3RkPNU6Qulnv",
        "outputId": "07e11d90-db01-4abf-fb52-fc9f1583a1f6",
        "colab": {
          "base_uri": "https://localhost:8080/"
        }
      },
      "outputs": [
        {
          "output_type": "stream",
          "name": "stdout",
          "text": [
            "['Acura', 'Aston Martin', 'Audi', 'BMW', 'Bentley', 'Buick', 'Cadillac', 'Chevrolet', 'Chrysler', 'Daewoo', 'Dodge', 'FIAT', 'Ferrari', 'Fisker', 'Ford', 'GMC', 'Geo', 'HUMMER', 'Honda', 'Hyundai', 'Infiniti', 'Isuzu', 'Jaguar', 'Jeep', 'Kia', 'Lamborghini', 'Land Rover', 'Lexus', 'Lincoln', 'Lotus', 'MINI', 'Maserati', 'Mazda', 'Mercedes-Benz', 'Mercury', 'Mitsubishi', 'Nissan', 'Oldsmobile', 'Plymouth', 'Pontiac', 'Porsche', 'Ram', 'Rolls-Royce', 'Saab', 'Saturn', 'Scion', 'Subaru', 'Suzuki', 'Tesla', 'Toyota', 'Volkswagen', 'Volvo', 'acura', 'airstream', 'audi', 'bmw', 'buick', 'cadillac', 'chev truck', 'chevrolet', 'chrysler', 'dodge', 'dodge tk', 'dot', 'ford', 'ford tk', 'ford truck', 'gmc', 'gmc truck', 'honda', 'hyundai', 'hyundai tk', 'jeep', 'kia', 'land rover', 'landrover', 'lexus', 'lincoln', 'maserati', 'mazda', 'mazda tk', 'mercedes', 'mercedes-b', 'mercury', 'mitsubishi', 'nissan', 'oldsmobile', 'plymouth', 'pontiac', 'porsche', 'smart', 'subaru', 'suzuki', 'toyota', 'volkswagen', 'vw']\n"
          ]
        }
      ],
      "source": [
        "# It is needed to rearrange the unique value in the column in order to easily transform the data\n",
        "un_value_make = cleaned_cs['make'].unique()\n",
        "\n",
        "un_valve_make_sort = sorted(un_value_make)\n",
        "\n",
        "print(un_valve_make_sort)"
      ]
    },
    {
      "cell_type": "code",
      "execution_count": 25,
      "metadata": {
        "execution": {
          "iopub.execute_input": "2024-05-16T09:51:20.597119Z",
          "iopub.status.busy": "2024-05-16T09:51:20.596602Z",
          "iopub.status.idle": "2024-05-16T09:51:21.293299Z",
          "shell.execute_reply": "2024-05-16T09:51:21.292219Z",
          "shell.execute_reply.started": "2024-05-16T09:51:20.597061Z"
        },
        "trusted": true,
        "id": "YzzGlwd9ulnv"
      },
      "outputs": [],
      "source": [
        "# Remove 'dot' in the column\n",
        "cleaned_cs = cleaned_cs[cleaned_cs['make'] != 'dot'].copy()\n",
        "\n",
        "# List car brand name to be replaced\n",
        "name_replace_list = {'dodge tk':'dodge','ford tk':'ford','ford truck':'ford','gmc truck':'gmc','hyundai tk': 'hyundai','mazda tk':'mazda', 'mercedes-b':'mercedes-benz', 'mercedes':'mercedes-benz','vw':'volkswagen','chev truck':'chevrolet'}\n",
        "\n",
        "# Replace the value\n",
        "cleaned_cs.loc[:, 'make'] = cleaned_cs['make'].replace(name_replace_list)\n"
      ]
    },
    {
      "cell_type": "code",
      "execution_count": 26,
      "metadata": {
        "execution": {
          "iopub.execute_input": "2024-05-16T09:51:21.296099Z",
          "iopub.status.busy": "2024-05-16T09:51:21.294565Z",
          "iopub.status.idle": "2024-05-16T09:51:21.440479Z",
          "shell.execute_reply": "2024-05-16T09:51:21.439478Z",
          "shell.execute_reply.started": "2024-05-16T09:51:21.296054Z"
        },
        "trusted": true,
        "id": "9NUWBiheulnv",
        "outputId": "3a77cc90-341e-4a1b-93b8-ba9ded76b07f",
        "colab": {
          "base_uri": "https://localhost:8080/"
        }
      },
      "outputs": [
        {
          "output_type": "execute_result",
          "data": {
            "text/plain": [
              "array(['kia', 'bmw', 'volvo', 'nissan', 'chevrolet', 'audi', 'ford',\n",
              "       'hyundai', 'buick', 'cadillac', 'acura', 'lexus', 'infiniti',\n",
              "       'jeep', 'mercedes-benz', 'mitsubishi', 'mazda', 'mini',\n",
              "       'land rover', 'lincoln', 'jaguar', 'volkswagen', 'toyota',\n",
              "       'subaru', 'scion', 'porsche', 'dodge', 'fiat', 'chrysler',\n",
              "       'ferrari', 'honda', 'gmc', 'ram', 'smart', 'bentley', 'pontiac',\n",
              "       'saturn', 'maserati', 'mercury', 'hummer', 'landrover', 'saab',\n",
              "       'suzuki', 'oldsmobile', 'isuzu', 'geo', 'rolls-royce', 'daewoo',\n",
              "       'plymouth', 'tesla', 'airstream', 'aston martin', 'fisker',\n",
              "       'lamborghini', 'lotus'], dtype=object)"
            ]
          },
          "metadata": {},
          "execution_count": 26
        }
      ],
      "source": [
        "# Lower the case\n",
        "cleaned_cs.loc[:, 'make'] = cleaned_cs['make'].str.lower()\n",
        "cleaned_cs['make'].unique()"
      ]
    },
    {
      "cell_type": "code",
      "execution_count": 27,
      "metadata": {
        "execution": {
          "iopub.execute_input": "2024-05-16T09:51:21.442061Z",
          "iopub.status.busy": "2024-05-16T09:51:21.441755Z",
          "iopub.status.idle": "2024-05-16T09:51:22.171711Z",
          "shell.execute_reply": "2024-05-16T09:51:22.170599Z",
          "shell.execute_reply.started": "2024-05-16T09:51:21.442036Z"
        },
        "trusted": true,
        "id": "ZjMtXZTaulnv",
        "outputId": "0db12019-e60e-4df7-f635-1bc1593af68b",
        "colab": {
          "base_uri": "https://localhost:8080/"
        }
      },
      "outputs": [
        {
          "output_type": "execute_result",
          "data": {
            "text/plain": [
              "array(['acura', 'airstream', 'aston martin', 'audi', 'bentley', 'bmw',\n",
              "       'buick', 'cadillac', 'chevrolet', 'chrysler', 'daewoo', 'dodge',\n",
              "       'ferrari', 'fiat', 'fisker', 'ford', 'geo', 'gmc', 'honda',\n",
              "       'hummer', 'hyundai', 'infiniti', 'isuzu', 'jaguar', 'jeep', 'kia',\n",
              "       'lamborghini', 'land rover', 'landrover', 'lexus', 'lincoln',\n",
              "       'lotus', 'maserati', 'mazda', 'mercedes-benz', 'mercury', 'mini',\n",
              "       'mitsubishi', 'nissan', 'oldsmobile', 'plymouth', 'pontiac',\n",
              "       'porsche', 'ram', 'rolls-royce', 'saab', 'saturn', 'scion',\n",
              "       'smart', 'subaru', 'suzuki', 'tesla', 'toyota', 'volkswagen',\n",
              "       'volvo'], dtype=object)"
            ]
          },
          "metadata": {},
          "execution_count": 27
        }
      ],
      "source": [
        "# Make sure the data is already cleansed\n",
        "done = cleaned_cs['make'].sort_values().unique()\n",
        "\n",
        "done"
      ]
    },
    {
      "cell_type": "code",
      "execution_count": 28,
      "metadata": {
        "execution": {
          "iopub.execute_input": "2024-05-16T09:51:22.178888Z",
          "iopub.status.busy": "2024-05-16T09:51:22.178545Z",
          "iopub.status.idle": "2024-05-16T09:51:22.210767Z",
          "shell.execute_reply": "2024-05-16T09:51:22.209600Z",
          "shell.execute_reply.started": "2024-05-16T09:51:22.178861Z"
        },
        "trusted": true,
        "id": "U56pa3qMulnv",
        "outputId": "1738c85a-cade-442e-a5e8-efab2a7875a8",
        "colab": {
          "base_uri": "https://localhost:8080/"
        }
      },
      "outputs": [
        {
          "output_type": "execute_result",
          "data": {
            "text/plain": [
              "98"
            ]
          },
          "metadata": {},
          "execution_count": 28
        }
      ],
      "source": [
        "# Count null value in the 'model' column\n",
        "cleaned_cs['model'].isnull().sum()"
      ]
    },
    {
      "cell_type": "code",
      "execution_count": 29,
      "metadata": {
        "execution": {
          "iopub.execute_input": "2024-05-16T09:51:22.212543Z",
          "iopub.status.busy": "2024-05-16T09:51:22.212241Z",
          "iopub.status.idle": "2024-05-16T09:51:22.448896Z",
          "shell.execute_reply": "2024-05-16T09:51:22.447848Z",
          "shell.execute_reply.started": "2024-05-16T09:51:22.212518Z"
        },
        "trusted": true,
        "id": "O49vN-Blulnw"
      },
      "outputs": [],
      "source": [
        "# Remove null value\n",
        "cleaned_cs = cleaned_cs.dropna(subset=['model'])\n",
        "\n",
        "# Lower character\n",
        "cleaned_cs['model'] = cleaned_cs['model'].str.lower()"
      ]
    },
    {
      "cell_type": "code",
      "execution_count": 30,
      "metadata": {
        "execution": {
          "iopub.execute_input": "2024-05-16T09:51:22.450605Z",
          "iopub.status.busy": "2024-05-16T09:51:22.450313Z",
          "iopub.status.idle": "2024-05-16T09:51:22.515142Z",
          "shell.execute_reply": "2024-05-16T09:51:22.513943Z",
          "shell.execute_reply.started": "2024-05-16T09:51:22.450580Z"
        },
        "trusted": true,
        "id": "YgavLioUulnw",
        "outputId": "adbf54f6-81ff-453b-abff-10385472ef2d",
        "colab": {
          "base_uri": "https://localhost:8080/"
        }
      },
      "outputs": [
        {
          "output_type": "execute_result",
          "data": {
            "text/plain": [
              "model\n",
              "458 italia        1\n",
              "swift             1\n",
              "323i              1\n",
              "cabriolet         1\n",
              "b-series          1\n",
              "              ...  \n",
              "escape        11893\n",
              "camry         12549\n",
              "fusion        12946\n",
              "f-150         14479\n",
              "altima        19349\n",
              "Name: count, Length: 851, dtype: int64"
            ]
          },
          "metadata": {},
          "execution_count": 30
        }
      ],
      "source": [
        "# See unique value in the 'model' column\n",
        "cleaned_cs['model'].value_counts().sort_values()"
      ]
    },
    {
      "cell_type": "code",
      "execution_count": 31,
      "metadata": {
        "execution": {
          "iopub.execute_input": "2024-05-16T09:51:22.517002Z",
          "iopub.status.busy": "2024-05-16T09:51:22.516652Z",
          "iopub.status.idle": "2024-05-16T09:51:22.548943Z",
          "shell.execute_reply": "2024-05-16T09:51:22.548158Z",
          "shell.execute_reply.started": "2024-05-16T09:51:22.516976Z"
        },
        "trusted": true,
        "id": "qQkZowVruln0",
        "outputId": "f5ebf839-b5d7-4f9e-a36f-6d17dfcca8ab",
        "colab": {
          "base_uri": "https://localhost:8080/"
        }
      },
      "outputs": [
        {
          "output_type": "execute_result",
          "data": {
            "text/plain": [
              "1962"
            ]
          },
          "metadata": {},
          "execution_count": 31
        }
      ],
      "source": [
        "# Count unique value in the 'model' column\n",
        "cleaned_cs['trim'].nunique()"
      ]
    },
    {
      "cell_type": "code",
      "execution_count": 32,
      "metadata": {
        "execution": {
          "iopub.execute_input": "2024-05-16T09:51:22.550591Z",
          "iopub.status.busy": "2024-05-16T09:51:22.550273Z",
          "iopub.status.idle": "2024-05-16T09:51:22.584551Z",
          "shell.execute_reply": "2024-05-16T09:51:22.583593Z",
          "shell.execute_reply.started": "2024-05-16T09:51:22.550565Z"
        },
        "trusted": true,
        "id": "SX5l3dTRuln0",
        "outputId": "4bcb4874-6027-4d8f-a557-1da928a53417",
        "colab": {
          "base_uri": "https://localhost:8080/"
        }
      },
      "outputs": [
        {
          "output_type": "execute_result",
          "data": {
            "text/plain": [
              "349"
            ]
          },
          "metadata": {},
          "execution_count": 32
        }
      ],
      "source": [
        "# Count missing value in the 'model' column\n",
        "cleaned_cs['trim'].isnull().sum()"
      ]
    },
    {
      "cell_type": "code",
      "execution_count": 33,
      "metadata": {
        "execution": {
          "iopub.execute_input": "2024-05-16T09:51:22.586149Z",
          "iopub.status.busy": "2024-05-16T09:51:22.585812Z",
          "iopub.status.idle": "2024-05-16T09:51:22.731839Z",
          "shell.execute_reply": "2024-05-16T09:51:22.730806Z",
          "shell.execute_reply.started": "2024-05-16T09:51:22.586121Z"
        },
        "trusted": true,
        "id": "0O5LZp8huln0"
      },
      "outputs": [],
      "source": [
        "# Remove null value\n",
        "cleaned_cs = cleaned_cs.dropna(subset=['trim'])"
      ]
    },
    {
      "cell_type": "code",
      "execution_count": 34,
      "metadata": {
        "execution": {
          "iopub.execute_input": "2024-05-16T09:51:22.733613Z",
          "iopub.status.busy": "2024-05-16T09:51:22.733302Z",
          "iopub.status.idle": "2024-05-16T09:51:22.763199Z",
          "shell.execute_reply": "2024-05-16T09:51:22.762467Z",
          "shell.execute_reply.started": "2024-05-16T09:51:22.733588Z"
        },
        "trusted": true,
        "id": "zrbG0CaLuln0",
        "outputId": "4391c1ac-5aa6-46a0-8548-8dc2e932aea9",
        "colab": {
          "base_uri": "https://localhost:8080/"
        }
      },
      "outputs": [
        {
          "output_type": "execute_result",
          "data": {
            "text/plain": [
              "0"
            ]
          },
          "metadata": {},
          "execution_count": 34
        }
      ],
      "source": [
        "# Count null value after removing\n",
        "cleaned_cs['trim'].isnull().sum()"
      ]
    },
    {
      "cell_type": "markdown",
      "metadata": {
        "id": "R1hEuslnuln1"
      },
      "source": [
        "# Body column"
      ]
    },
    {
      "cell_type": "code",
      "execution_count": 35,
      "metadata": {
        "execution": {
          "iopub.execute_input": "2024-05-16T09:51:22.765191Z",
          "iopub.status.busy": "2024-05-16T09:51:22.764678Z",
          "iopub.status.idle": "2024-05-16T09:51:22.817805Z",
          "shell.execute_reply": "2024-05-16T09:51:22.816792Z",
          "shell.execute_reply.started": "2024-05-16T09:51:22.765164Z"
        },
        "trusted": true,
        "id": "uRZYf9xauln1",
        "outputId": "e7de56ba-48f7-49f7-8250-7d891e8f189f",
        "colab": {
          "base_uri": "https://localhost:8080/"
        }
      },
      "outputs": [
        {
          "output_type": "execute_result",
          "data": {
            "text/plain": [
              "body\n",
              "Sedan          199364\n",
              "SUV            119292\n",
              "sedan           41881\n",
              "suv             24552\n",
              "Hatchback       21380\n",
              "                ...  \n",
              "cab plus 4          1\n",
              "g37 coupe           1\n",
              "CTS-V Wagon         1\n",
              "Ram Van             1\n",
              "cts wagon           1\n",
              "Name: count, Length: 87, dtype: int64"
            ]
          },
          "metadata": {},
          "execution_count": 35
        }
      ],
      "source": [
        "cleaned_cs['body'].value_counts()"
      ]
    },
    {
      "cell_type": "code",
      "execution_count": 36,
      "metadata": {
        "execution": {
          "iopub.execute_input": "2024-05-16T09:51:22.819913Z",
          "iopub.status.busy": "2024-05-16T09:51:22.819151Z",
          "iopub.status.idle": "2024-05-16T09:51:22.854279Z",
          "shell.execute_reply": "2024-05-16T09:51:22.853385Z",
          "shell.execute_reply.started": "2024-05-16T09:51:22.819883Z"
        },
        "trusted": true,
        "id": "4Wt5Vfwuuln1",
        "outputId": "1e89722a-6d95-4ca4-ba42-838654211468",
        "colab": {
          "base_uri": "https://localhost:8080/"
        }
      },
      "outputs": [
        {
          "output_type": "execute_result",
          "data": {
            "text/plain": [
              "array(['SUV', 'Sedan', 'Convertible', 'Coupe', 'Wagon', 'Hatchback',\n",
              "       'Crew Cab', 'G Coupe', 'G Sedan', 'Elantra Coupe', 'Genesis Coupe',\n",
              "       'Minivan', nan, 'Van', 'Double Cab', 'CrewMax Cab', 'Access Cab',\n",
              "       'King Cab', 'SuperCrew', 'CTS Coupe', 'Extended Cab',\n",
              "       'E-Series Van', 'SuperCab', 'Regular Cab', 'G Convertible', 'Koup',\n",
              "       'Quad Cab', 'CTS-V Coupe', 'sedan', 'G37 Convertible', 'Club Cab',\n",
              "       'Xtracab', 'Q60 Convertible', 'CTS Wagon', 'convertible',\n",
              "       'G37 Coupe', 'Mega Cab', 'Cab Plus 4', 'Q60 Coupe', 'Cab Plus',\n",
              "       'Beetle Convertible', 'TSX Sport Wagon', 'Promaster Cargo Van',\n",
              "       'GranTurismo Convertible', 'CTS-V Wagon', 'Ram Van', 'minivan',\n",
              "       'suv', 'Transit Van', 'Navitgation', 'van', 'regular-cab',\n",
              "       'g sedan', 'g coupe', 'hatchback', 'king cab', 'supercrew',\n",
              "       'g convertible', 'coupe', 'crew cab', 'wagon', 'double cab',\n",
              "       'e-series van', 'regular cab', 'quad cab', 'g37 convertible',\n",
              "       'supercab', 'extended cab', 'crewmax cab', 'genesis coupe',\n",
              "       'access cab', 'mega cab', 'xtracab', 'beetle convertible',\n",
              "       'cts coupe', 'koup', 'club cab', 'elantra coupe', 'q60 coupe',\n",
              "       'cts-v coupe', 'transit van', 'granturismo convertible',\n",
              "       'tsx sport wagon', 'promaster cargo van', 'q60 convertible',\n",
              "       'g37 coupe', 'cab plus 4', 'cts wagon'], dtype=object)"
            ]
          },
          "metadata": {},
          "execution_count": 36
        }
      ],
      "source": [
        "cleaned_cs['body'].unique()"
      ]
    },
    {
      "cell_type": "code",
      "execution_count": 37,
      "metadata": {
        "execution": {
          "iopub.execute_input": "2024-05-16T09:51:22.855917Z",
          "iopub.status.busy": "2024-05-16T09:51:22.855612Z",
          "iopub.status.idle": "2024-05-16T09:51:22.891815Z",
          "shell.execute_reply": "2024-05-16T09:51:22.890442Z",
          "shell.execute_reply.started": "2024-05-16T09:51:22.855892Z"
        },
        "trusted": true,
        "id": "Laive1sXuln1",
        "outputId": "67bf2142-dd41-42ed-e596-522c8bfc07dc",
        "colab": {
          "base_uri": "https://localhost:8080/"
        }
      },
      "outputs": [
        {
          "output_type": "execute_result",
          "data": {
            "text/plain": [
              "2544"
            ]
          },
          "metadata": {},
          "execution_count": 37
        }
      ],
      "source": [
        "# Count null value in the 'model' column\n",
        "cleaned_cs['body'].isnull().sum()"
      ]
    },
    {
      "cell_type": "code",
      "execution_count": 38,
      "metadata": {
        "execution": {
          "iopub.execute_input": "2024-05-16T09:51:22.894328Z",
          "iopub.status.busy": "2024-05-16T09:51:22.893242Z",
          "iopub.status.idle": "2024-05-16T09:51:23.157351Z",
          "shell.execute_reply": "2024-05-16T09:51:23.156336Z",
          "shell.execute_reply.started": "2024-05-16T09:51:22.894285Z"
        },
        "trusted": true,
        "id": "8MiRpWEBuln1"
      },
      "outputs": [],
      "source": [
        "# Remove null value\n",
        "cleaned_cs = cleaned_cs.dropna(subset=['body'])\n",
        "\n",
        "# Lower character\n",
        "cleaned_cs.loc[:, 'body'] = cleaned_cs['body'].str.lower()\n"
      ]
    },
    {
      "cell_type": "code",
      "execution_count": 39,
      "metadata": {
        "execution": {
          "iopub.execute_input": "2024-05-16T09:51:23.159016Z",
          "iopub.status.busy": "2024-05-16T09:51:23.158673Z",
          "iopub.status.idle": "2024-05-16T09:51:23.202262Z",
          "shell.execute_reply": "2024-05-16T09:51:23.201257Z",
          "shell.execute_reply.started": "2024-05-16T09:51:23.158990Z"
        },
        "trusted": true,
        "id": "8D2KoDMPuln1",
        "outputId": "59b13faf-1ca8-4afe-f73a-51111972bfa2",
        "colab": {
          "base_uri": "https://localhost:8080/"
        }
      },
      "outputs": [
        {
          "output_type": "execute_result",
          "data": {
            "text/plain": [
              "array(['suv', 'sedan', 'convertible', 'coupe', 'wagon', 'hatchback',\n",
              "       'crew cab', 'g coupe', 'g sedan', 'elantra coupe', 'genesis coupe',\n",
              "       'minivan', 'van', 'double cab', 'crewmax cab', 'access cab',\n",
              "       'king cab', 'supercrew', 'cts coupe', 'extended cab',\n",
              "       'e-series van', 'supercab', 'regular cab', 'g convertible', 'koup',\n",
              "       'quad cab', 'cts-v coupe', 'g37 convertible', 'club cab',\n",
              "       'xtracab', 'q60 convertible', 'cts wagon', 'g37 coupe', 'mega cab',\n",
              "       'cab plus 4', 'q60 coupe', 'cab plus', 'beetle convertible',\n",
              "       'tsx sport wagon', 'promaster cargo van',\n",
              "       'granturismo convertible', 'cts-v wagon', 'ram van', 'transit van',\n",
              "       'navitgation', 'regular-cab'], dtype=object)"
            ]
          },
          "metadata": {},
          "execution_count": 39
        }
      ],
      "source": [
        "cleaned_cs['body'].unique()"
      ]
    },
    {
      "cell_type": "code",
      "execution_count": 40,
      "metadata": {
        "execution": {
          "iopub.execute_input": "2024-05-16T09:51:23.203891Z",
          "iopub.status.busy": "2024-05-16T09:51:23.203615Z",
          "iopub.status.idle": "2024-05-16T09:51:23.251278Z",
          "shell.execute_reply": "2024-05-16T09:51:23.250227Z",
          "shell.execute_reply.started": "2024-05-16T09:51:23.203869Z"
        },
        "trusted": true,
        "id": "V6wN1WC_uln1",
        "outputId": "f9c6f381-f890-47ab-dfed-3cac3b38c35d",
        "colab": {
          "base_uri": "https://localhost:8080/"
        }
      },
      "outputs": [
        {
          "output_type": "execute_result",
          "data": {
            "text/plain": [
              "state\n",
              "fl                   81150\n",
              "ca                   71131\n",
              "pa                   53054\n",
              "tx                   44955\n",
              "ga                   33885\n",
              "                     ...  \n",
              "3vwd17aj2fm285365        1\n",
              "3vwd17aj3fm276741        1\n",
              "3vwd17aj2fm258506        1\n",
              "3vwd17aj4fm201708        1\n",
              "3vwd17aj2fm261566        1\n",
              "Name: count, Length: 64, dtype: int64"
            ]
          },
          "metadata": {},
          "execution_count": 40
        }
      ],
      "source": [
        "cleaned_cs['state'].value_counts()"
      ]
    },
    {
      "cell_type": "code",
      "execution_count": 41,
      "metadata": {
        "execution": {
          "iopub.execute_input": "2024-05-16T09:51:23.253060Z",
          "iopub.status.busy": "2024-05-16T09:51:23.252662Z",
          "iopub.status.idle": "2024-05-16T09:51:23.290254Z",
          "shell.execute_reply": "2024-05-16T09:51:23.289275Z",
          "shell.execute_reply.started": "2024-05-16T09:51:23.253024Z"
        },
        "trusted": true,
        "id": "e1QbY5XRuln2",
        "outputId": "756cd24c-6052-4bda-c7ba-d95bf86b5983",
        "colab": {
          "base_uri": "https://localhost:8080/"
        }
      },
      "outputs": [
        {
          "output_type": "execute_result",
          "data": {
            "text/plain": [
              "array(['ca', 'tx', 'pa', 'mn', 'az', 'wi', 'tn', 'md', 'fl', 'ne', 'nv',\n",
              "       'oh', 'mi', 'nj', 'ga', 'va', 'sc', 'nc', 'in', 'il', 'co', 'ut',\n",
              "       'mo', 'ny', 'ma', 'pr', 'or', 'la', 'wa', 'hi', 'qc', 'ab', 'on',\n",
              "       'ok', 'ms', 'nm', 'al', '3vwd17aj4fm201708', 'ns',\n",
              "       '3vwd17aj2fm258506', '3vwd17aj3fm276741', '3vwd17aj2fm285365',\n",
              "       '3vwd17aj0fm227318', '3vwd17aj6fm218641', '3vwd17aj7fm223475',\n",
              "       '3vwd17aj5fm297123', '3vwd17aj5fm219943', '3vwd17aj9fm219766',\n",
              "       '3vwd17aj3fm259017', '3vwd17aj5fm206111', '3vwd17aj5fm273601',\n",
              "       '3vwd17aj5fm221322', '3vwd17aj5fm268964', '3vwd17aj6fm231972',\n",
              "       '3vwd17aj7fm222388', '3vwd17aj7fm218440', '3vwd17ajxfm315938',\n",
              "       '3vwd17aj7fm229552', '3vwd17aj8fm298895', '3vwd17aj4fm236636',\n",
              "       '3vwd17aj5fm225953', '3vwd17aj7fm326640', '3vwd17aj8fm239622',\n",
              "       '3vwd17aj2fm261566'], dtype=object)"
            ]
          },
          "metadata": {},
          "execution_count": 41
        }
      ],
      "source": [
        "cleaned_cs['state'].unique()"
      ]
    },
    {
      "cell_type": "code",
      "execution_count": 42,
      "metadata": {
        "execution": {
          "iopub.execute_input": "2024-05-16T09:51:23.291674Z",
          "iopub.status.busy": "2024-05-16T09:51:23.291339Z",
          "iopub.status.idle": "2024-05-16T09:51:23.296648Z",
          "shell.execute_reply": "2024-05-16T09:51:23.295579Z",
          "shell.execute_reply.started": "2024-05-16T09:51:23.291650Z"
        },
        "trusted": true,
        "id": "vCSKPYFbuln2"
      },
      "outputs": [],
      "source": [
        "state_remove_list = ['3vwd17aj4fm201708','3vwd17aj2fm258506', '3vwd17aj3fm276741', '3vwd17aj2fm285365',\n",
        "                       '3vwd17aj0fm227318', '3vwd17aj6fm218641', '3vwd17aj7fm223475',\n",
        "        '3vwd17aj5fm297123', '3vwd17aj5fm219943', '3vwd17aj9fm219766',\n",
        "       '3vwd17aj3fm259017', '3vwd17aj5fm206111', '3vwd17aj5fm273601',\n",
        "       '3vwd17aj5fm221322', '3vwd17aj5fm268964', '3vwd17aj6fm231972',\n",
        "       '3vwd17aj7fm222388', '3vwd17aj7fm218440', '3vwd17ajxfm315938',\n",
        "       '3vwd17aj7fm229552', '3vwd17aj8fm298895', '3vwd17aj4fm236636',\n",
        "       '3vwd17aj5fm225953', '3vwd17aj7fm326640', '3vwd17aj8fm239622',\n",
        "       '3vwd17aj2fm261566']"
      ]
    },
    {
      "cell_type": "code",
      "execution_count": 43,
      "metadata": {
        "execution": {
          "iopub.execute_input": "2024-05-16T09:51:23.298432Z",
          "iopub.status.busy": "2024-05-16T09:51:23.297523Z",
          "iopub.status.idle": "2024-05-16T09:51:23.422731Z",
          "shell.execute_reply": "2024-05-16T09:51:23.421783Z",
          "shell.execute_reply.started": "2024-05-16T09:51:23.298404Z"
        },
        "trusted": true,
        "id": "q8XqEghnuln2"
      },
      "outputs": [],
      "source": [
        "cleaned_cs = cleaned_cs[~cleaned_cs['state'].isin(state_remove_list)]\n"
      ]
    },
    {
      "cell_type": "code",
      "execution_count": 44,
      "metadata": {
        "execution": {
          "iopub.execute_input": "2024-05-16T09:51:23.424635Z",
          "iopub.status.busy": "2024-05-16T09:51:23.424236Z",
          "iopub.status.idle": "2024-05-16T09:51:23.462527Z",
          "shell.execute_reply": "2024-05-16T09:51:23.461576Z",
          "shell.execute_reply.started": "2024-05-16T09:51:23.424600Z"
        },
        "trusted": true,
        "id": "RL-gaVmXuln2",
        "outputId": "7d18553b-ec27-4b38-c95c-fccdc4be7fb7",
        "colab": {
          "base_uri": "https://localhost:8080/"
        }
      },
      "outputs": [
        {
          "output_type": "execute_result",
          "data": {
            "text/plain": [
              "array(['ca', 'tx', 'pa', 'mn', 'az', 'wi', 'tn', 'md', 'fl', 'ne', 'nv',\n",
              "       'oh', 'mi', 'nj', 'ga', 'va', 'sc', 'nc', 'in', 'il', 'co', 'ut',\n",
              "       'mo', 'ny', 'ma', 'pr', 'or', 'la', 'wa', 'hi', 'qc', 'ab', 'on',\n",
              "       'ok', 'ms', 'nm', 'al', 'ns'], dtype=object)"
            ]
          },
          "metadata": {},
          "execution_count": 44
        }
      ],
      "source": [
        "cleaned_cs['state'].unique()"
      ]
    },
    {
      "cell_type": "markdown",
      "metadata": {
        "id": "JAcUYAU5uln2"
      },
      "source": [
        "# Condition col"
      ]
    },
    {
      "cell_type": "code",
      "execution_count": 45,
      "metadata": {
        "execution": {
          "iopub.execute_input": "2024-05-16T09:51:23.464146Z",
          "iopub.status.busy": "2024-05-16T09:51:23.463831Z",
          "iopub.status.idle": "2024-05-16T09:51:23.479068Z",
          "shell.execute_reply": "2024-05-16T09:51:23.478096Z",
          "shell.execute_reply.started": "2024-05-16T09:51:23.464119Z"
        },
        "trusted": true,
        "id": "Mwv7k4KEuln2",
        "outputId": "561be6ac-0f27-41a8-8122-4f9c57e44e3a",
        "colab": {
          "base_uri": "https://localhost:8080/"
        }
      },
      "outputs": [
        {
          "output_type": "execute_result",
          "data": {
            "text/plain": [
              "array([ 5., 45., 41., 43.,  1., 34.,  2., 42.,  3., 48., nan, 49., 17.,\n",
              "       19., 29., 38., 44., 47., 32.,  4., 25., 37., 39., 31., 28., 46.,\n",
              "       36., 35., 26., 21., 22., 27., 24., 33., 23., 15., 16., 18., 12.,\n",
              "       14., 11., 13.])"
            ]
          },
          "metadata": {},
          "execution_count": 45
        }
      ],
      "source": [
        "cleaned_cs['condition'].unique()"
      ]
    },
    {
      "cell_type": "code",
      "execution_count": 46,
      "metadata": {
        "execution": {
          "iopub.execute_input": "2024-05-16T09:51:23.480440Z",
          "iopub.status.busy": "2024-05-16T09:51:23.480176Z",
          "iopub.status.idle": "2024-05-16T09:51:23.500858Z",
          "shell.execute_reply": "2024-05-16T09:51:23.499725Z",
          "shell.execute_reply.started": "2024-05-16T09:51:23.480418Z"
        },
        "trusted": true,
        "id": "rucugsbfuln3",
        "outputId": "18380f67-dddc-4c36-9b1a-313a4503a6c7",
        "colab": {
          "base_uri": "https://localhost:8080/"
        }
      },
      "outputs": [
        {
          "output_type": "execute_result",
          "data": {
            "text/plain": [
              "condition\n",
              "19.0    40426\n",
              "35.0    26206\n",
              "37.0    25507\n",
              "44.0    25222\n",
              "43.0    24695\n",
              "42.0    24066\n",
              "41.0    22771\n",
              "36.0    22752\n",
              "39.0    19665\n",
              "4.0     19633\n",
              "2.0     19623\n",
              "28.0    18648\n",
              "29.0    18424\n",
              "38.0    18413\n",
              "34.0    17022\n",
              "27.0    15797\n",
              "49.0    12904\n",
              "48.0    12570\n",
              "46.0    12499\n",
              "45.0    12174\n",
              "25.0    12146\n",
              "26.0    11557\n",
              "47.0    11236\n",
              "NaN     11200\n",
              "5.0     11048\n",
              "3.0     10477\n",
              "33.0    10372\n",
              "32.0     9727\n",
              "24.0     9037\n",
              "31.0     9016\n",
              "21.0     8827\n",
              "23.0     7892\n",
              "1.0      6911\n",
              "22.0     5831\n",
              "18.0      312\n",
              "17.0      224\n",
              "16.0      169\n",
              "15.0      133\n",
              "14.0      127\n",
              "12.0       94\n",
              "11.0       86\n",
              "13.0       79\n",
              "Name: count, dtype: int64"
            ]
          },
          "metadata": {},
          "execution_count": 46
        }
      ],
      "source": [
        "cleaned_cs['condition'].value_counts(dropna=False)"
      ]
    },
    {
      "cell_type": "code",
      "execution_count": 47,
      "metadata": {
        "execution": {
          "iopub.execute_input": "2024-05-16T09:51:23.880797Z",
          "iopub.status.busy": "2024-05-16T09:51:23.879683Z",
          "iopub.status.idle": "2024-05-16T09:51:23.888304Z",
          "shell.execute_reply": "2024-05-16T09:51:23.887159Z",
          "shell.execute_reply.started": "2024-05-16T09:51:23.880752Z"
        },
        "trusted": true,
        "id": "RZYpXQWyuln3",
        "outputId": "4a735ce2-a756-4f02-f332-f2fb7cfec12e",
        "colab": {
          "base_uri": "https://localhost:8080/"
        }
      },
      "outputs": [
        {
          "output_type": "execute_result",
          "data": {
            "text/plain": [
              "11200"
            ]
          },
          "metadata": {},
          "execution_count": 47
        }
      ],
      "source": [
        "cleaned_cs['condition'].isnull().sum()"
      ]
    },
    {
      "cell_type": "code",
      "execution_count": 48,
      "metadata": {
        "id": "7L4KdIgKuln3",
        "outputId": "5ec93b12-d22b-4add-a866-f85a87a17bdf",
        "colab": {
          "base_uri": "https://localhost:8080/",
          "height": 771
        }
      },
      "outputs": [
        {
          "output_type": "execute_result",
          "data": {
            "text/plain": [
              "        year    make                model         trim       body  \\\n",
              "0       2015     kia              sorento           LX        suv   \n",
              "1       2015     kia              sorento           LX        suv   \n",
              "2       2014     bmw             3 series   328i SULEV      sedan   \n",
              "3       2015   volvo                  s60           T5      sedan   \n",
              "4       2014     bmw  6 series gran coupe         650i      sedan   \n",
              "...      ...     ...                  ...          ...        ...   \n",
              "558832  2015     kia                 k900       Luxury      sedan   \n",
              "558833  2012     ram                 2500  Power Wagon   crew cab   \n",
              "558834  2012     bmw                   x5    xDrive35d        suv   \n",
              "558835  2015  nissan               altima        2.5 S      sedan   \n",
              "558836  2014    ford                f-150          XLT  supercrew   \n",
              "\n",
              "       transmission state  condition  odometer   color interior  \\\n",
              "0         automatic    ca        5.0   16639.0   white    black   \n",
              "1         automatic    ca        5.0    9393.0   white    beige   \n",
              "2         automatic    ca       45.0    1331.0    gray    black   \n",
              "3         automatic    ca       41.0   14282.0   white    black   \n",
              "4         automatic    ca       43.0    2641.0    gray    black   \n",
              "...             ...   ...        ...       ...     ...      ...   \n",
              "558832       manual    in       45.0   18255.0  silver    black   \n",
              "558833    automatic    wa        5.0   54393.0   white    black   \n",
              "558834    automatic    ca       48.0   50561.0   black    black   \n",
              "558835    automatic    ga       38.0   16658.0   white    black   \n",
              "558836    automatic    ca       34.0   15008.0    gray     gray   \n",
              "\n",
              "                                                   seller  sellingprice  \\\n",
              "0                                 kia motors america  inc       21500.0   \n",
              "1                                 kia motors america  inc       21500.0   \n",
              "2                  financial services remarketing (lease)       30000.0   \n",
              "3                                 volvo na rep/world omni       27750.0   \n",
              "4                  financial services remarketing (lease)       67000.0   \n",
              "...                                                   ...           ...   \n",
              "558832                                   avis corporation       33000.0   \n",
              "558833                                    i -5 uhlmann rv       30800.0   \n",
              "558834             financial services remarketing (lease)       34000.0   \n",
              "558835  enterprise vehicle exchange / tra / rental / t...       11100.0   \n",
              "558836                   ford motor credit company llc pd       26700.0   \n",
              "\n",
              "                                       saledate Column1  \n",
              "0       Tue Dec 16 2014 12:30:00 GMT-0800 (PST)  #NAME?  \n",
              "1       Tue Dec 16 2014 12:30:00 GMT-0800 (PST)     NaN  \n",
              "2       Thu Jan 15 2015 04:30:00 GMT-0800 (PST)     NaN  \n",
              "3       Thu Jan 29 2015 04:30:00 GMT-0800 (PST)     NaN  \n",
              "4       Thu Dec 18 2014 12:30:00 GMT-0800 (PST)     NaN  \n",
              "...                                         ...     ...  \n",
              "558832  Thu Jul 09 2015 07:00:00 GMT-0700 (PDT)     NaN  \n",
              "558833  Wed Jul 08 2015 09:30:00 GMT-0700 (PDT)     NaN  \n",
              "558834  Wed Jul 08 2015 09:30:00 GMT-0700 (PDT)     NaN  \n",
              "558835  Thu Jul 09 2015 06:45:00 GMT-0700 (PDT)     NaN  \n",
              "558836  Thu May 28 2015 05:30:00 GMT-0700 (PDT)     NaN  \n",
              "\n",
              "[545518 rows x 15 columns]"
            ],
            "text/html": [
              "\n",
              "  <div id=\"df-a4ef3398-b1ee-47c2-9086-b9e8746fb5e6\" class=\"colab-df-container\">\n",
              "    <div>\n",
              "<style scoped>\n",
              "    .dataframe tbody tr th:only-of-type {\n",
              "        vertical-align: middle;\n",
              "    }\n",
              "\n",
              "    .dataframe tbody tr th {\n",
              "        vertical-align: top;\n",
              "    }\n",
              "\n",
              "    .dataframe thead th {\n",
              "        text-align: right;\n",
              "    }\n",
              "</style>\n",
              "<table border=\"1\" class=\"dataframe\">\n",
              "  <thead>\n",
              "    <tr style=\"text-align: right;\">\n",
              "      <th></th>\n",
              "      <th>year</th>\n",
              "      <th>make</th>\n",
              "      <th>model</th>\n",
              "      <th>trim</th>\n",
              "      <th>body</th>\n",
              "      <th>transmission</th>\n",
              "      <th>state</th>\n",
              "      <th>condition</th>\n",
              "      <th>odometer</th>\n",
              "      <th>color</th>\n",
              "      <th>interior</th>\n",
              "      <th>seller</th>\n",
              "      <th>sellingprice</th>\n",
              "      <th>saledate</th>\n",
              "      <th>Column1</th>\n",
              "    </tr>\n",
              "  </thead>\n",
              "  <tbody>\n",
              "    <tr>\n",
              "      <th>0</th>\n",
              "      <td>2015</td>\n",
              "      <td>kia</td>\n",
              "      <td>sorento</td>\n",
              "      <td>LX</td>\n",
              "      <td>suv</td>\n",
              "      <td>automatic</td>\n",
              "      <td>ca</td>\n",
              "      <td>5.0</td>\n",
              "      <td>16639.0</td>\n",
              "      <td>white</td>\n",
              "      <td>black</td>\n",
              "      <td>kia motors america  inc</td>\n",
              "      <td>21500.0</td>\n",
              "      <td>Tue Dec 16 2014 12:30:00 GMT-0800 (PST)</td>\n",
              "      <td>#NAME?</td>\n",
              "    </tr>\n",
              "    <tr>\n",
              "      <th>1</th>\n",
              "      <td>2015</td>\n",
              "      <td>kia</td>\n",
              "      <td>sorento</td>\n",
              "      <td>LX</td>\n",
              "      <td>suv</td>\n",
              "      <td>automatic</td>\n",
              "      <td>ca</td>\n",
              "      <td>5.0</td>\n",
              "      <td>9393.0</td>\n",
              "      <td>white</td>\n",
              "      <td>beige</td>\n",
              "      <td>kia motors america  inc</td>\n",
              "      <td>21500.0</td>\n",
              "      <td>Tue Dec 16 2014 12:30:00 GMT-0800 (PST)</td>\n",
              "      <td>NaN</td>\n",
              "    </tr>\n",
              "    <tr>\n",
              "      <th>2</th>\n",
              "      <td>2014</td>\n",
              "      <td>bmw</td>\n",
              "      <td>3 series</td>\n",
              "      <td>328i SULEV</td>\n",
              "      <td>sedan</td>\n",
              "      <td>automatic</td>\n",
              "      <td>ca</td>\n",
              "      <td>45.0</td>\n",
              "      <td>1331.0</td>\n",
              "      <td>gray</td>\n",
              "      <td>black</td>\n",
              "      <td>financial services remarketing (lease)</td>\n",
              "      <td>30000.0</td>\n",
              "      <td>Thu Jan 15 2015 04:30:00 GMT-0800 (PST)</td>\n",
              "      <td>NaN</td>\n",
              "    </tr>\n",
              "    <tr>\n",
              "      <th>3</th>\n",
              "      <td>2015</td>\n",
              "      <td>volvo</td>\n",
              "      <td>s60</td>\n",
              "      <td>T5</td>\n",
              "      <td>sedan</td>\n",
              "      <td>automatic</td>\n",
              "      <td>ca</td>\n",
              "      <td>41.0</td>\n",
              "      <td>14282.0</td>\n",
              "      <td>white</td>\n",
              "      <td>black</td>\n",
              "      <td>volvo na rep/world omni</td>\n",
              "      <td>27750.0</td>\n",
              "      <td>Thu Jan 29 2015 04:30:00 GMT-0800 (PST)</td>\n",
              "      <td>NaN</td>\n",
              "    </tr>\n",
              "    <tr>\n",
              "      <th>4</th>\n",
              "      <td>2014</td>\n",
              "      <td>bmw</td>\n",
              "      <td>6 series gran coupe</td>\n",
              "      <td>650i</td>\n",
              "      <td>sedan</td>\n",
              "      <td>automatic</td>\n",
              "      <td>ca</td>\n",
              "      <td>43.0</td>\n",
              "      <td>2641.0</td>\n",
              "      <td>gray</td>\n",
              "      <td>black</td>\n",
              "      <td>financial services remarketing (lease)</td>\n",
              "      <td>67000.0</td>\n",
              "      <td>Thu Dec 18 2014 12:30:00 GMT-0800 (PST)</td>\n",
              "      <td>NaN</td>\n",
              "    </tr>\n",
              "    <tr>\n",
              "      <th>...</th>\n",
              "      <td>...</td>\n",
              "      <td>...</td>\n",
              "      <td>...</td>\n",
              "      <td>...</td>\n",
              "      <td>...</td>\n",
              "      <td>...</td>\n",
              "      <td>...</td>\n",
              "      <td>...</td>\n",
              "      <td>...</td>\n",
              "      <td>...</td>\n",
              "      <td>...</td>\n",
              "      <td>...</td>\n",
              "      <td>...</td>\n",
              "      <td>...</td>\n",
              "      <td>...</td>\n",
              "    </tr>\n",
              "    <tr>\n",
              "      <th>558832</th>\n",
              "      <td>2015</td>\n",
              "      <td>kia</td>\n",
              "      <td>k900</td>\n",
              "      <td>Luxury</td>\n",
              "      <td>sedan</td>\n",
              "      <td>manual</td>\n",
              "      <td>in</td>\n",
              "      <td>45.0</td>\n",
              "      <td>18255.0</td>\n",
              "      <td>silver</td>\n",
              "      <td>black</td>\n",
              "      <td>avis corporation</td>\n",
              "      <td>33000.0</td>\n",
              "      <td>Thu Jul 09 2015 07:00:00 GMT-0700 (PDT)</td>\n",
              "      <td>NaN</td>\n",
              "    </tr>\n",
              "    <tr>\n",
              "      <th>558833</th>\n",
              "      <td>2012</td>\n",
              "      <td>ram</td>\n",
              "      <td>2500</td>\n",
              "      <td>Power Wagon</td>\n",
              "      <td>crew cab</td>\n",
              "      <td>automatic</td>\n",
              "      <td>wa</td>\n",
              "      <td>5.0</td>\n",
              "      <td>54393.0</td>\n",
              "      <td>white</td>\n",
              "      <td>black</td>\n",
              "      <td>i -5 uhlmann rv</td>\n",
              "      <td>30800.0</td>\n",
              "      <td>Wed Jul 08 2015 09:30:00 GMT-0700 (PDT)</td>\n",
              "      <td>NaN</td>\n",
              "    </tr>\n",
              "    <tr>\n",
              "      <th>558834</th>\n",
              "      <td>2012</td>\n",
              "      <td>bmw</td>\n",
              "      <td>x5</td>\n",
              "      <td>xDrive35d</td>\n",
              "      <td>suv</td>\n",
              "      <td>automatic</td>\n",
              "      <td>ca</td>\n",
              "      <td>48.0</td>\n",
              "      <td>50561.0</td>\n",
              "      <td>black</td>\n",
              "      <td>black</td>\n",
              "      <td>financial services remarketing (lease)</td>\n",
              "      <td>34000.0</td>\n",
              "      <td>Wed Jul 08 2015 09:30:00 GMT-0700 (PDT)</td>\n",
              "      <td>NaN</td>\n",
              "    </tr>\n",
              "    <tr>\n",
              "      <th>558835</th>\n",
              "      <td>2015</td>\n",
              "      <td>nissan</td>\n",
              "      <td>altima</td>\n",
              "      <td>2.5 S</td>\n",
              "      <td>sedan</td>\n",
              "      <td>automatic</td>\n",
              "      <td>ga</td>\n",
              "      <td>38.0</td>\n",
              "      <td>16658.0</td>\n",
              "      <td>white</td>\n",
              "      <td>black</td>\n",
              "      <td>enterprise vehicle exchange / tra / rental / t...</td>\n",
              "      <td>11100.0</td>\n",
              "      <td>Thu Jul 09 2015 06:45:00 GMT-0700 (PDT)</td>\n",
              "      <td>NaN</td>\n",
              "    </tr>\n",
              "    <tr>\n",
              "      <th>558836</th>\n",
              "      <td>2014</td>\n",
              "      <td>ford</td>\n",
              "      <td>f-150</td>\n",
              "      <td>XLT</td>\n",
              "      <td>supercrew</td>\n",
              "      <td>automatic</td>\n",
              "      <td>ca</td>\n",
              "      <td>34.0</td>\n",
              "      <td>15008.0</td>\n",
              "      <td>gray</td>\n",
              "      <td>gray</td>\n",
              "      <td>ford motor credit company llc pd</td>\n",
              "      <td>26700.0</td>\n",
              "      <td>Thu May 28 2015 05:30:00 GMT-0700 (PDT)</td>\n",
              "      <td>NaN</td>\n",
              "    </tr>\n",
              "  </tbody>\n",
              "</table>\n",
              "<p>545518 rows × 15 columns</p>\n",
              "</div>\n",
              "    <div class=\"colab-df-buttons\">\n",
              "\n",
              "  <div class=\"colab-df-container\">\n",
              "    <button class=\"colab-df-convert\" onclick=\"convertToInteractive('df-a4ef3398-b1ee-47c2-9086-b9e8746fb5e6')\"\n",
              "            title=\"Convert this dataframe to an interactive table.\"\n",
              "            style=\"display:none;\">\n",
              "\n",
              "  <svg xmlns=\"http://www.w3.org/2000/svg\" height=\"24px\" viewBox=\"0 -960 960 960\">\n",
              "    <path d=\"M120-120v-720h720v720H120Zm60-500h600v-160H180v160Zm220 220h160v-160H400v160Zm0 220h160v-160H400v160ZM180-400h160v-160H180v160Zm440 0h160v-160H620v160ZM180-180h160v-160H180v160Zm440 0h160v-160H620v160Z\"/>\n",
              "  </svg>\n",
              "    </button>\n",
              "\n",
              "  <style>\n",
              "    .colab-df-container {\n",
              "      display:flex;\n",
              "      gap: 12px;\n",
              "    }\n",
              "\n",
              "    .colab-df-convert {\n",
              "      background-color: #E8F0FE;\n",
              "      border: none;\n",
              "      border-radius: 50%;\n",
              "      cursor: pointer;\n",
              "      display: none;\n",
              "      fill: #1967D2;\n",
              "      height: 32px;\n",
              "      padding: 0 0 0 0;\n",
              "      width: 32px;\n",
              "    }\n",
              "\n",
              "    .colab-df-convert:hover {\n",
              "      background-color: #E2EBFA;\n",
              "      box-shadow: 0px 1px 2px rgba(60, 64, 67, 0.3), 0px 1px 3px 1px rgba(60, 64, 67, 0.15);\n",
              "      fill: #174EA6;\n",
              "    }\n",
              "\n",
              "    .colab-df-buttons div {\n",
              "      margin-bottom: 4px;\n",
              "    }\n",
              "\n",
              "    [theme=dark] .colab-df-convert {\n",
              "      background-color: #3B4455;\n",
              "      fill: #D2E3FC;\n",
              "    }\n",
              "\n",
              "    [theme=dark] .colab-df-convert:hover {\n",
              "      background-color: #434B5C;\n",
              "      box-shadow: 0px 1px 3px 1px rgba(0, 0, 0, 0.15);\n",
              "      filter: drop-shadow(0px 1px 2px rgba(0, 0, 0, 0.3));\n",
              "      fill: #FFFFFF;\n",
              "    }\n",
              "  </style>\n",
              "\n",
              "    <script>\n",
              "      const buttonEl =\n",
              "        document.querySelector('#df-a4ef3398-b1ee-47c2-9086-b9e8746fb5e6 button.colab-df-convert');\n",
              "      buttonEl.style.display =\n",
              "        google.colab.kernel.accessAllowed ? 'block' : 'none';\n",
              "\n",
              "      async function convertToInteractive(key) {\n",
              "        const element = document.querySelector('#df-a4ef3398-b1ee-47c2-9086-b9e8746fb5e6');\n",
              "        const dataTable =\n",
              "          await google.colab.kernel.invokeFunction('convertToInteractive',\n",
              "                                                    [key], {});\n",
              "        if (!dataTable) return;\n",
              "\n",
              "        const docLinkHtml = 'Like what you see? Visit the ' +\n",
              "          '<a target=\"_blank\" href=https://colab.research.google.com/notebooks/data_table.ipynb>data table notebook</a>'\n",
              "          + ' to learn more about interactive tables.';\n",
              "        element.innerHTML = '';\n",
              "        dataTable['output_type'] = 'display_data';\n",
              "        await google.colab.output.renderOutput(dataTable, element);\n",
              "        const docLink = document.createElement('div');\n",
              "        docLink.innerHTML = docLinkHtml;\n",
              "        element.appendChild(docLink);\n",
              "      }\n",
              "    </script>\n",
              "  </div>\n",
              "\n",
              "\n",
              "<div id=\"df-d8f8739f-f073-4a7d-9911-7dac3629872c\">\n",
              "  <button class=\"colab-df-quickchart\" onclick=\"quickchart('df-d8f8739f-f073-4a7d-9911-7dac3629872c')\"\n",
              "            title=\"Suggest charts\"\n",
              "            style=\"display:none;\">\n",
              "\n",
              "<svg xmlns=\"http://www.w3.org/2000/svg\" height=\"24px\"viewBox=\"0 0 24 24\"\n",
              "     width=\"24px\">\n",
              "    <g>\n",
              "        <path d=\"M19 3H5c-1.1 0-2 .9-2 2v14c0 1.1.9 2 2 2h14c1.1 0 2-.9 2-2V5c0-1.1-.9-2-2-2zM9 17H7v-7h2v7zm4 0h-2V7h2v10zm4 0h-2v-4h2v4z\"/>\n",
              "    </g>\n",
              "</svg>\n",
              "  </button>\n",
              "\n",
              "<style>\n",
              "  .colab-df-quickchart {\n",
              "      --bg-color: #E8F0FE;\n",
              "      --fill-color: #1967D2;\n",
              "      --hover-bg-color: #E2EBFA;\n",
              "      --hover-fill-color: #174EA6;\n",
              "      --disabled-fill-color: #AAA;\n",
              "      --disabled-bg-color: #DDD;\n",
              "  }\n",
              "\n",
              "  [theme=dark] .colab-df-quickchart {\n",
              "      --bg-color: #3B4455;\n",
              "      --fill-color: #D2E3FC;\n",
              "      --hover-bg-color: #434B5C;\n",
              "      --hover-fill-color: #FFFFFF;\n",
              "      --disabled-bg-color: #3B4455;\n",
              "      --disabled-fill-color: #666;\n",
              "  }\n",
              "\n",
              "  .colab-df-quickchart {\n",
              "    background-color: var(--bg-color);\n",
              "    border: none;\n",
              "    border-radius: 50%;\n",
              "    cursor: pointer;\n",
              "    display: none;\n",
              "    fill: var(--fill-color);\n",
              "    height: 32px;\n",
              "    padding: 0;\n",
              "    width: 32px;\n",
              "  }\n",
              "\n",
              "  .colab-df-quickchart:hover {\n",
              "    background-color: var(--hover-bg-color);\n",
              "    box-shadow: 0 1px 2px rgba(60, 64, 67, 0.3), 0 1px 3px 1px rgba(60, 64, 67, 0.15);\n",
              "    fill: var(--button-hover-fill-color);\n",
              "  }\n",
              "\n",
              "  .colab-df-quickchart-complete:disabled,\n",
              "  .colab-df-quickchart-complete:disabled:hover {\n",
              "    background-color: var(--disabled-bg-color);\n",
              "    fill: var(--disabled-fill-color);\n",
              "    box-shadow: none;\n",
              "  }\n",
              "\n",
              "  .colab-df-spinner {\n",
              "    border: 2px solid var(--fill-color);\n",
              "    border-color: transparent;\n",
              "    border-bottom-color: var(--fill-color);\n",
              "    animation:\n",
              "      spin 1s steps(1) infinite;\n",
              "  }\n",
              "\n",
              "  @keyframes spin {\n",
              "    0% {\n",
              "      border-color: transparent;\n",
              "      border-bottom-color: var(--fill-color);\n",
              "      border-left-color: var(--fill-color);\n",
              "    }\n",
              "    20% {\n",
              "      border-color: transparent;\n",
              "      border-left-color: var(--fill-color);\n",
              "      border-top-color: var(--fill-color);\n",
              "    }\n",
              "    30% {\n",
              "      border-color: transparent;\n",
              "      border-left-color: var(--fill-color);\n",
              "      border-top-color: var(--fill-color);\n",
              "      border-right-color: var(--fill-color);\n",
              "    }\n",
              "    40% {\n",
              "      border-color: transparent;\n",
              "      border-right-color: var(--fill-color);\n",
              "      border-top-color: var(--fill-color);\n",
              "    }\n",
              "    60% {\n",
              "      border-color: transparent;\n",
              "      border-right-color: var(--fill-color);\n",
              "    }\n",
              "    80% {\n",
              "      border-color: transparent;\n",
              "      border-right-color: var(--fill-color);\n",
              "      border-bottom-color: var(--fill-color);\n",
              "    }\n",
              "    90% {\n",
              "      border-color: transparent;\n",
              "      border-bottom-color: var(--fill-color);\n",
              "    }\n",
              "  }\n",
              "</style>\n",
              "\n",
              "  <script>\n",
              "    async function quickchart(key) {\n",
              "      const quickchartButtonEl =\n",
              "        document.querySelector('#' + key + ' button');\n",
              "      quickchartButtonEl.disabled = true;  // To prevent multiple clicks.\n",
              "      quickchartButtonEl.classList.add('colab-df-spinner');\n",
              "      try {\n",
              "        const charts = await google.colab.kernel.invokeFunction(\n",
              "            'suggestCharts', [key], {});\n",
              "      } catch (error) {\n",
              "        console.error('Error during call to suggestCharts:', error);\n",
              "      }\n",
              "      quickchartButtonEl.classList.remove('colab-df-spinner');\n",
              "      quickchartButtonEl.classList.add('colab-df-quickchart-complete');\n",
              "    }\n",
              "    (() => {\n",
              "      let quickchartButtonEl =\n",
              "        document.querySelector('#df-d8f8739f-f073-4a7d-9911-7dac3629872c button');\n",
              "      quickchartButtonEl.style.display =\n",
              "        google.colab.kernel.accessAllowed ? 'block' : 'none';\n",
              "    })();\n",
              "  </script>\n",
              "</div>\n",
              "    </div>\n",
              "  </div>\n"
            ],
            "application/vnd.google.colaboratory.intrinsic+json": {
              "type": "dataframe",
              "variable_name": "cleaned_cs"
            }
          },
          "metadata": {},
          "execution_count": 48
        }
      ],
      "source": [
        "cleaned_cs"
      ]
    },
    {
      "cell_type": "code",
      "execution_count": 49,
      "metadata": {
        "_kg_hide-output": false,
        "execution": {
          "iopub.execute_input": "2024-05-16T09:51:23.890512Z",
          "iopub.status.busy": "2024-05-16T09:51:23.889543Z",
          "iopub.status.idle": "2024-05-16T09:51:23.944321Z",
          "shell.execute_reply": "2024-05-16T09:51:23.943256Z",
          "shell.execute_reply.started": "2024-05-16T09:51:23.890482Z"
        },
        "trusted": true,
        "id": "YxFs75UEuln3",
        "outputId": "1d7de29d-d11a-411c-dad6-6270fa13d1e6",
        "colab": {
          "base_uri": "https://localhost:8080/"
        }
      },
      "outputs": [
        {
          "output_type": "execute_result",
          "data": {
            "text/plain": [
              "color\n",
              "black        108620\n",
              "white        103615\n",
              "gray          81515\n",
              "silver        81466\n",
              "blue          49768\n",
              "red           42525\n",
              "—             24440\n",
              "gold          10898\n",
              "green         10796\n",
              "beige          8904\n",
              "burgundy       8744\n",
              "brown          6611\n",
              "orange         1986\n",
              "purple         1507\n",
              "off-white      1415\n",
              "yellow         1232\n",
              "charcoal        472\n",
              "turquoise       224\n",
              "pink             42\n",
              "lime             15\n",
              "Name: count, dtype: int64"
            ]
          },
          "metadata": {},
          "execution_count": 49
        }
      ],
      "source": [
        "cleaned_cs['color'].value_counts()"
      ]
    },
    {
      "cell_type": "code",
      "execution_count": 50,
      "metadata": {
        "execution": {
          "iopub.execute_input": "2024-05-16T09:51:23.946170Z",
          "iopub.status.busy": "2024-05-16T09:51:23.945844Z",
          "iopub.status.idle": "2024-05-16T09:51:23.986097Z",
          "shell.execute_reply": "2024-05-16T09:51:23.985048Z",
          "shell.execute_reply.started": "2024-05-16T09:51:23.946145Z"
        },
        "trusted": true,
        "id": "oBjthK3Quln3",
        "outputId": "5f0dac26-f096-4ae3-f848-d7a88977b3b1",
        "colab": {
          "base_uri": "https://localhost:8080/"
        }
      },
      "outputs": [
        {
          "output_type": "execute_result",
          "data": {
            "text/plain": [
              "array(['white', 'gray', 'black', 'red', 'silver', 'blue', 'brown',\n",
              "       'beige', 'purple', 'burgundy', '—', 'gold', 'yellow', 'green',\n",
              "       'charcoal', nan, 'orange', 'off-white', 'turquoise', 'pink',\n",
              "       'lime'], dtype=object)"
            ]
          },
          "metadata": {},
          "execution_count": 50
        }
      ],
      "source": [
        "cleaned_cs['color'].unique()"
      ]
    },
    {
      "cell_type": "code",
      "execution_count": 51,
      "metadata": {
        "execution": {
          "iopub.execute_input": "2024-05-16T09:51:23.987595Z",
          "iopub.status.busy": "2024-05-16T09:51:23.987332Z",
          "iopub.status.idle": "2024-05-16T09:51:24.177664Z",
          "shell.execute_reply": "2024-05-16T09:51:24.176883Z",
          "shell.execute_reply.started": "2024-05-16T09:51:23.987573Z"
        },
        "trusted": true,
        "id": "aP_qRU8Wuln4"
      },
      "outputs": [],
      "source": [
        "cleaned_cs['color'] = cleaned_cs['color'].str.replace('—', '').replace('', np.NaN)"
      ]
    },
    {
      "cell_type": "code",
      "execution_count": 52,
      "metadata": {
        "execution": {
          "iopub.execute_input": "2024-05-16T09:51:24.179380Z",
          "iopub.status.busy": "2024-05-16T09:51:24.178641Z",
          "iopub.status.idle": "2024-05-16T09:51:24.291791Z",
          "shell.execute_reply": "2024-05-16T09:51:24.290916Z",
          "shell.execute_reply.started": "2024-05-16T09:51:24.179350Z"
        },
        "trusted": true,
        "id": "b2jymnoHuln4"
      },
      "outputs": [],
      "source": [
        "# fill null value with most frequent value which is 'black'\n",
        "col_to_impute = cleaned_cs['color']\n",
        "\n",
        "imputer = SimpleImputer(strategy='most_frequent')\n",
        "\n",
        "imputed_col = imputer.fit_transform(col_to_impute.values.reshape(-1, 1)).flatten()\n",
        "\n",
        "cleaned_cs['color'] = imputed_col\n"
      ]
    },
    {
      "cell_type": "code",
      "execution_count": 53,
      "metadata": {
        "execution": {
          "iopub.execute_input": "2024-05-16T09:51:24.293430Z",
          "iopub.status.busy": "2024-05-16T09:51:24.293124Z",
          "iopub.status.idle": "2024-05-16T09:51:24.337218Z",
          "shell.execute_reply": "2024-05-16T09:51:24.336169Z",
          "shell.execute_reply.started": "2024-05-16T09:51:24.293406Z"
        },
        "trusted": true,
        "id": "3ySAj6G2uln4",
        "outputId": "b4676243-7f66-4778-c7b1-36b4136cfe36",
        "colab": {
          "base_uri": "https://localhost:8080/"
        }
      },
      "outputs": [
        {
          "output_type": "execute_result",
          "data": {
            "text/plain": [
              "array(['white', 'gray', 'black', 'red', 'silver', 'blue', 'brown',\n",
              "       'beige', 'purple', 'burgundy', 'gold', 'yellow', 'green',\n",
              "       'charcoal', 'orange', 'off-white', 'turquoise', 'pink', 'lime'],\n",
              "      dtype=object)"
            ]
          },
          "metadata": {},
          "execution_count": 53
        }
      ],
      "source": [
        "cleaned_cs['color'].unique()"
      ]
    },
    {
      "cell_type": "code",
      "execution_count": 54,
      "metadata": {
        "execution": {
          "iopub.execute_input": "2024-05-16T09:51:24.339095Z",
          "iopub.status.busy": "2024-05-16T09:51:24.338673Z",
          "iopub.status.idle": "2024-05-16T09:51:24.370907Z",
          "shell.execute_reply": "2024-05-16T09:51:24.369935Z",
          "shell.execute_reply.started": "2024-05-16T09:51:24.339040Z"
        },
        "trusted": true,
        "id": "HmxmLJO8uln4",
        "outputId": "e5a58cbd-0974-4330-b5ba-404d0f81e298",
        "colab": {
          "base_uri": "https://localhost:8080/"
        }
      },
      "outputs": [
        {
          "output_type": "execute_result",
          "data": {
            "text/plain": [
              "0"
            ]
          },
          "metadata": {},
          "execution_count": 54
        }
      ],
      "source": [
        "cleaned_cs['color'].isnull().sum()"
      ]
    },
    {
      "cell_type": "code",
      "execution_count": 55,
      "metadata": {
        "execution": {
          "iopub.execute_input": "2024-05-16T09:51:24.372427Z",
          "iopub.status.busy": "2024-05-16T09:51:24.372030Z",
          "iopub.status.idle": "2024-05-16T09:51:24.415891Z",
          "shell.execute_reply": "2024-05-16T09:51:24.415093Z",
          "shell.execute_reply.started": "2024-05-16T09:51:24.372402Z"
        },
        "trusted": true,
        "id": "9jPDSM4zuln4",
        "outputId": "5a2ff3bc-f749-440b-82da-fd795baffc71",
        "colab": {
          "base_uri": "https://localhost:8080/"
        }
      },
      "outputs": [
        {
          "output_type": "execute_result",
          "data": {
            "text/plain": [
              "array(['white', 'gray', 'black', 'red', 'silver', 'blue', 'brown',\n",
              "       'beige', 'purple', 'burgundy', 'gold', 'yellow', 'green',\n",
              "       'charcoal', 'orange', 'off-white', 'turquoise', 'pink', 'lime'],\n",
              "      dtype=object)"
            ]
          },
          "metadata": {},
          "execution_count": 55
        }
      ],
      "source": [
        "cleaned_cs['color'].unique()"
      ]
    },
    {
      "cell_type": "code",
      "execution_count": 56,
      "metadata": {
        "execution": {
          "iopub.execute_input": "2024-05-16T09:51:24.417679Z",
          "iopub.status.busy": "2024-05-16T09:51:24.416859Z",
          "iopub.status.idle": "2024-05-16T09:51:24.466578Z",
          "shell.execute_reply": "2024-05-16T09:51:24.465701Z",
          "shell.execute_reply.started": "2024-05-16T09:51:24.417646Z"
        },
        "trusted": true,
        "id": "viYFxPRmuln5",
        "outputId": "889b8760-7cb8-44fc-c432-4c39a6ceef7b",
        "colab": {
          "base_uri": "https://localhost:8080/"
        }
      },
      "outputs": [
        {
          "output_type": "execute_result",
          "data": {
            "text/plain": [
              "color\n",
              "black        133783\n",
              "white        103615\n",
              "gray          81515\n",
              "silver        81466\n",
              "blue          49768\n",
              "red           42525\n",
              "gold          10898\n",
              "green         10796\n",
              "beige          8904\n",
              "burgundy       8744\n",
              "brown          6611\n",
              "orange         1986\n",
              "purple         1507\n",
              "off-white      1415\n",
              "yellow         1232\n",
              "charcoal        472\n",
              "turquoise       224\n",
              "pink             42\n",
              "lime             15\n",
              "Name: count, dtype: int64"
            ]
          },
          "metadata": {},
          "execution_count": 56
        }
      ],
      "source": [
        "cleaned_cs['color'].value_counts()"
      ]
    },
    {
      "cell_type": "markdown",
      "metadata": {
        "id": "keoEpGmhuln5"
      },
      "source": [
        "cleaned_cs"
      ]
    },
    {
      "cell_type": "code",
      "execution_count": 57,
      "metadata": {
        "execution": {
          "iopub.execute_input": "2024-05-16T09:51:24.468349Z",
          "iopub.status.busy": "2024-05-16T09:51:24.467862Z",
          "iopub.status.idle": "2024-05-16T09:51:24.486675Z",
          "shell.execute_reply": "2024-05-16T09:51:24.485581Z",
          "shell.execute_reply.started": "2024-05-16T09:51:24.468322Z"
        },
        "trusted": true,
        "id": "O1j9iGqDuln5",
        "outputId": "97185684-6532-4573-91a1-03e704e6c1d8",
        "colab": {
          "base_uri": "https://localhost:8080/",
          "height": 293
        }
      },
      "outputs": [
        {
          "output_type": "execute_result",
          "data": {
            "text/plain": [
              "   year   make                model        trim   body transmission state  \\\n",
              "0  2015    kia              sorento          LX    suv    automatic    ca   \n",
              "1  2015    kia              sorento          LX    suv    automatic    ca   \n",
              "2  2014    bmw             3 series  328i SULEV  sedan    automatic    ca   \n",
              "3  2015  volvo                  s60          T5  sedan    automatic    ca   \n",
              "4  2014    bmw  6 series gran coupe        650i  sedan    automatic    ca   \n",
              "\n",
              "   condition  odometer  color interior  \\\n",
              "0        5.0   16639.0  white    black   \n",
              "1        5.0    9393.0  white    beige   \n",
              "2       45.0    1331.0   gray    black   \n",
              "3       41.0   14282.0  white    black   \n",
              "4       43.0    2641.0   gray    black   \n",
              "\n",
              "                                   seller  sellingprice  \\\n",
              "0                 kia motors america  inc       21500.0   \n",
              "1                 kia motors america  inc       21500.0   \n",
              "2  financial services remarketing (lease)       30000.0   \n",
              "3                 volvo na rep/world omni       27750.0   \n",
              "4  financial services remarketing (lease)       67000.0   \n",
              "\n",
              "                                  saledate Column1  \n",
              "0  Tue Dec 16 2014 12:30:00 GMT-0800 (PST)  #NAME?  \n",
              "1  Tue Dec 16 2014 12:30:00 GMT-0800 (PST)     NaN  \n",
              "2  Thu Jan 15 2015 04:30:00 GMT-0800 (PST)     NaN  \n",
              "3  Thu Jan 29 2015 04:30:00 GMT-0800 (PST)     NaN  \n",
              "4  Thu Dec 18 2014 12:30:00 GMT-0800 (PST)     NaN  "
            ],
            "text/html": [
              "\n",
              "  <div id=\"df-72fa3729-5356-4d39-a528-97c58f8785ac\" class=\"colab-df-container\">\n",
              "    <div>\n",
              "<style scoped>\n",
              "    .dataframe tbody tr th:only-of-type {\n",
              "        vertical-align: middle;\n",
              "    }\n",
              "\n",
              "    .dataframe tbody tr th {\n",
              "        vertical-align: top;\n",
              "    }\n",
              "\n",
              "    .dataframe thead th {\n",
              "        text-align: right;\n",
              "    }\n",
              "</style>\n",
              "<table border=\"1\" class=\"dataframe\">\n",
              "  <thead>\n",
              "    <tr style=\"text-align: right;\">\n",
              "      <th></th>\n",
              "      <th>year</th>\n",
              "      <th>make</th>\n",
              "      <th>model</th>\n",
              "      <th>trim</th>\n",
              "      <th>body</th>\n",
              "      <th>transmission</th>\n",
              "      <th>state</th>\n",
              "      <th>condition</th>\n",
              "      <th>odometer</th>\n",
              "      <th>color</th>\n",
              "      <th>interior</th>\n",
              "      <th>seller</th>\n",
              "      <th>sellingprice</th>\n",
              "      <th>saledate</th>\n",
              "      <th>Column1</th>\n",
              "    </tr>\n",
              "  </thead>\n",
              "  <tbody>\n",
              "    <tr>\n",
              "      <th>0</th>\n",
              "      <td>2015</td>\n",
              "      <td>kia</td>\n",
              "      <td>sorento</td>\n",
              "      <td>LX</td>\n",
              "      <td>suv</td>\n",
              "      <td>automatic</td>\n",
              "      <td>ca</td>\n",
              "      <td>5.0</td>\n",
              "      <td>16639.0</td>\n",
              "      <td>white</td>\n",
              "      <td>black</td>\n",
              "      <td>kia motors america  inc</td>\n",
              "      <td>21500.0</td>\n",
              "      <td>Tue Dec 16 2014 12:30:00 GMT-0800 (PST)</td>\n",
              "      <td>#NAME?</td>\n",
              "    </tr>\n",
              "    <tr>\n",
              "      <th>1</th>\n",
              "      <td>2015</td>\n",
              "      <td>kia</td>\n",
              "      <td>sorento</td>\n",
              "      <td>LX</td>\n",
              "      <td>suv</td>\n",
              "      <td>automatic</td>\n",
              "      <td>ca</td>\n",
              "      <td>5.0</td>\n",
              "      <td>9393.0</td>\n",
              "      <td>white</td>\n",
              "      <td>beige</td>\n",
              "      <td>kia motors america  inc</td>\n",
              "      <td>21500.0</td>\n",
              "      <td>Tue Dec 16 2014 12:30:00 GMT-0800 (PST)</td>\n",
              "      <td>NaN</td>\n",
              "    </tr>\n",
              "    <tr>\n",
              "      <th>2</th>\n",
              "      <td>2014</td>\n",
              "      <td>bmw</td>\n",
              "      <td>3 series</td>\n",
              "      <td>328i SULEV</td>\n",
              "      <td>sedan</td>\n",
              "      <td>automatic</td>\n",
              "      <td>ca</td>\n",
              "      <td>45.0</td>\n",
              "      <td>1331.0</td>\n",
              "      <td>gray</td>\n",
              "      <td>black</td>\n",
              "      <td>financial services remarketing (lease)</td>\n",
              "      <td>30000.0</td>\n",
              "      <td>Thu Jan 15 2015 04:30:00 GMT-0800 (PST)</td>\n",
              "      <td>NaN</td>\n",
              "    </tr>\n",
              "    <tr>\n",
              "      <th>3</th>\n",
              "      <td>2015</td>\n",
              "      <td>volvo</td>\n",
              "      <td>s60</td>\n",
              "      <td>T5</td>\n",
              "      <td>sedan</td>\n",
              "      <td>automatic</td>\n",
              "      <td>ca</td>\n",
              "      <td>41.0</td>\n",
              "      <td>14282.0</td>\n",
              "      <td>white</td>\n",
              "      <td>black</td>\n",
              "      <td>volvo na rep/world omni</td>\n",
              "      <td>27750.0</td>\n",
              "      <td>Thu Jan 29 2015 04:30:00 GMT-0800 (PST)</td>\n",
              "      <td>NaN</td>\n",
              "    </tr>\n",
              "    <tr>\n",
              "      <th>4</th>\n",
              "      <td>2014</td>\n",
              "      <td>bmw</td>\n",
              "      <td>6 series gran coupe</td>\n",
              "      <td>650i</td>\n",
              "      <td>sedan</td>\n",
              "      <td>automatic</td>\n",
              "      <td>ca</td>\n",
              "      <td>43.0</td>\n",
              "      <td>2641.0</td>\n",
              "      <td>gray</td>\n",
              "      <td>black</td>\n",
              "      <td>financial services remarketing (lease)</td>\n",
              "      <td>67000.0</td>\n",
              "      <td>Thu Dec 18 2014 12:30:00 GMT-0800 (PST)</td>\n",
              "      <td>NaN</td>\n",
              "    </tr>\n",
              "  </tbody>\n",
              "</table>\n",
              "</div>\n",
              "    <div class=\"colab-df-buttons\">\n",
              "\n",
              "  <div class=\"colab-df-container\">\n",
              "    <button class=\"colab-df-convert\" onclick=\"convertToInteractive('df-72fa3729-5356-4d39-a528-97c58f8785ac')\"\n",
              "            title=\"Convert this dataframe to an interactive table.\"\n",
              "            style=\"display:none;\">\n",
              "\n",
              "  <svg xmlns=\"http://www.w3.org/2000/svg\" height=\"24px\" viewBox=\"0 -960 960 960\">\n",
              "    <path d=\"M120-120v-720h720v720H120Zm60-500h600v-160H180v160Zm220 220h160v-160H400v160Zm0 220h160v-160H400v160ZM180-400h160v-160H180v160Zm440 0h160v-160H620v160ZM180-180h160v-160H180v160Zm440 0h160v-160H620v160Z\"/>\n",
              "  </svg>\n",
              "    </button>\n",
              "\n",
              "  <style>\n",
              "    .colab-df-container {\n",
              "      display:flex;\n",
              "      gap: 12px;\n",
              "    }\n",
              "\n",
              "    .colab-df-convert {\n",
              "      background-color: #E8F0FE;\n",
              "      border: none;\n",
              "      border-radius: 50%;\n",
              "      cursor: pointer;\n",
              "      display: none;\n",
              "      fill: #1967D2;\n",
              "      height: 32px;\n",
              "      padding: 0 0 0 0;\n",
              "      width: 32px;\n",
              "    }\n",
              "\n",
              "    .colab-df-convert:hover {\n",
              "      background-color: #E2EBFA;\n",
              "      box-shadow: 0px 1px 2px rgba(60, 64, 67, 0.3), 0px 1px 3px 1px rgba(60, 64, 67, 0.15);\n",
              "      fill: #174EA6;\n",
              "    }\n",
              "\n",
              "    .colab-df-buttons div {\n",
              "      margin-bottom: 4px;\n",
              "    }\n",
              "\n",
              "    [theme=dark] .colab-df-convert {\n",
              "      background-color: #3B4455;\n",
              "      fill: #D2E3FC;\n",
              "    }\n",
              "\n",
              "    [theme=dark] .colab-df-convert:hover {\n",
              "      background-color: #434B5C;\n",
              "      box-shadow: 0px 1px 3px 1px rgba(0, 0, 0, 0.15);\n",
              "      filter: drop-shadow(0px 1px 2px rgba(0, 0, 0, 0.3));\n",
              "      fill: #FFFFFF;\n",
              "    }\n",
              "  </style>\n",
              "\n",
              "    <script>\n",
              "      const buttonEl =\n",
              "        document.querySelector('#df-72fa3729-5356-4d39-a528-97c58f8785ac button.colab-df-convert');\n",
              "      buttonEl.style.display =\n",
              "        google.colab.kernel.accessAllowed ? 'block' : 'none';\n",
              "\n",
              "      async function convertToInteractive(key) {\n",
              "        const element = document.querySelector('#df-72fa3729-5356-4d39-a528-97c58f8785ac');\n",
              "        const dataTable =\n",
              "          await google.colab.kernel.invokeFunction('convertToInteractive',\n",
              "                                                    [key], {});\n",
              "        if (!dataTable) return;\n",
              "\n",
              "        const docLinkHtml = 'Like what you see? Visit the ' +\n",
              "          '<a target=\"_blank\" href=https://colab.research.google.com/notebooks/data_table.ipynb>data table notebook</a>'\n",
              "          + ' to learn more about interactive tables.';\n",
              "        element.innerHTML = '';\n",
              "        dataTable['output_type'] = 'display_data';\n",
              "        await google.colab.output.renderOutput(dataTable, element);\n",
              "        const docLink = document.createElement('div');\n",
              "        docLink.innerHTML = docLinkHtml;\n",
              "        element.appendChild(docLink);\n",
              "      }\n",
              "    </script>\n",
              "  </div>\n",
              "\n",
              "\n",
              "<div id=\"df-3556df45-6504-4e42-8356-4d92ddfdbdb0\">\n",
              "  <button class=\"colab-df-quickchart\" onclick=\"quickchart('df-3556df45-6504-4e42-8356-4d92ddfdbdb0')\"\n",
              "            title=\"Suggest charts\"\n",
              "            style=\"display:none;\">\n",
              "\n",
              "<svg xmlns=\"http://www.w3.org/2000/svg\" height=\"24px\"viewBox=\"0 0 24 24\"\n",
              "     width=\"24px\">\n",
              "    <g>\n",
              "        <path d=\"M19 3H5c-1.1 0-2 .9-2 2v14c0 1.1.9 2 2 2h14c1.1 0 2-.9 2-2V5c0-1.1-.9-2-2-2zM9 17H7v-7h2v7zm4 0h-2V7h2v10zm4 0h-2v-4h2v4z\"/>\n",
              "    </g>\n",
              "</svg>\n",
              "  </button>\n",
              "\n",
              "<style>\n",
              "  .colab-df-quickchart {\n",
              "      --bg-color: #E8F0FE;\n",
              "      --fill-color: #1967D2;\n",
              "      --hover-bg-color: #E2EBFA;\n",
              "      --hover-fill-color: #174EA6;\n",
              "      --disabled-fill-color: #AAA;\n",
              "      --disabled-bg-color: #DDD;\n",
              "  }\n",
              "\n",
              "  [theme=dark] .colab-df-quickchart {\n",
              "      --bg-color: #3B4455;\n",
              "      --fill-color: #D2E3FC;\n",
              "      --hover-bg-color: #434B5C;\n",
              "      --hover-fill-color: #FFFFFF;\n",
              "      --disabled-bg-color: #3B4455;\n",
              "      --disabled-fill-color: #666;\n",
              "  }\n",
              "\n",
              "  .colab-df-quickchart {\n",
              "    background-color: var(--bg-color);\n",
              "    border: none;\n",
              "    border-radius: 50%;\n",
              "    cursor: pointer;\n",
              "    display: none;\n",
              "    fill: var(--fill-color);\n",
              "    height: 32px;\n",
              "    padding: 0;\n",
              "    width: 32px;\n",
              "  }\n",
              "\n",
              "  .colab-df-quickchart:hover {\n",
              "    background-color: var(--hover-bg-color);\n",
              "    box-shadow: 0 1px 2px rgba(60, 64, 67, 0.3), 0 1px 3px 1px rgba(60, 64, 67, 0.15);\n",
              "    fill: var(--button-hover-fill-color);\n",
              "  }\n",
              "\n",
              "  .colab-df-quickchart-complete:disabled,\n",
              "  .colab-df-quickchart-complete:disabled:hover {\n",
              "    background-color: var(--disabled-bg-color);\n",
              "    fill: var(--disabled-fill-color);\n",
              "    box-shadow: none;\n",
              "  }\n",
              "\n",
              "  .colab-df-spinner {\n",
              "    border: 2px solid var(--fill-color);\n",
              "    border-color: transparent;\n",
              "    border-bottom-color: var(--fill-color);\n",
              "    animation:\n",
              "      spin 1s steps(1) infinite;\n",
              "  }\n",
              "\n",
              "  @keyframes spin {\n",
              "    0% {\n",
              "      border-color: transparent;\n",
              "      border-bottom-color: var(--fill-color);\n",
              "      border-left-color: var(--fill-color);\n",
              "    }\n",
              "    20% {\n",
              "      border-color: transparent;\n",
              "      border-left-color: var(--fill-color);\n",
              "      border-top-color: var(--fill-color);\n",
              "    }\n",
              "    30% {\n",
              "      border-color: transparent;\n",
              "      border-left-color: var(--fill-color);\n",
              "      border-top-color: var(--fill-color);\n",
              "      border-right-color: var(--fill-color);\n",
              "    }\n",
              "    40% {\n",
              "      border-color: transparent;\n",
              "      border-right-color: var(--fill-color);\n",
              "      border-top-color: var(--fill-color);\n",
              "    }\n",
              "    60% {\n",
              "      border-color: transparent;\n",
              "      border-right-color: var(--fill-color);\n",
              "    }\n",
              "    80% {\n",
              "      border-color: transparent;\n",
              "      border-right-color: var(--fill-color);\n",
              "      border-bottom-color: var(--fill-color);\n",
              "    }\n",
              "    90% {\n",
              "      border-color: transparent;\n",
              "      border-bottom-color: var(--fill-color);\n",
              "    }\n",
              "  }\n",
              "</style>\n",
              "\n",
              "  <script>\n",
              "    async function quickchart(key) {\n",
              "      const quickchartButtonEl =\n",
              "        document.querySelector('#' + key + ' button');\n",
              "      quickchartButtonEl.disabled = true;  // To prevent multiple clicks.\n",
              "      quickchartButtonEl.classList.add('colab-df-spinner');\n",
              "      try {\n",
              "        const charts = await google.colab.kernel.invokeFunction(\n",
              "            'suggestCharts', [key], {});\n",
              "      } catch (error) {\n",
              "        console.error('Error during call to suggestCharts:', error);\n",
              "      }\n",
              "      quickchartButtonEl.classList.remove('colab-df-spinner');\n",
              "      quickchartButtonEl.classList.add('colab-df-quickchart-complete');\n",
              "    }\n",
              "    (() => {\n",
              "      let quickchartButtonEl =\n",
              "        document.querySelector('#df-3556df45-6504-4e42-8356-4d92ddfdbdb0 button');\n",
              "      quickchartButtonEl.style.display =\n",
              "        google.colab.kernel.accessAllowed ? 'block' : 'none';\n",
              "    })();\n",
              "  </script>\n",
              "</div>\n",
              "    </div>\n",
              "  </div>\n"
            ],
            "application/vnd.google.colaboratory.intrinsic+json": {
              "type": "dataframe",
              "variable_name": "cleaned_cs"
            }
          },
          "metadata": {},
          "execution_count": 57
        }
      ],
      "source": [
        "cleaned_cs.head()"
      ]
    },
    {
      "cell_type": "markdown",
      "metadata": {
        "id": "JzWYwKN_uln5"
      },
      "source": [
        "# Interior Col\n",
        "#"
      ]
    },
    {
      "cell_type": "code",
      "execution_count": 58,
      "metadata": {
        "execution": {
          "iopub.execute_input": "2024-05-16T09:51:24.489018Z",
          "iopub.status.busy": "2024-05-16T09:51:24.487915Z",
          "iopub.status.idle": "2024-05-16T09:51:24.520698Z",
          "shell.execute_reply": "2024-05-16T09:51:24.519696Z",
          "shell.execute_reply.started": "2024-05-16T09:51:24.488981Z"
        },
        "trusted": true,
        "id": "_GlB1TXNuln5",
        "outputId": "29ddd36d-185e-473d-f919-85073db05562",
        "colab": {
          "base_uri": "https://localhost:8080/"
        }
      },
      "outputs": [
        {
          "output_type": "execute_result",
          "data": {
            "text/plain": [
              "723"
            ]
          },
          "metadata": {},
          "execution_count": 58
        }
      ],
      "source": [
        "cleaned_cs['interior'].isnull().sum()"
      ]
    },
    {
      "cell_type": "code",
      "execution_count": 59,
      "metadata": {
        "execution": {
          "iopub.execute_input": "2024-05-16T09:51:24.522466Z",
          "iopub.status.busy": "2024-05-16T09:51:24.522068Z",
          "iopub.status.idle": "2024-05-16T09:51:24.561821Z",
          "shell.execute_reply": "2024-05-16T09:51:24.560560Z",
          "shell.execute_reply.started": "2024-05-16T09:51:24.522440Z"
        },
        "trusted": true,
        "id": "NEXfTOCJuln5",
        "outputId": "49a690d4-1b95-4e92-8097-58cf1315c3c3",
        "colab": {
          "base_uri": "https://localhost:8080/"
        }
      },
      "outputs": [
        {
          "output_type": "execute_result",
          "data": {
            "text/plain": [
              "array(['black', 'beige', 'tan', '—', 'gray', 'brown', 'burgundy', 'white',\n",
              "       nan, 'silver', 'off-white', 'red', 'yellow', 'blue', 'green',\n",
              "       'purple', 'orange', 'gold'], dtype=object)"
            ]
          },
          "metadata": {},
          "execution_count": 59
        }
      ],
      "source": [
        "cleaned_cs['interior'].unique()"
      ]
    },
    {
      "cell_type": "code",
      "execution_count": 60,
      "metadata": {
        "execution": {
          "iopub.execute_input": "2024-05-16T09:51:24.563834Z",
          "iopub.status.busy": "2024-05-16T09:51:24.562993Z",
          "iopub.status.idle": "2024-05-16T09:51:24.611512Z",
          "shell.execute_reply": "2024-05-16T09:51:24.610415Z",
          "shell.execute_reply.started": "2024-05-16T09:51:24.563802Z"
        },
        "trusted": true,
        "id": "yUkxVJrCuln5",
        "outputId": "d5e6de24-75fd-4dbb-8fbd-472890f91e29",
        "colab": {
          "base_uri": "https://localhost:8080/"
        }
      },
      "outputs": [
        {
          "output_type": "execute_result",
          "data": {
            "text/plain": [
              "interior\n",
              "black        240145\n",
              "gray         173441\n",
              "beige         58263\n",
              "tan           42783\n",
              "—             16403\n",
              "brown          8410\n",
              "red            1312\n",
              "silver         1065\n",
              "blue           1040\n",
              "off-white       480\n",
              "purple          331\n",
              "gold            314\n",
              "white           244\n",
              "green           225\n",
              "burgundy        184\n",
              "orange          135\n",
              "yellow           20\n",
              "Name: count, dtype: int64"
            ]
          },
          "metadata": {},
          "execution_count": 60
        }
      ],
      "source": [
        "cleaned_cs['interior'].value_counts()"
      ]
    },
    {
      "cell_type": "code",
      "execution_count": 61,
      "metadata": {
        "execution": {
          "iopub.execute_input": "2024-05-16T09:51:24.613132Z",
          "iopub.status.busy": "2024-05-16T09:51:24.612741Z",
          "iopub.status.idle": "2024-05-16T09:51:24.668918Z",
          "shell.execute_reply": "2024-05-16T09:51:24.668012Z",
          "shell.execute_reply.started": "2024-05-16T09:51:24.613100Z"
        },
        "trusted": true,
        "id": "xCQcHyDHuln5"
      },
      "outputs": [],
      "source": [
        "cleaned_cs['interior'] = cleaned_cs['interior'].replace('—', np.nan).copy()"
      ]
    },
    {
      "cell_type": "code",
      "execution_count": 62,
      "metadata": {
        "execution": {
          "iopub.execute_input": "2024-05-16T09:51:24.670405Z",
          "iopub.status.busy": "2024-05-16T09:51:24.670115Z",
          "iopub.status.idle": "2024-05-16T09:51:24.699957Z",
          "shell.execute_reply": "2024-05-16T09:51:24.698813Z",
          "shell.execute_reply.started": "2024-05-16T09:51:24.670382Z"
        },
        "trusted": true,
        "id": "BNze467Muln6",
        "outputId": "14cbbda8-d56d-4638-e0be-e7d67fc40f62",
        "colab": {
          "base_uri": "https://localhost:8080/"
        }
      },
      "outputs": [
        {
          "output_type": "execute_result",
          "data": {
            "text/plain": [
              "interior\n",
              "black        240145\n",
              "gray         173441\n",
              "beige         58263\n",
              "tan           42783\n",
              "NaN           17126\n",
              "brown          8410\n",
              "red            1312\n",
              "silver         1065\n",
              "blue           1040\n",
              "off-white       480\n",
              "purple          331\n",
              "gold            314\n",
              "white           244\n",
              "green           225\n",
              "burgundy        184\n",
              "orange          135\n",
              "yellow           20\n",
              "Name: count, dtype: int64"
            ]
          },
          "metadata": {},
          "execution_count": 62
        }
      ],
      "source": [
        "cleaned_cs['interior'].value_counts(dropna=False)"
      ]
    },
    {
      "cell_type": "code",
      "execution_count": 63,
      "metadata": {
        "execution": {
          "iopub.execute_input": "2024-05-16T09:51:24.701432Z",
          "iopub.status.busy": "2024-05-16T09:51:24.701160Z",
          "iopub.status.idle": "2024-05-16T09:51:24.773003Z",
          "shell.execute_reply": "2024-05-16T09:51:24.772249Z",
          "shell.execute_reply.started": "2024-05-16T09:51:24.701410Z"
        },
        "trusted": true,
        "id": "SFBelMM-uln6"
      },
      "outputs": [],
      "source": [
        "cleaned_cs['interior'] = cleaned_cs['interior'].ffill()"
      ]
    },
    {
      "cell_type": "code",
      "execution_count": 64,
      "metadata": {
        "execution": {
          "iopub.execute_input": "2024-05-16T09:51:24.774863Z",
          "iopub.status.busy": "2024-05-16T09:51:24.774187Z",
          "iopub.status.idle": "2024-05-16T09:51:24.804177Z",
          "shell.execute_reply": "2024-05-16T09:51:24.803241Z",
          "shell.execute_reply.started": "2024-05-16T09:51:24.774827Z"
        },
        "trusted": true,
        "id": "pKLBxB7Muln6",
        "outputId": "96637b1a-8c20-4d84-ec29-208371eab304",
        "colab": {
          "base_uri": "https://localhost:8080/"
        }
      },
      "outputs": [
        {
          "output_type": "execute_result",
          "data": {
            "text/plain": [
              "interior\n",
              "black        246933\n",
              "gray         179564\n",
              "beige         60224\n",
              "tan           44491\n",
              "brown          8729\n",
              "red            1364\n",
              "blue           1107\n",
              "silver         1092\n",
              "off-white       516\n",
              "purple          346\n",
              "gold            320\n",
              "white           250\n",
              "green           234\n",
              "burgundy        189\n",
              "orange          139\n",
              "yellow           20\n",
              "Name: count, dtype: int64"
            ]
          },
          "metadata": {},
          "execution_count": 64
        }
      ],
      "source": [
        "cleaned_cs['interior'].value_counts(dropna=False)"
      ]
    },
    {
      "cell_type": "markdown",
      "metadata": {
        "id": "SrCiaDvCuln6"
      },
      "source": [
        "# Odometer Col\n"
      ]
    },
    {
      "cell_type": "code",
      "execution_count": 65,
      "metadata": {
        "execution": {
          "iopub.execute_input": "2024-05-16T09:51:24.806007Z",
          "iopub.status.busy": "2024-05-16T09:51:24.805214Z",
          "iopub.status.idle": "2024-05-16T09:51:25.182489Z",
          "shell.execute_reply": "2024-05-16T09:51:25.181504Z",
          "shell.execute_reply.started": "2024-05-16T09:51:24.805979Z"
        },
        "trusted": true,
        "id": "qO5uTUU_uln6",
        "outputId": "74006830-98a9-4dc7-88fd-28dc7576ef99",
        "colab": {
          "base_uri": "https://localhost:8080/"
        }
      },
      "outputs": [
        {
          "output_type": "stream",
          "name": "stdout",
          "text": [
            "Number of non-numeric values in 'odometer': 85\n"
          ]
        }
      ],
      "source": [
        "# Assuming 'cleaned_cs' is your DataFrame and 'odometer' is the column with mixed values\n",
        "non_numeric_count = cleaned_cs['odometer'].apply(lambda x: not str(x).replace('.', '', 1).isdigit()).sum()\n",
        "\n",
        "print(\"Number of non-numeric values in 'odometer':\", non_numeric_count)\n"
      ]
    },
    {
      "cell_type": "code",
      "execution_count": 66,
      "metadata": {
        "execution": {
          "iopub.execute_input": "2024-05-16T09:51:25.184073Z",
          "iopub.status.busy": "2024-05-16T09:51:25.183694Z",
          "iopub.status.idle": "2024-05-16T09:51:25.548464Z",
          "shell.execute_reply": "2024-05-16T09:51:25.547372Z",
          "shell.execute_reply.started": "2024-05-16T09:51:25.184037Z"
        },
        "trusted": true,
        "id": "hLEvvPaXuln6",
        "outputId": "c89cde71-b6d6-4474-dc84-32c27455a339",
        "colab": {
          "base_uri": "https://localhost:8080/"
        }
      },
      "outputs": [
        {
          "output_type": "stream",
          "name": "stdout",
          "text": [
            "Number of numerical values in 'odometer': 545433\n"
          ]
        }
      ],
      "source": [
        "# Assuming 'cleaned_cs' is your DataFrame and 'odometer' is the column with mixed values\n",
        "numeric_count = cleaned_cs['odometer'].apply(lambda x: str(x).replace('.', '', 1).isdigit()).sum()\n",
        "\n",
        "print(\"Number of numerical values in 'odometer':\", numeric_count)\n"
      ]
    },
    {
      "cell_type": "code",
      "execution_count": 67,
      "metadata": {
        "id": "Q_wpJIVhuln6"
      },
      "outputs": [],
      "source": [
        "cleaned_cs = cleaned_cs.drop('Column1',axis=1)"
      ]
    },
    {
      "cell_type": "markdown",
      "metadata": {
        "id": "DRXyONfsuln6"
      },
      "source": [
        "# Seller col"
      ]
    },
    {
      "cell_type": "code",
      "execution_count": 68,
      "metadata": {
        "execution": {
          "iopub.execute_input": "2024-05-16T09:51:25.550370Z",
          "iopub.status.busy": "2024-05-16T09:51:25.549638Z",
          "iopub.status.idle": "2024-05-16T09:51:25.580503Z",
          "shell.execute_reply": "2024-05-16T09:51:25.579543Z",
          "shell.execute_reply.started": "2024-05-16T09:51:25.550341Z"
        },
        "trusted": true,
        "id": "DC6SpwO2uln7",
        "outputId": "06ef5333-d18d-4fbc-e2dc-18035216cb0c",
        "colab": {
          "base_uri": "https://localhost:8080/"
        }
      },
      "outputs": [
        {
          "output_type": "execute_result",
          "data": {
            "text/plain": [
              "0"
            ]
          },
          "metadata": {},
          "execution_count": 68
        }
      ],
      "source": [
        "cleaned_cs['seller'].isna().sum()"
      ]
    },
    {
      "cell_type": "code",
      "execution_count": 69,
      "metadata": {
        "execution": {
          "iopub.execute_input": "2024-05-16T09:51:25.582823Z",
          "iopub.status.busy": "2024-05-16T09:51:25.582378Z",
          "iopub.status.idle": "2024-05-16T09:51:25.658138Z",
          "shell.execute_reply": "2024-05-16T09:51:25.657073Z",
          "shell.execute_reply.started": "2024-05-16T09:51:25.582788Z"
        },
        "trusted": true,
        "id": "JKnoQrLwuln7",
        "outputId": "8f1c3c06-34a9-4ee6-f84d-628e4bc9f0e5",
        "colab": {
          "base_uri": "https://localhost:8080/"
        }
      },
      "outputs": [
        {
          "output_type": "execute_result",
          "data": {
            "text/plain": [
              "seller\n",
              "1 cochran of monroeville    234\n",
              "1 for all auto sales          1\n",
              "101motors                     1\n",
              "1360250 alberta ltd           1\n",
              "1360250 alberta ltd.          1\n",
              "                           ... \n",
              "zonemotors.com inc            1\n",
              "zoom auto                     1\n",
              "zuma autoboat                 1\n",
              "zumbrota ford sales llc       1\n",
              "zygi auto corp                1\n",
              "Name: count, Length: 14003, dtype: int64"
            ]
          },
          "metadata": {},
          "execution_count": 69
        }
      ],
      "source": [
        "cleaned_cs['seller'].value_counts().sort_index()"
      ]
    },
    {
      "cell_type": "markdown",
      "metadata": {
        "id": "ou7PCe29uln7"
      },
      "source": [
        "# Selling price col"
      ]
    },
    {
      "cell_type": "code",
      "execution_count": 70,
      "metadata": {
        "id": "or23mLOculn7",
        "outputId": "9444c95a-a6f9-4f2e-df68-827856644294",
        "colab": {
          "base_uri": "https://localhost:8080/"
        }
      },
      "outputs": [
        {
          "output_type": "execute_result",
          "data": {
            "text/plain": [
              "12"
            ]
          },
          "metadata": {},
          "execution_count": 70
        }
      ],
      "source": [
        "cleaned_cs['sellingprice'].isnull().sum()"
      ]
    },
    {
      "cell_type": "code",
      "execution_count": 71,
      "metadata": {
        "id": "p-vIYsNWuln7"
      },
      "outputs": [],
      "source": [
        "cleaned_cs = cleaned_cs.dropna(subset=['sellingprice'])"
      ]
    },
    {
      "cell_type": "code",
      "execution_count": 72,
      "metadata": {
        "execution": {
          "iopub.execute_input": "2024-05-16T09:51:25.659519Z",
          "iopub.status.busy": "2024-05-16T09:51:25.659243Z",
          "iopub.status.idle": "2024-05-16T09:51:25.687028Z",
          "shell.execute_reply": "2024-05-16T09:51:25.686057Z",
          "shell.execute_reply.started": "2024-05-16T09:51:25.659497Z"
        },
        "trusted": true,
        "id": "xO5vvlltuln7",
        "outputId": "dbf93838-7ccb-4564-8e67-d7a6587d775b",
        "colab": {
          "base_uri": "https://localhost:8080/"
        }
      },
      "outputs": [
        {
          "output_type": "stream",
          "name": "stdout",
          "text": [
            "Median: 12250.0\n",
            "Mode: 0    11000.0\n",
            "Name: sellingprice, dtype: float64\n",
            "Mean: 13724.174150238494\n"
          ]
        }
      ],
      "source": [
        "# Calculate median\n",
        "mmr_median = cleaned_cs['sellingprice'].median()\n",
        "\n",
        "# Calculate mode\n",
        "mmr_mode = cleaned_cs['sellingprice'].mode()\n",
        "\n",
        "# Calculate mean\n",
        "avg = cleaned_cs['sellingprice'].mean()\n",
        "\n",
        "print(\"Median:\", mmr_median)\n",
        "print(\"Mode:\", mmr_mode)\n",
        "print(\"Mean:\", avg)"
      ]
    },
    {
      "cell_type": "code",
      "execution_count": 73,
      "metadata": {
        "id": "fKap61afuln7",
        "outputId": "09fca77a-5e5d-4912-9229-7ed01f0652b1",
        "colab": {
          "base_uri": "https://localhost:8080/"
        }
      },
      "outputs": [
        {
          "output_type": "execute_result",
          "data": {
            "text/plain": [
              "0         21500.0\n",
              "1         21500.0\n",
              "2         30000.0\n",
              "3         27750.0\n",
              "4         67000.0\n",
              "           ...   \n",
              "558832    33000.0\n",
              "558833    30800.0\n",
              "558834    34000.0\n",
              "558835    11100.0\n",
              "558836    26700.0\n",
              "Name: sellingprice, Length: 545506, dtype: float64"
            ]
          },
          "metadata": {},
          "execution_count": 73
        }
      ],
      "source": [
        "cleaned_cs['sellingprice']"
      ]
    },
    {
      "cell_type": "markdown",
      "metadata": {
        "id": "EfODstkbuln7"
      },
      "source": [
        "# Sales Date col"
      ]
    },
    {
      "cell_type": "code",
      "execution_count": 73,
      "metadata": {
        "id": "A5lH5HuBuln8"
      },
      "outputs": [],
      "source": []
    },
    {
      "cell_type": "markdown",
      "metadata": {
        "id": "ueKB9AV8uln8"
      },
      "source": [
        "# Salesdate Col"
      ]
    },
    {
      "cell_type": "code",
      "execution_count": 74,
      "metadata": {
        "execution": {
          "iopub.execute_input": "2024-05-16T09:54:41.996179Z",
          "iopub.status.busy": "2024-05-16T09:54:41.995765Z",
          "iopub.status.idle": "2024-05-16T09:54:42.004475Z",
          "shell.execute_reply": "2024-05-16T09:54:42.003479Z",
          "shell.execute_reply.started": "2024-05-16T09:54:41.996149Z"
        },
        "trusted": true,
        "id": "oy98GAvsuln8",
        "outputId": "f88e8321-f4e7-4960-ec8a-a3b4867f3f0f",
        "colab": {
          "base_uri": "https://localhost:8080/"
        }
      },
      "outputs": [
        {
          "output_type": "execute_result",
          "data": {
            "text/plain": [
              "year              int64\n",
              "make             object\n",
              "model            object\n",
              "trim             object\n",
              "body             object\n",
              "transmission     object\n",
              "state            object\n",
              "condition       float64\n",
              "odometer        float64\n",
              "color            object\n",
              "interior         object\n",
              "seller           object\n",
              "sellingprice    float64\n",
              "saledate         object\n",
              "dtype: object"
            ]
          },
          "metadata": {},
          "execution_count": 74
        }
      ],
      "source": [
        "cleaned_cs.dtypes"
      ]
    },
    {
      "cell_type": "markdown",
      "metadata": {
        "id": "KAiKrTnNuln8"
      },
      "source": [
        "# Data Visualization"
      ]
    },
    {
      "cell_type": "code",
      "execution_count": 75,
      "metadata": {
        "id": "-__Ml7N6uln8",
        "outputId": "cce1efb0-070c-44f6-ac47-a487904ad2a7",
        "colab": {
          "base_uri": "https://localhost:8080/",
          "height": 564
        }
      },
      "outputs": [
        {
          "output_type": "display_data",
          "data": {
            "text/plain": [
              "<Figure size 1000x600 with 1 Axes>"
            ],
            "image/png": "[encoded data removed]"
          },
          "metadata": {}
        }
      ],
      "source": [
        "plt.figure(figsize=(10, 6), facecolor='black')\n",
        "plt.hist(cleaned_cs['sellingprice'], bins=100, color='blue', edgecolor='white', alpha=0.7)\n",
        "\n",
        "sellingprice_median = cleaned_cs['sellingprice'].median()\n",
        "\n",
        "plt.axvline(x=sellingprice_median, color='red', linestyle='dashed', linewidth=1)\n",
        "\n",
        "plt.title('Selling Price Distribution', color='red')\n",
        "plt.xlabel('Selling Price', color='yellow')\n",
        "plt.ylabel('Frequency', color='yellow')\n",
        "\n",
        "plt.xticks(color='white')\n",
        "plt.yticks(color='white')\n",
        "\n",
        "plt.gca().set_facecolor('dimgray')\n",
        "\n",
        "ax = plt.gca()\n",
        "for spine in ax.spines.values():\n",
        "    spine.set_edgecolor('white')\n",
        "\n",
        "plt.show()\n"
      ]
    },
    {
      "cell_type": "code",
      "execution_count": 76,
      "metadata": {
        "id": "p4CMY7MIuln8",
        "outputId": "36012b01-4716-4230-cfa4-5ffb7af4b5b7",
        "colab": {
          "base_uri": "https://localhost:8080/",
          "height": 493
        }
      },
      "outputs": [
        {
          "output_type": "display_data",
          "data": {
            "text/plain": [
              "<Figure size 640x480 with 1 Axes>"
            ],
            "image/png": "[encoded data removed]"
          },
          "metadata": {}
        }
      ],
      "source": [
        "yearly_counts = cleaned_cs.groupby('year')['make'].count().reset_index()\n",
        "ax = sns.barplot(x='year', y='make', data=yearly_counts,color='blue')\n",
        "ax.set_facecolor('dimgrey')\n",
        "plt.gcf().set_facecolor('black')\n",
        "plt.title('Number of Car by Year of Manufacturing',color='red')\n",
        "plt.xlabel('Manufacturing Year',color='yellow')\n",
        "plt.ylabel('Unit',color='yellow')\n",
        "plt.tick_params(axis='x', colors='white')\n",
        "plt.tick_params(axis='y', colors='white')\n",
        "plt.xticks(rotation=90)\n",
        "plt.show()"
      ]
    },
    {
      "cell_type": "code",
      "execution_count": 77,
      "metadata": {
        "id": "LzAiHFGVuln8",
        "outputId": "2e8b2e7d-84b5-49b6-8c16-0ff1e175b5c6",
        "colab": {
          "base_uri": "https://localhost:8080/",
          "height": 580
        }
      },
      "outputs": [
        {
          "output_type": "display_data",
          "data": {
            "text/plain": [
              "<Figure size 1000x500 with 1 Axes>"
            ],
            "image/png": "[encoded data removed]"
          },
          "metadata": {}
        }
      ],
      "source": [
        "make_market_share = cleaned_cs.groupby('make')['model'].count().reset_index()\n",
        "market_share_s = make_market_share.sort_values(by='model', ascending=False)\n",
        "\n",
        "\n",
        "plt.figure(figsize=(10, 5))\n",
        "ax = sns.barplot(x='make', y='model', data=market_share_s, color='red')\n",
        "\n",
        "# Step 3: Customize the plot\n",
        "ax.set_facecolor('dimgray')  # Set the background color of the plot\n",
        "plt.gcf().set_facecolor('black')  # Set the background color of the figure\n",
        "\n",
        "# Set text and title color to white\n",
        "ax.set_title('Car Brand Sold', color='red')\n",
        "ax.set_xlabel('Car Brand Name', color='yellow')\n",
        "ax.set_ylabel('Unit Car Sold', color='yellow')\n",
        "\n",
        "# Customize tick labels to be white\n",
        "ax.tick_params(axis='x', colors='white')\n",
        "ax.tick_params(axis='y', colors='white')\n",
        "\n",
        "# Rotate x-tick labels for better readability\n",
        "plt.xticks(rotation=90)\n",
        "\n",
        "# Customize the spine (axis lines) colors to white\n",
        "for spine in ax.spines.values():\n",
        "    spine.set_edgecolor('white')\n",
        "\n",
        "# Show the plot\n",
        "plt.show()\n"
      ]
    },
    {
      "cell_type": "code",
      "execution_count": 78,
      "metadata": {
        "id": "54JRhisRuln8",
        "outputId": "8977608b-54c9-42e5-f93b-026040990983",
        "colab": {
          "base_uri": "https://localhost:8080/",
          "height": 663
        }
      },
      "outputs": [
        {
          "output_type": "display_data",
          "data": {
            "text/plain": [
              "<Figure size 1400x700 with 1 Axes>"
            ],
            "image/png": "[encoded data removed]"
          },
          "metadata": {}
        }
      ],
      "source": [
        "\n",
        "top_car_makes = cleaned_cs['make'].value_counts().nlargest(5).index\n",
        "\n",
        "filtered_cs = cleaned_cs[cleaned_cs['make'].isin(top_car_makes)]\n",
        "\n",
        "yearly_counts = filtered_cs.groupby(['year', 'make']).size().reset_index(name='counts')\n",
        "\n",
        "\n",
        "plt.figure(figsize=(14, 7))\n",
        "ax = sns.barplot(x='year', y='counts', hue='make', data=yearly_counts)\n",
        "\n",
        "ax.set_facecolor('black')\n",
        "plt.gcf().set_facecolor('black')\n",
        "\n",
        "plt.title('Top 5 Car Makes by Year', color='red')\n",
        "plt.xlabel('Year', color='yellow')\n",
        "plt.ylabel('Number of Sold Cars', color='yellow')\n",
        "\n",
        "ax.tick_params(axis='x', colors='white')\n",
        "ax.tick_params(axis='y', colors='white')\n",
        "\n",
        "legend = plt.legend(title='Make', loc='upper left', facecolor='black', edgecolor='white')\n",
        "plt.setp(legend.get_texts(), color='white')\n",
        "plt.setp(legend.get_title(), color='white')\n",
        "\n",
        "plt.xticks(rotation=90)\n",
        "\n",
        "for spine in ax.spines.values():\n",
        "    spine.set_edgecolor('white')\n",
        "\n",
        "plt.show()"
      ]
    },
    {
      "cell_type": "code",
      "execution_count": 79,
      "metadata": {
        "id": "3wnjuUnculn9",
        "outputId": "6991f54f-b31b-485c-9e94-f5b0d623e804",
        "colab": {
          "base_uri": "https://localhost:8080/",
          "height": 564
        }
      },
      "outputs": [
        {
          "output_type": "display_data",
          "data": {
            "text/plain": [
              "<Figure size 800x600 with 1 Axes>"
            ],
            "image/png": "[encoded data removed]"
          },
          "metadata": {}
        }
      ],
      "source": [
        "tsm = cleaned_cs['transmission'].value_counts().reset_index()\n",
        "\n",
        "plt.figure(figsize=(8, 6))\n",
        "\n",
        "bars = plt.bar(tsm['transmission'], tsm['count'], color=['red', 'blue'])\n",
        "\n",
        "ax = plt.gca()\n",
        "\n",
        "ax.set_facecolor('dimgray')\n",
        "plt.gcf().set_facecolor('black')\n",
        "\n",
        "plt.title('Transmission Types Count', color='red')\n",
        "plt.xlabel('Transmission', color='yellow')\n",
        "plt.ylabel('Unit', color='yellow')\n",
        "\n",
        "ax.tick_params(axis='x', colors='white')\n",
        "ax.tick_params(axis='y', colors='white')\n",
        "\n",
        "for spine in ax.spines.values():\n",
        "    spine.set_edgecolor('white')\n",
        "\n",
        "plt.show()"
      ]
    },
    {
      "cell_type": "code",
      "execution_count": 80,
      "metadata": {
        "id": "_LeQ7kovuln9",
        "outputId": "7e61944a-d420-40ef-fbbf-0376018754d0",
        "colab": {
          "base_uri": "https://localhost:8080/",
          "height": 890
        }
      },
      "outputs": [
        {
          "output_type": "display_data",
          "data": {
            "text/plain": [
              "<Figure size 1500x1000 with 1 Axes>"
            ],
            "image/png": "[encoded data removed]"
          },
          "metadata": {}
        }
      ],
      "source": [
        "body = cleaned_cs['body'].value_counts().nlargest(10).reset_index()\n",
        "\n",
        "plt.figure(figsize=(15, 10))\n",
        "\n",
        "colors = [\n",
        "    '#FF4500',  # OrangeRed\n",
        "    '#FFD700',  # Gold\n",
        "    '#FF69B4',  # HotPink\n",
        "    '#6495ED',  # CornflowerBlue\n",
        "    '#ADFF2F',  # GreenYellow\n",
        "    '#FF8C00',  # DarkOrange\n",
        "    '#4682B4',  # SteelBlue\n",
        "    '#DAA520',  # GoldenRod\n",
        "    '#FFA07A',  # LightSalmon\n",
        "    '#20B2AA'   # LightSeaGreen\n",
        "]\n",
        "\n",
        "bars = plt.bar(body['body'], body['count'], color=colors)\n",
        "\n",
        "ax = plt.gca()\n",
        "ax.set_facecolor('black')\n",
        "plt.gcf().set_facecolor('black')\n",
        "\n",
        "plt.title('Top 10 Body Types Count', color='red', fontsize=20)\n",
        "plt.xlabel('Body Type', color='yellow', fontsize=16)\n",
        "plt.ylabel('Unit', color='yellow', fontsize=16)\n",
        "\n",
        "ax.tick_params(axis='x', colors='white', labelsize=12)\n",
        "ax.tick_params(axis='y', colors='white', labelsize=12)\n",
        "\n",
        "for spine in ax.spines.values():\n",
        "    spine.set_edgecolor('white')\n",
        "\n",
        "plt.show()\n"
      ]
    },
    {
      "cell_type": "code",
      "execution_count": 81,
      "metadata": {
        "id": "Z7JZxmlOuln9",
        "outputId": "4fc959f1-43f8-438d-b5e0-1ee2f46df1aa",
        "colab": {
          "base_uri": "https://localhost:8080/",
          "height": 952
        }
      },
      "outputs": [
        {
          "output_type": "display_data",
          "data": {
            "text/plain": [
              "<Figure size 1500x1000 with 1 Axes>"
            ],
            "image/png": "[encoded data removed]"
          },
          "metadata": {}
        }
      ],
      "source": [
        "\n",
        "color_counts = cleaned_cs['color'].value_counts().reset_index()\n",
        "color_counts.columns = ['color', 'count']\n",
        "\n",
        "all_car_colors = [\n",
        "    '#3d1c02',  # black(use brown instead)\n",
        "    '#FFFFFF',  # white\n",
        "    '#808080',  # gray\n",
        "    '#C0C0C0',  # silver\n",
        "    '#0000FF',  # blue\n",
        "    '#FF0000',  # red\n",
        "    '#FFD700',  # gold\n",
        "    '#008000',  # green\n",
        "    '#F5F5DC',  # beige\n",
        "    '#800020',  # burgundy\n",
        "    '#A52A2A',  # brown\n",
        "    '#FFA500',  # orange\n",
        "    '#800080',  # purple\n",
        "    '#FAF9F6',  # off-white\n",
        "    '#FFFF00',  # yellow\n",
        "    '#36454F',  # charcoal\n",
        "    '#40E0D0',  # turquoise\n",
        "    '#FFC0CB',  # pink\n",
        "    '#00FF00'   # lime\n",
        "]\n",
        "\n",
        "plt.figure(figsize=(15, 10))\n",
        "\n",
        "# Select the first 19 colors to match the number of unique colors in the dataset\n",
        "bars = plt.bar(color_counts['color'], color_counts['count'], color=all_car_colors[:len(color_counts)])\n",
        "\n",
        "ax = plt.gca()\n",
        "ax.set_facecolor('black')\n",
        "plt.gcf().set_facecolor('black')\n",
        "\n",
        "plt.title('Car color', color='red', fontsize=20)\n",
        "plt.xlabel('Car color', color='yellow', fontsize=16)\n",
        "plt.ylabel('Unit', color='yellow', fontsize=16)\n",
        "\n",
        "ax.tick_params(axis='x', colors='white', labelsize=12)\n",
        "ax.tick_params(axis='y', colors='white', labelsize=12)\n",
        "plt.xticks(rotation=90)\n",
        "\n",
        "for spine in ax.spines.values():\n",
        "    spine.set_edgecolor('white')\n",
        "\n",
        "plt.show()\n"
      ]
    },
    {
      "cell_type": "code",
      "execution_count": 82,
      "metadata": {
        "id": "A7jZa4WXuln9",
        "outputId": "586a9784-f310-4c39-f81f-ebaa0c61d7cf",
        "colab": {
          "base_uri": "https://localhost:8080/",
          "height": 952
        }
      },
      "outputs": [
        {
          "output_type": "display_data",
          "data": {
            "text/plain": [
              "<Figure size 1500x1000 with 1 Axes>"
            ],
            "image/png": "[encoded data removed]"
          },
          "metadata": {}
        }
      ],
      "source": [
        "interior_color_counts = cleaned_cs['interior'].value_counts().reset_index()\n",
        "interior_color = ['#000000', '#808080', '#f5f5dc', '#d2b48c', '#a52a2a', '#ff0000', '#0000ff', '#c0c0c0', '#f5f5f5', '#800080', '#ffd700', '#ffffff', '#008000', '#800020', '#ffa500', '#ffff00']\n",
        "\n",
        "plt.figure(figsize=(15, 10))\n",
        "bars = plt.bar(interior_color_counts['interior'], interior_color_counts['count'], color=interior_color[:len(color_counts)])\n",
        "\n",
        "ax = plt.gca()\n",
        "ax.set_facecolor('dimgray')\n",
        "plt.gcf().set_facecolor('black')\n",
        "\n",
        "plt.title('Interior Car color', color='red', fontsize=20)\n",
        "plt.xlabel('Color', color='yellow', fontsize=16)\n",
        "plt.ylabel('Unit', color='yellow', fontsize=16)\n",
        "\n",
        "ax.tick_params(axis='x', colors='white', labelsize=12)\n",
        "ax.tick_params(axis='y', colors='white', labelsize=12)\n",
        "plt.xticks(rotation=90)\n",
        "\n",
        "for spine in ax.spines.values():\n",
        "    spine.set_edgecolor('white')\n",
        "\n",
        "plt.show()"
      ]
    },
    {
      "cell_type": "code",
      "execution_count": 83,
      "metadata": {
        "id": "GldJVXNRuln9",
        "outputId": "eaa05c40-e208-475f-ed6e-b8d92af0d64e",
        "colab": {
          "base_uri": "https://localhost:8080/"
        }
      },
      "outputs": [
        {
          "output_type": "stream",
          "name": "stdout",
          "text": [
            "          model  count\n",
            "64       altima  19349\n",
            "260       f-150  14479\n",
            "288      fusion  12945\n",
            "121       camry  12545\n",
            "244      escape  11861\n",
            "..          ...    ...\n",
            "24   458 italia      1\n",
            "23    420-class      1\n",
            "22    400-class      1\n",
            "650      spirit      1\n",
            "392    le baron      1\n",
            "\n",
            "[772 rows x 2 columns]\n"
          ]
        }
      ],
      "source": [
        "model = cleaned_cs.groupby('model').size().reset_index(name='count')\n",
        "model = model.sort_values(by='count', ascending=False)\n",
        "\n",
        "print(model)\n"
      ]
    },
    {
      "cell_type": "code",
      "execution_count": 84,
      "metadata": {
        "id": "b16pGv0Duln-",
        "outputId": "71008729-aac5-4c1e-f1d6-36aae934f5d5",
        "colab": {
          "base_uri": "https://localhost:8080/",
          "height": 564
        }
      },
      "outputs": [
        {
          "output_type": "display_data",
          "data": {
            "text/plain": [
              "<Figure size 1000x600 with 1 Axes>"
            ],
            "image/png": "[encoded data removed]"
          },
          "metadata": {}
        }
      ],
      "source": [
        "altima = cleaned_cs[cleaned_cs['model'] == 'altima']\n",
        "altima_corr = altima['sellingprice'].corr(altima['odometer'])\n",
        "plt.figure(figsize=(10, 6), facecolor='black')\n",
        "plt.scatter(x=altima['sellingprice'], y=altima['odometer'], s=5, c='red', alpha=0.5)\n",
        "plt.xlim(left=0)\n",
        "plt.ylim(bottom=0)\n",
        "plt.xlabel('Selling Price', color='yellow')\n",
        "plt.ylabel('Odometer', color='yellow')\n",
        "plt.title('Selling Price and Odometer for Nissan Altima', color='red')\n",
        "plt.xticks(color='white')\n",
        "plt.yticks(color='white')\n",
        "plt.gca().set_facecolor('dimgrey')\n",
        "\n",
        "ax = plt.gca()\n",
        "for spine in ax.spines.values():\n",
        "    spine.set_edgecolor('white')\n",
        "\n",
        "\n",
        "plt.text(x=altima['sellingprice'].max() - (altima['sellingprice'].max() - altima['sellingprice'].min()) * 0.05,\n",
        "         y=altima['odometer'].max() - (altima['odometer'].max() - altima['odometer'].min()) * 0.05,\n",
        "         s=f'Correlation: {altima_corr:.2f}',\n",
        "         fontsize=12,\n",
        "         color='darkred',\n",
        "         horizontalalignment='right',\n",
        "         verticalalignment='top')\n",
        "\n",
        "plt.show()\n"
      ]
    },
    {
      "cell_type": "code",
      "execution_count": 85,
      "metadata": {
        "id": "EYpqXWVyuln-",
        "outputId": "2502afa7-a5dc-4b76-ac96-34dfc2431452",
        "colab": {
          "base_uri": "https://localhost:8080/",
          "height": 564
        }
      },
      "outputs": [
        {
          "output_type": "display_data",
          "data": {
            "text/plain": [
              "<Figure size 1000x600 with 1 Axes>"
            ],
            "image/png": "[encoded data removed]"
          },
          "metadata": {}
        }
      ],
      "source": [
        "f150 = cleaned_cs[cleaned_cs['model'] == 'f-150']\n",
        "f150_corr = f150['sellingprice'].corr(f150['odometer'])\n",
        "plt.figure(figsize=(10, 6), facecolor='black')\n",
        "plt.scatter(x=f150['sellingprice'],y= f150['odometer'], s=5, c='blue', alpha=0.5)\n",
        "plt.xlim(left=0)\n",
        "plt.ylim(bottom=0)\n",
        "plt.xlabel('Selling Price', color='yellow')\n",
        "plt.ylabel('Odometer', color='yellow')\n",
        "plt.title('Selling Price and Odometer for Nissan F-150', color='red')\n",
        "plt.xticks(color='white')\n",
        "plt.yticks(color='white')\n",
        "plt.gca().set_facecolor('dimgrey')\n",
        "\n",
        "ax = plt.gca()\n",
        "for spine in ax.spines.values():\n",
        "    spine.set_edgecolor('white')\n",
        "\n",
        "\n",
        "plt.text(x=f150['sellingprice'].max() - (f150['sellingprice'].max() - f150['sellingprice'].min()) * 0.05,\n",
        "         y=f150['odometer'].max() - (f150['odometer'].max() - f150['odometer'].min()) * 0.05,\n",
        "         s=f'Correlation: {f150_corr:.2f}',\n",
        "         fontsize=12,\n",
        "         color='darkred',\n",
        "         horizontalalignment='right',\n",
        "         verticalalignment='top')\n",
        "\n",
        "plt.show()\n",
        "\n",
        "\n"
      ]
    },
    {
      "cell_type": "code",
      "execution_count": 86,
      "metadata": {
        "id": "hM45O6vEuln-",
        "outputId": "eaf61c65-ef20-42ce-903c-5e312de3d7b0",
        "colab": {
          "base_uri": "https://localhost:8080/",
          "height": 617
        }
      },
      "outputs": [
        {
          "output_type": "display_data",
          "data": {
            "text/html": [
              "<html>\n",
              "<head><meta charset=\"utf-8\" /></head>\n",
              "<body>\n",
              "    <div>            <script src=\"https://cdnjs.cloudflare.com/ajax/libs/mathjax/2.7.5/MathJax.js?config=TeX-AMS-MML_SVG\"></script><script type=\"text/javascript\">if (window.MathJax && window.MathJax.Hub && window.MathJax.Hub.Config) {window.MathJax.Hub.Config({SVG: {font: \"STIX-Web\"}});}</script>                <script type=\"text/javascript\">window.PlotlyConfig = {MathJaxConfig: 'local'};</script>\n",
              "        <script charset=\"utf-8\" src=\"https://cdn.plot.ly/plotly-2.24.1.min.js\"></script>                <div id=\"59287cf5-3bed-4d17-8954-e53c5a3959de\" class=\"plotly-graph-div\" style=\"height:600px; width:1300px;\"></div>            <script type=\"text/javascript\">                                    window.PLOTLYENV=window.PLOTLYENV || {};                                    if (document.getElementById(\"59287cf5-3bed-4d17-8954-e53c5a3959de\")) {                    Plotly.newPlot(                        \"59287cf5-3bed-4d17-8954-e53c5a3959de\",                        [{\"branchvalues\":\"total\",\"customdata\":[[12.0],[4.0],[101.0],[205.0],[1339.0],[19349.0],[83.0],[789.0],[2.0],[42.0],[46.0],[1154.0],[1149.0],[40.0],[3961.0],[770.0],[42.0],[329.0],[234.0],[312.0],[27.0],[2.0],[4.0],[1335.0],[1950.0],[12545.0],[598.0],[368.0],[10.0],[1016.0],[227.0],[384.0],[100.0],[1196.0],[4538.0],[56.0],[1653.0],[813.0],[12.0],[7354.0],[1.0],[534.0],[113.0],[140.0],[6348.0],[286.0],[603.0],[1028.0],[2060.0],[5.0],[2.0],[3.0],[1823.0],[1282.0],[60.0],[750.0],[135.0],[5915.0],[4916.0],[11861.0],[134.0],[105.0],[136.0],[2826.0],[68.0],[7707.0],[131.0],[403.0],[293.0],[1063.0],[14479.0],[45.0],[3.0],[1.0],[2559.0],[1123.0],[77.0],[2375.0],[358.0],[385.0],[1207.0],[10394.0],[64.0],[262.0],[278.0],[1411.0],[12945.0],[51.0],[642.0],[7941.0],[61.0],[1092.0],[2232.0],[204.0],[7923.0],[1102.0],[115.0],[3100.0],[479.0],[108.0],[1514.0],[54.0],[375.0],[7107.0],[44.0],[24.0],[172.0],[349.0],[6611.0],[398.0],[16.0],[2904.0],[42.0],[4950.0],[12.0],[246.0],[610.0],[42.0],[58.0],[3.0],[29.0],[1.0],[2152.0],[7.0],[1840.0],[117.0],[45.0],[103.0],[31.0],[802.0],[7.0],[2234.0],[505.0],[201.0],[1.0],[1851.0],[3209.0],[5589.0],[133.0],[221.0],[3.0],[5465.0],[596.0],[100.0],[2825.0],[6362.0],[188.0],[3.0],[44.0],[25.0],[1443.0],[65.0],[38.0],[3.0],[154.0],[1783.0],[322.0],[2.0],[1.0],[3.0],[119.0],[13.0],[27.0],[291.0],[2401.0],[4.0],[1140.0],[3094.0],[33.0],[11.0],[4649.0],[89.0],[3.0],[20.0],[98.0],[802.0],[69.0],[1133.0],[190.0],[700.0],[19.0],[17.0],[2012.0],[16.0],[1314.0],[342.0],[179.0],[578.0],[3092.0],[658.0],[11.0],[506.0],[212.0],[4.0],[1254.0],[1225.0],[4309.714534970671],[4033.2252181841864],[8550.967889859225],[9461.581915248582],[6202.299741666876]],\"domain\":{\"x\":[0.0,1.0],\"y\":[0.0,1.0]},\"hovertemplate\":\"labels=%{label}\\u003cbr\\u003ecount_body_sum=%{value}\\u003cbr\\u003eparent=%{parent}\\u003cbr\\u003eid=%{id}\\u003cbr\\u003ecount_body=%{color}\\u003cextra\\u003e\\u003c\\u002fextra\\u003e\",\"ids\":[\"nissan\\u002f200sx\",\"nissan\\u002f300zx\",\"nissan\\u002f350z\",\"nissan\\u002f370z\",\"toyota\\u002f4runner\",\"nissan\\u002faltima\",\"nissan\\u002faltima hybrid\",\"nissan\\u002farmada\",\"ford\\u002faspire\",\"chevrolet\\u002fastro\",\"chevrolet\\u002fastro cargo\",\"chevrolet\\u002favalanche\",\"toyota\\u002favalon\",\"toyota\\u002favalon hybrid\",\"dodge\\u002favenger\",\"chevrolet\\u002faveo\",\"chevrolet\\u002fblack diamond avalanche\",\"chevrolet\\u002fblazer\",\"ford\\u002fc-max energi\",\"ford\\u002fc-max hybrid\",\"chevrolet\\u002fc\\u002fk 1500 series\",\"chevrolet\\u002fc\\u002fk 2500 series\",\"chevrolet\\u002fc\\u002fk 3500 series\",\"dodge\\u002fcaliber\",\"chevrolet\\u002fcamaro\",\"toyota\\u002fcamry\",\"toyota\\u002fcamry hybrid\",\"toyota\\u002fcamry solara\",\"chevrolet\\u002fcaprice\",\"chevrolet\\u002fcaptiva sport\",\"dodge\\u002fcaravan\",\"chevrolet\\u002fcavalier\",\"toyota\\u002fcelica\",\"dodge\\u002fchallenger\",\"dodge\\u002fcharger\",\"chevrolet\\u002fclassic\",\"chevrolet\\u002fcobalt\",\"chevrolet\\u002fcolorado\",\"ford\\u002fcontour\",\"toyota\\u002fcorolla\",\"chevrolet\\u002fcorsica\",\"chevrolet\\u002fcorvette\",\"chevrolet\\u002fcorvette stingray\",\"ford\\u002fcrown victoria\",\"chevrolet\\u002fcruze\",\"nissan\\u002fcube\",\"dodge\\u002fdakota\",\"dodge\\u002fdart\",\"dodge\\u002fdurango\",\"ford\\u002fe-150\",\"ford\\u002fe-250\",\"ford\\u002fe-350\",\"ford\\u002fe-series van\",\"ford\\u002fe-series wagon\",\"toyota\\u002fecho\",\"ford\\u002feconoline cargo\",\"ford\\u002feconoline wagon\",\"ford\\u002fedge\",\"chevrolet\\u002fequinox\",\"ford\\u002fescape\",\"ford\\u002fescape hybrid\",\"ford\\u002fescort\",\"ford\\u002fexcursion\",\"ford\\u002fexpedition\",\"ford\\u002fexpedition el\",\"ford\\u002fexplorer\",\"ford\\u002fexplorer sport\",\"ford\\u002fexplorer sport trac\",\"chevrolet\\u002fexpress\",\"chevrolet\\u002fexpress cargo\",\"ford\\u002ff-150\",\"ford\\u002ff-150 heritage\",\"ford\\u002ff-150 svt lightning\",\"ford\\u002ff-250\",\"ford\\u002ff-250 super duty\",\"ford\\u002ff-350 super duty\",\"ford\\u002ff-450 super duty\",\"ford\\u002ffiesta\",\"ford\\u002ffive hundred\",\"toyota\\u002ffj cruiser\",\"ford\\u002fflex\",\"ford\\u002ffocus\",\"ford\\u002ffocus st\",\"ford\\u002ffreestar\",\"ford\\u002ffreestyle\",\"nissan\\u002ffrontier\",\"ford\\u002ffusion\",\"ford\\u002ffusion energi\",\"ford\\u002ffusion hybrid\",\"dodge\\u002fgrand caravan\",\"nissan\\u002fgt-r\",\"chevrolet\\u002fhhr\",\"toyota\\u002fhighlander\",\"toyota\\u002fhighlander hybrid\",\"chevrolet\\u002fimpala\",\"chevrolet\\u002fimpala limited\",\"dodge\\u002fintrepid\",\"dodge\\u002fjourney\",\"nissan\\u002fjuke\",\"toyota\\u002fland cruiser\",\"nissan\\u002fleaf\",\"chevrolet\\u002flumina\",\"dodge\\u002fmagnum\",\"chevrolet\\u002fmalibu\",\"chevrolet\\u002fmalibu classic\",\"chevrolet\\u002fmalibu hybrid\",\"chevrolet\\u002fmalibu maxx\",\"toyota\\u002fmatrix\",\"nissan\\u002fmaxima\",\"chevrolet\\u002fmonte carlo\",\"toyota\\u002fmr2 spyder\",\"nissan\\u002fmurano\",\"nissan\\u002fmurano crosscabriolet\",\"ford\\u002fmustang\",\"ford\\u002fmustang svt cobra\",\"dodge\\u002fneon\",\"dodge\\u002fnitro\",\"nissan\\u002fnv\",\"nissan\\u002fnv cargo\",\"nissan\\u002fnv passenger\",\"nissan\\u002fnv200\",\"toyota\\u002fpaseo\",\"nissan\\u002fpathfinder\",\"toyota\\u002fpickup\",\"toyota\\u002fprius\",\"toyota\\u002fprius c\",\"toyota\\u002fprius plug-in\",\"toyota\\u002fprius v\",\"chevrolet\\u002fprizm\",\"nissan\\u002fquest\",\"dodge\\u002fram cargo\",\"dodge\\u002fram pickup 1500\",\"dodge\\u002fram pickup 2500\",\"dodge\\u002fram pickup 3500\",\"dodge\\u002fram van\",\"ford\\u002franger\",\"toyota\\u002frav4\",\"nissan\\u002frogue\",\"nissan\\u002frogue select\",\"chevrolet\\u002fs-10\",\"chevrolet\\u002fs-10 blazer\",\"nissan\\u002fsentra\",\"toyota\\u002fsequoia\",\"ford\\u002fshelby gt500\",\"toyota\\u002fsienna\",\"chevrolet\\u002fsilverado 1500\",\"chevrolet\\u002fsilverado 1500 classic\",\"chevrolet\\u002fsilverado 1500 hybrid\",\"chevrolet\\u002fsilverado 1500hd\",\"chevrolet\\u002fsilverado 2500\",\"chevrolet\\u002fsilverado 2500hd\",\"chevrolet\\u002fsilverado 2500hd classic\",\"chevrolet\\u002fsilverado 3500\",\"chevrolet\\u002fsilverado 3500 classic\",\"chevrolet\\u002fsilverado 3500hd\",\"chevrolet\\u002fsonic\",\"chevrolet\\u002fspark\",\"chevrolet\\u002fspark ev\",\"dodge\\u002fspirit\",\"dodge\\u002fsprinter\",\"dodge\\u002fsprinter cargo\",\"chevrolet\\u002fss\",\"chevrolet\\u002fssr\",\"dodge\\u002fstratus\",\"chevrolet\\u002fsuburban\",\"toyota\\u002ft100\",\"toyota\\u002ftacoma\",\"chevrolet\\u002ftahoe\",\"chevrolet\\u002ftahoe hybrid\",\"chevrolet\\u002ftahoe limited\\u002fz71\",\"ford\\u002ftaurus\",\"ford\\u002ftaurus x\",\"ford\\u002ftempo\",\"toyota\\u002ftercel\",\"ford\\u002fthunderbird\",\"nissan\\u002ftitan\",\"chevrolet\\u002ftracker\",\"chevrolet\\u002ftrailblazer\",\"chevrolet\\u002ftrailblazer ext\",\"ford\\u002ftransit connect\",\"ford\\u002ftransit van\",\"ford\\u002ftransit wagon\",\"chevrolet\\u002ftraverse\",\"nissan\\u002ftruck\",\"toyota\\u002ftundra\",\"chevrolet\\u002fuplander\",\"chevrolet\\u002fventure\",\"toyota\\u002fvenza\",\"nissan\\u002fversa\",\"nissan\\u002fversa note\",\"dodge\\u002fviper\",\"chevrolet\\u002fvolt\",\"ford\\u002fwindstar\",\"ford\\u002fwindstar cargo\",\"nissan\\u002fxterra\",\"toyota\\u002fyaris\",\"chevrolet\",\"dodge\",\"ford\",\"nissan\",\"toyota\"],\"labels\":[\"200sx\",\"300zx\",\"350z\",\"370z\",\"4runner\",\"altima\",\"altima hybrid\",\"armada\",\"aspire\",\"astro\",\"astro cargo\",\"avalanche\",\"avalon\",\"avalon hybrid\",\"avenger\",\"aveo\",\"black diamond avalanche\",\"blazer\",\"c-max energi\",\"c-max hybrid\",\"c\\u002fk 1500 series\",\"c\\u002fk 2500 series\",\"c\\u002fk 3500 series\",\"caliber\",\"camaro\",\"camry\",\"camry hybrid\",\"camry solara\",\"caprice\",\"captiva sport\",\"caravan\",\"cavalier\",\"celica\",\"challenger\",\"charger\",\"classic\",\"cobalt\",\"colorado\",\"contour\",\"corolla\",\"corsica\",\"corvette\",\"corvette stingray\",\"crown victoria\",\"cruze\",\"cube\",\"dakota\",\"dart\",\"durango\",\"e-150\",\"e-250\",\"e-350\",\"e-series van\",\"e-series wagon\",\"echo\",\"econoline cargo\",\"econoline wagon\",\"edge\",\"equinox\",\"escape\",\"escape hybrid\",\"escort\",\"excursion\",\"expedition\",\"expedition el\",\"explorer\",\"explorer sport\",\"explorer sport trac\",\"express\",\"express cargo\",\"f-150\",\"f-150 heritage\",\"f-150 svt lightning\",\"f-250\",\"f-250 super duty\",\"f-350 super duty\",\"f-450 super duty\",\"fiesta\",\"five hundred\",\"fj cruiser\",\"flex\",\"focus\",\"focus st\",\"freestar\",\"freestyle\",\"frontier\",\"fusion\",\"fusion energi\",\"fusion hybrid\",\"grand caravan\",\"gt-r\",\"hhr\",\"highlander\",\"highlander hybrid\",\"impala\",\"impala limited\",\"intrepid\",\"journey\",\"juke\",\"land cruiser\",\"leaf\",\"lumina\",\"magnum\",\"malibu\",\"malibu classic\",\"malibu hybrid\",\"malibu maxx\",\"matrix\",\"maxima\",\"monte carlo\",\"mr2 spyder\",\"murano\",\"murano crosscabriolet\",\"mustang\",\"mustang svt cobra\",\"neon\",\"nitro\",\"nv\",\"nv cargo\",\"nv passenger\",\"nv200\",\"paseo\",\"pathfinder\",\"pickup\",\"prius\",\"prius c\",\"prius plug-in\",\"prius v\",\"prizm\",\"quest\",\"ram cargo\",\"ram pickup 1500\",\"ram pickup 2500\",\"ram pickup 3500\",\"ram van\",\"ranger\",\"rav4\",\"rogue\",\"rogue select\",\"s-10\",\"s-10 blazer\",\"sentra\",\"sequoia\",\"shelby gt500\",\"sienna\",\"silverado 1500\",\"silverado 1500 classic\",\"silverado 1500 hybrid\",\"silverado 1500hd\",\"silverado 2500\",\"silverado 2500hd\",\"silverado 2500hd classic\",\"silverado 3500\",\"silverado 3500 classic\",\"silverado 3500hd\",\"sonic\",\"spark\",\"spark ev\",\"spirit\",\"sprinter\",\"sprinter cargo\",\"ss\",\"ssr\",\"stratus\",\"suburban\",\"t100\",\"tacoma\",\"tahoe\",\"tahoe hybrid\",\"tahoe limited\\u002fz71\",\"taurus\",\"taurus x\",\"tempo\",\"tercel\",\"thunderbird\",\"titan\",\"tracker\",\"trailblazer\",\"trailblazer ext\",\"transit connect\",\"transit van\",\"transit wagon\",\"traverse\",\"truck\",\"tundra\",\"uplander\",\"venture\",\"venza\",\"versa\",\"versa note\",\"viper\",\"volt\",\"windstar\",\"windstar cargo\",\"xterra\",\"yaris\",\"chevrolet\",\"dodge\",\"ford\",\"nissan\",\"toyota\"],\"marker\":{\"coloraxis\":\"coloraxis\",\"colors\":[12.0,4.0,101.0,205.0,1339.0,19349.0,83.0,789.0,2.0,42.0,46.0,1154.0,1149.0,40.0,3961.0,770.0,42.0,329.0,234.0,312.0,27.0,2.0,4.0,1335.0,1950.0,12545.0,598.0,368.0,10.0,1016.0,227.0,384.0,100.0,1196.0,4538.0,56.0,1653.0,813.0,12.0,7354.0,1.0,534.0,113.0,140.0,6348.0,286.0,603.0,1028.0,2060.0,5.0,2.0,3.0,1823.0,1282.0,60.0,750.0,135.0,5915.0,4916.0,11861.0,134.0,105.0,136.0,2826.0,68.0,7707.0,131.0,403.0,293.0,1063.0,14479.0,45.0,3.0,1.0,2559.0,1123.0,77.0,2375.0,358.0,385.0,1207.0,10394.0,64.0,262.0,278.0,1411.0,12945.0,51.0,642.0,7941.0,61.0,1092.0,2232.0,204.0,7923.0,1102.0,115.0,3100.0,479.0,108.0,1514.0,54.0,375.0,7107.0,44.0,24.0,172.0,349.0,6611.0,398.0,16.0,2904.0,42.0,4950.0,12.0,246.0,610.0,42.0,58.0,3.0,29.0,1.0,2152.0,7.0,1840.0,117.0,45.0,103.0,31.0,802.0,7.0,2234.0,505.0,201.0,1.0,1851.0,3209.0,5589.0,133.0,221.0,3.0,5465.0,596.0,100.0,2825.0,6362.0,188.0,3.0,44.0,25.0,1443.0,65.0,38.0,3.0,154.0,1783.0,322.0,2.0,1.0,3.0,119.0,13.0,27.0,291.0,2401.0,4.0,1140.0,3094.0,33.0,11.0,4649.0,89.0,3.0,20.0,98.0,802.0,69.0,1133.0,190.0,700.0,19.0,17.0,2012.0,16.0,1314.0,342.0,179.0,578.0,3092.0,658.0,11.0,506.0,212.0,4.0,1254.0,1225.0,4309.714534970671,4033.2252181841864,8550.967889859225,9461.581915248582,6202.299741666876]},\"name\":\"\",\"parents\":[\"nissan\",\"nissan\",\"nissan\",\"nissan\",\"toyota\",\"nissan\",\"nissan\",\"nissan\",\"ford\",\"chevrolet\",\"chevrolet\",\"chevrolet\",\"toyota\",\"toyota\",\"dodge\",\"chevrolet\",\"chevrolet\",\"chevrolet\",\"ford\",\"ford\",\"chevrolet\",\"chevrolet\",\"chevrolet\",\"dodge\",\"chevrolet\",\"toyota\",\"toyota\",\"toyota\",\"chevrolet\",\"chevrolet\",\"dodge\",\"chevrolet\",\"toyota\",\"dodge\",\"dodge\",\"chevrolet\",\"chevrolet\",\"chevrolet\",\"ford\",\"toyota\",\"chevrolet\",\"chevrolet\",\"chevrolet\",\"ford\",\"chevrolet\",\"nissan\",\"dodge\",\"dodge\",\"dodge\",\"ford\",\"ford\",\"ford\",\"ford\",\"ford\",\"toyota\",\"ford\",\"ford\",\"ford\",\"chevrolet\",\"ford\",\"ford\",\"ford\",\"ford\",\"ford\",\"ford\",\"ford\",\"ford\",\"ford\",\"chevrolet\",\"chevrolet\",\"ford\",\"ford\",\"ford\",\"ford\",\"ford\",\"ford\",\"ford\",\"ford\",\"ford\",\"toyota\",\"ford\",\"ford\",\"ford\",\"ford\",\"ford\",\"nissan\",\"ford\",\"ford\",\"ford\",\"dodge\",\"nissan\",\"chevrolet\",\"toyota\",\"toyota\",\"chevrolet\",\"chevrolet\",\"dodge\",\"dodge\",\"nissan\",\"toyota\",\"nissan\",\"chevrolet\",\"dodge\",\"chevrolet\",\"chevrolet\",\"chevrolet\",\"chevrolet\",\"toyota\",\"nissan\",\"chevrolet\",\"toyota\",\"nissan\",\"nissan\",\"ford\",\"ford\",\"dodge\",\"dodge\",\"nissan\",\"nissan\",\"nissan\",\"nissan\",\"toyota\",\"nissan\",\"toyota\",\"toyota\",\"toyota\",\"toyota\",\"toyota\",\"chevrolet\",\"nissan\",\"dodge\",\"dodge\",\"dodge\",\"dodge\",\"dodge\",\"ford\",\"toyota\",\"nissan\",\"nissan\",\"chevrolet\",\"chevrolet\",\"nissan\",\"toyota\",\"ford\",\"toyota\",\"chevrolet\",\"chevrolet\",\"chevrolet\",\"chevrolet\",\"chevrolet\",\"chevrolet\",\"chevrolet\",\"chevrolet\",\"chevrolet\",\"chevrolet\",\"chevrolet\",\"chevrolet\",\"chevrolet\",\"dodge\",\"dodge\",\"dodge\",\"chevrolet\",\"chevrolet\",\"dodge\",\"chevrolet\",\"toyota\",\"toyota\",\"chevrolet\",\"chevrolet\",\"chevrolet\",\"ford\",\"ford\",\"ford\",\"toyota\",\"ford\",\"nissan\",\"chevrolet\",\"chevrolet\",\"chevrolet\",\"ford\",\"ford\",\"ford\",\"chevrolet\",\"nissan\",\"toyota\",\"chevrolet\",\"chevrolet\",\"toyota\",\"nissan\",\"nissan\",\"dodge\",\"chevrolet\",\"ford\",\"ford\",\"nissan\",\"toyota\",\"\",\"\",\"\",\"\",\"\"],\"values\":[12,4,101,205,1339,19349,83,789,2,42,46,1154,1149,40,3961,770,42,329,234,312,27,2,4,1335,1950,12545,598,368,10,1016,227,384,100,1196,4538,56,1653,813,12,7354,1,534,113,140,6348,286,603,1028,2060,5,2,3,1823,1282,60,750,135,5915,4916,11861,134,105,136,2826,68,7707,131,403,293,1063,14479,45,3,1,2559,1123,77,2375,358,385,1207,10394,64,262,278,1411,12945,51,642,7941,61,1092,2232,204,7923,1102,115,3100,479,108,1514,54,375,7107,44,24,172,349,6611,398,16,2904,42,4950,12,246,610,42,58,3,29,1,2152,7,1840,117,45,103,31,802,7,2234,505,201,1,1851,3209,5589,133,221,3,5465,596,100,2825,6362,188,3,44,25,1443,65,38,3,154,1783,322,2,1,3,119,13,27,291,2401,4,1140,3094,33,11,4649,89,3,20,98,802,69,1133,190,700,19,17,2012,16,1314,342,179,578,3092,658,11,506,212,4,1254,1225,60179,30708,93553,53946,39871],\"type\":\"treemap\"}],                        {\"template\":{\"data\":{\"histogram2dcontour\":[{\"type\":\"histogram2dcontour\",\"colorbar\":{\"outlinewidth\":0,\"ticks\":\"\"},\"colorscale\":[[0.0,\"#0d0887\"],[0.1111111111111111,\"#46039f\"],[0.2222222222222222,\"#7201a8\"],[0.3333333333333333,\"#9c179e\"],[0.4444444444444444,\"#bd3786\"],[0.5555555555555556,\"#d8576b\"],[0.6666666666666666,\"#ed7953\"],[0.7777777777777778,\"#fb9f3a\"],[0.8888888888888888,\"#fdca26\"],[1.0,\"#f0f921\"]]}],\"choropleth\":[{\"type\":\"choropleth\",\"colorbar\":{\"outlinewidth\":0,\"ticks\":\"\"}}],\"histogram2d\":[{\"type\":\"histogram2d\",\"colorbar\":{\"outlinewidth\":0,\"ticks\":\"\"},\"colorscale\":[[0.0,\"#0d0887\"],[0.1111111111111111,\"#46039f\"],[0.2222222222222222,\"#7201a8\"],[0.3333333333333333,\"#9c179e\"],[0.4444444444444444,\"#bd3786\"],[0.5555555555555556,\"#d8576b\"],[0.6666666666666666,\"#ed7953\"],[0.7777777777777778,\"#fb9f3a\"],[0.8888888888888888,\"#fdca26\"],[1.0,\"#f0f921\"]]}],\"heatmap\":[{\"type\":\"heatmap\",\"colorbar\":{\"outlinewidth\":0,\"ticks\":\"\"},\"colorscale\":[[0.0,\"#0d0887\"],[0.1111111111111111,\"#46039f\"],[0.2222222222222222,\"#7201a8\"],[0.3333333333333333,\"#9c179e\"],[0.4444444444444444,\"#bd3786\"],[0.5555555555555556,\"#d8576b\"],[0.6666666666666666,\"#ed7953\"],[0.7777777777777778,\"#fb9f3a\"],[0.8888888888888888,\"#fdca26\"],[1.0,\"#f0f921\"]]}],\"heatmapgl\":[{\"type\":\"heatmapgl\",\"colorbar\":{\"outlinewidth\":0,\"ticks\":\"\"},\"colorscale\":[[0.0,\"#0d0887\"],[0.1111111111111111,\"#46039f\"],[0.2222222222222222,\"#7201a8\"],[0.3333333333333333,\"#9c179e\"],[0.4444444444444444,\"#bd3786\"],[0.5555555555555556,\"#d8576b\"],[0.6666666666666666,\"#ed7953\"],[0.7777777777777778,\"#fb9f3a\"],[0.8888888888888888,\"#fdca26\"],[1.0,\"#f0f921\"]]}],\"contourcarpet\":[{\"type\":\"contourcarpet\",\"colorbar\":{\"outlinewidth\":0,\"ticks\":\"\"}}],\"contour\":[{\"type\":\"contour\",\"colorbar\":{\"outlinewidth\":0,\"ticks\":\"\"},\"colorscale\":[[0.0,\"#0d0887\"],[0.1111111111111111,\"#46039f\"],[0.2222222222222222,\"#7201a8\"],[0.3333333333333333,\"#9c179e\"],[0.4444444444444444,\"#bd3786\"],[0.5555555555555556,\"#d8576b\"],[0.6666666666666666,\"#ed7953\"],[0.7777777777777778,\"#fb9f3a\"],[0.8888888888888888,\"#fdca26\"],[1.0,\"#f0f921\"]]}],\"surface\":[{\"type\":\"surface\",\"colorbar\":{\"outlinewidth\":0,\"ticks\":\"\"},\"colorscale\":[[0.0,\"#0d0887\"],[0.1111111111111111,\"#46039f\"],[0.2222222222222222,\"#7201a8\"],[0.3333333333333333,\"#9c179e\"],[0.4444444444444444,\"#bd3786\"],[0.5555555555555556,\"#d8576b\"],[0.6666666666666666,\"#ed7953\"],[0.7777777777777778,\"#fb9f3a\"],[0.8888888888888888,\"#fdca26\"],[1.0,\"#f0f921\"]]}],\"mesh3d\":[{\"type\":\"mesh3d\",\"colorbar\":{\"outlinewidth\":0,\"ticks\":\"\"}}],\"scatter\":[{\"fillpattern\":{\"fillmode\":\"overlay\",\"size\":10,\"solidity\":0.2},\"type\":\"scatter\"}],\"parcoords\":[{\"type\":\"parcoords\",\"line\":{\"colorbar\":{\"outlinewidth\":0,\"ticks\":\"\"}}}],\"scatterpolargl\":[{\"type\":\"scatterpolargl\",\"marker\":{\"colorbar\":{\"outlinewidth\":0,\"ticks\":\"\"}}}],\"bar\":[{\"error_x\":{\"color\":\"#2a3f5f\"},\"error_y\":{\"color\":\"#2a3f5f\"},\"marker\":{\"line\":{\"color\":\"#E5ECF6\",\"width\":0.5},\"pattern\":{\"fillmode\":\"overlay\",\"size\":10,\"solidity\":0.2}},\"type\":\"bar\"}],\"scattergeo\":[{\"type\":\"scattergeo\",\"marker\":{\"colorbar\":{\"outlinewidth\":0,\"ticks\":\"\"}}}],\"scatterpolar\":[{\"type\":\"scatterpolar\",\"marker\":{\"colorbar\":{\"outlinewidth\":0,\"ticks\":\"\"}}}],\"histogram\":[{\"marker\":{\"pattern\":{\"fillmode\":\"overlay\",\"size\":10,\"solidity\":0.2}},\"type\":\"histogram\"}],\"scattergl\":[{\"type\":\"scattergl\",\"marker\":{\"colorbar\":{\"outlinewidth\":0,\"ticks\":\"\"}}}],\"scatter3d\":[{\"type\":\"scatter3d\",\"line\":{\"colorbar\":{\"outlinewidth\":0,\"ticks\":\"\"}},\"marker\":{\"colorbar\":{\"outlinewidth\":0,\"ticks\":\"\"}}}],\"scattermapbox\":[{\"type\":\"scattermapbox\",\"marker\":{\"colorbar\":{\"outlinewidth\":0,\"ticks\":\"\"}}}],\"scatterternary\":[{\"type\":\"scatterternary\",\"marker\":{\"colorbar\":{\"outlinewidth\":0,\"ticks\":\"\"}}}],\"scattercarpet\":[{\"type\":\"scattercarpet\",\"marker\":{\"colorbar\":{\"outlinewidth\":0,\"ticks\":\"\"}}}],\"carpet\":[{\"aaxis\":{\"endlinecolor\":\"#2a3f5f\",\"gridcolor\":\"white\",\"linecolor\":\"white\",\"minorgridcolor\":\"white\",\"startlinecolor\":\"#2a3f5f\"},\"baxis\":{\"endlinecolor\":\"#2a3f5f\",\"gridcolor\":\"white\",\"linecolor\":\"white\",\"minorgridcolor\":\"white\",\"startlinecolor\":\"#2a3f5f\"},\"type\":\"carpet\"}],\"table\":[{\"cells\":{\"fill\":{\"color\":\"#EBF0F8\"},\"line\":{\"color\":\"white\"}},\"header\":{\"fill\":{\"color\":\"#C8D4E3\"},\"line\":{\"color\":\"white\"}},\"type\":\"table\"}],\"barpolar\":[{\"marker\":{\"line\":{\"color\":\"#E5ECF6\",\"width\":0.5},\"pattern\":{\"fillmode\":\"overlay\",\"size\":10,\"solidity\":0.2}},\"type\":\"barpolar\"}],\"pie\":[{\"automargin\":true,\"type\":\"pie\"}]},\"layout\":{\"autotypenumbers\":\"strict\",\"colorway\":[\"#636efa\",\"#EF553B\",\"#00cc96\",\"#ab63fa\",\"#FFA15A\",\"#19d3f3\",\"#FF6692\",\"#B6E880\",\"#FF97FF\",\"#FECB52\"],\"font\":{\"color\":\"#2a3f5f\"},\"hovermode\":\"closest\",\"hoverlabel\":{\"align\":\"left\"},\"paper_bgcolor\":\"white\",\"plot_bgcolor\":\"#E5ECF6\",\"polar\":{\"bgcolor\":\"#E5ECF6\",\"angularaxis\":{\"gridcolor\":\"white\",\"linecolor\":\"white\",\"ticks\":\"\"},\"radialaxis\":{\"gridcolor\":\"white\",\"linecolor\":\"white\",\"ticks\":\"\"}},\"ternary\":{\"bgcolor\":\"#E5ECF6\",\"aaxis\":{\"gridcolor\":\"white\",\"linecolor\":\"white\",\"ticks\":\"\"},\"baxis\":{\"gridcolor\":\"white\",\"linecolor\":\"white\",\"ticks\":\"\"},\"caxis\":{\"gridcolor\":\"white\",\"linecolor\":\"white\",\"ticks\":\"\"}},\"coloraxis\":{\"colorbar\":{\"outlinewidth\":0,\"ticks\":\"\"}},\"colorscale\":{\"sequential\":[[0.0,\"#0d0887\"],[0.1111111111111111,\"#46039f\"],[0.2222222222222222,\"#7201a8\"],[0.3333333333333333,\"#9c179e\"],[0.4444444444444444,\"#bd3786\"],[0.5555555555555556,\"#d8576b\"],[0.6666666666666666,\"#ed7953\"],[0.7777777777777778,\"#fb9f3a\"],[0.8888888888888888,\"#fdca26\"],[1.0,\"#f0f921\"]],\"sequentialminus\":[[0.0,\"#0d0887\"],[0.1111111111111111,\"#46039f\"],[0.2222222222222222,\"#7201a8\"],[0.3333333333333333,\"#9c179e\"],[0.4444444444444444,\"#bd3786\"],[0.5555555555555556,\"#d8576b\"],[0.6666666666666666,\"#ed7953\"],[0.7777777777777778,\"#fb9f3a\"],[0.8888888888888888,\"#fdca26\"],[1.0,\"#f0f921\"]],\"diverging\":[[0,\"#8e0152\"],[0.1,\"#c51b7d\"],[0.2,\"#de77ae\"],[0.3,\"#f1b6da\"],[0.4,\"#fde0ef\"],[0.5,\"#f7f7f7\"],[0.6,\"#e6f5d0\"],[0.7,\"#b8e186\"],[0.8,\"#7fbc41\"],[0.9,\"#4d9221\"],[1,\"#276419\"]]},\"xaxis\":{\"gridcolor\":\"white\",\"linecolor\":\"white\",\"ticks\":\"\",\"title\":{\"standoff\":15},\"zerolinecolor\":\"white\",\"automargin\":true,\"zerolinewidth\":2},\"yaxis\":{\"gridcolor\":\"white\",\"linecolor\":\"white\",\"ticks\":\"\",\"title\":{\"standoff\":15},\"zerolinecolor\":\"white\",\"automargin\":true,\"zerolinewidth\":2},\"scene\":{\"xaxis\":{\"backgroundcolor\":\"#E5ECF6\",\"gridcolor\":\"white\",\"linecolor\":\"white\",\"showbackground\":true,\"ticks\":\"\",\"zerolinecolor\":\"white\",\"gridwidth\":2},\"yaxis\":{\"backgroundcolor\":\"#E5ECF6\",\"gridcolor\":\"white\",\"linecolor\":\"white\",\"showbackground\":true,\"ticks\":\"\",\"zerolinecolor\":\"white\",\"gridwidth\":2},\"zaxis\":{\"backgroundcolor\":\"#E5ECF6\",\"gridcolor\":\"white\",\"linecolor\":\"white\",\"showbackground\":true,\"ticks\":\"\",\"zerolinecolor\":\"white\",\"gridwidth\":2}},\"shapedefaults\":{\"line\":{\"color\":\"#2a3f5f\"}},\"annotationdefaults\":{\"arrowcolor\":\"#2a3f5f\",\"arrowhead\":0,\"arrowwidth\":1},\"geo\":{\"bgcolor\":\"white\",\"landcolor\":\"#E5ECF6\",\"subunitcolor\":\"white\",\"showland\":true,\"showlakes\":true,\"lakecolor\":\"white\"},\"title\":{\"x\":0.05},\"mapbox\":{\"style\":\"light\"}}},\"coloraxis\":{\"colorbar\":{\"title\":{\"text\":\"count_body\"}},\"colorscale\":[[0.0,\"#000004\"],[0.1111111111111111,\"#1b0c41\"],[0.2222222222222222,\"#4a0c6b\"],[0.3333333333333333,\"#781c6d\"],[0.4444444444444444,\"#a52c60\"],[0.5555555555555556,\"#cf4446\"],[0.6666666666666666,\"#ed6925\"],[0.7777777777777778,\"#fb9b06\"],[0.8888888888888888,\"#f7d13d\"],[1.0,\"#fcffa4\"]]},\"legend\":{\"tracegroupgap\":0},\"title\":{\"text\":\"Top 5\"},\"height\":600,\"width\":1300,\"margin\":{\"t\":50,\"l\":0,\"r\":0,\"b\":0}},                        {\"responsive\": true}                    ).then(function(){\n",
              "                            \n",
              "var gd = document.getElementById('59287cf5-3bed-4d17-8954-e53c5a3959de');\n",
              "var x = new MutationObserver(function (mutations, observer) {{\n",
              "        var display = window.getComputedStyle(gd).display;\n",
              "        if (!display || display === 'none') {{\n",
              "            console.log([gd, 'removed!']);\n",
              "            Plotly.purge(gd);\n",
              "            observer.disconnect();\n",
              "        }}\n",
              "}});\n",
              "\n",
              "// Listen for the removal of the full notebook cells\n",
              "var notebookContainer = gd.closest('#notebook-container');\n",
              "if (notebookContainer) {{\n",
              "    x.observe(notebookContainer, {childList: true});\n",
              "}}\n",
              "\n",
              "// Listen for the clearing of the current output cell\n",
              "var outputEl = gd.closest('.output');\n",
              "if (outputEl) {{\n",
              "    x.observe(outputEl, {childList: true});\n",
              "}}\n",
              "\n",
              "                        })                };                            </script>        </div>\n",
              "</body>\n",
              "</html>"
            ]
          },
          "metadata": {}
        }
      ],
      "source": [
        "tm = cleaned_cs[['make','model','body']]\n",
        "tm_gs = tm.groupby(['make','model']).count().reset_index()\n",
        "tm_gs = tm_gs.rename(columns={'body': 'count_body'})\n",
        "# The most top 5 Brand\n",
        "top_makes = tm_gs.groupby('make')['count_body'].sum().nlargest(5).index.tolist()\n",
        "tlist = ['ford', 'chevrolet', 'nissan', 'toyota', 'dodge']\n",
        "top_5_tm_gs = tm_gs[tm_gs['make'].isin(tlist)]\n",
        "\n",
        "# Sort data by brand and count_body\n",
        "top_5_tm_gs = top_5_tm_gs.sort_values(by=['make', 'model'], ascending=[True, False])\n",
        "\n",
        "# Create treemap\n",
        "fig = px.treemap(top_5_tm_gs, path=['make','model'], values='count_body', color='count_body',\n",
        "                 color_continuous_scale='Inferno', title='Top 5',\n",
        "                 width=1300, height=600)\n",
        "# Update layout\n",
        "fig.update_layout(\n",
        "    margin=dict(t=50, l=0, r=0, b=0)  # Adjust margin as needed\n",
        ")\n",
        "\n"
      ]
    },
    {
      "cell_type": "code",
      "execution_count": null,
      "metadata": {
        "id": "2886EBGyuln-"
      },
      "outputs": [],
      "source": [
        "re = cleaned_cs[['sellingprice','odometer','condition']]\n",
        "sns.pairplot(re)\n"
      ]
    },
    {
      "cell_type": "code",
      "execution_count": 90,
      "metadata": {
        "id": "ufvFesR3uln-",
        "outputId": "8399119f-676b-4bc4-f433-32d68cd35510",
        "colab": {
          "base_uri": "https://localhost:8080/",
          "height": 699
        }
      },
      "outputs": [
        {
          "output_type": "display_data",
          "data": {
            "text/plain": [
              "<Figure size 1000x800 with 2 Axes>"
            ],
            "image/png": "[encoded data removed]"
          },
          "metadata": {}
        }
      ],
      "source": [
        "re = cleaned_cs[['year','sellingprice','odometer','condition']].corr()\n",
        "plt.figure(figsize=(10, 8))\n",
        "sns.heatmap(re, annot=True, cmap='rocket')\n",
        "plt.title('Heatmap of DataFrame')\n",
        "plt.show()"
      ]
    },
    {
      "cell_type": "code",
      "execution_count": null,
      "metadata": {
        "id": "1maEvFEsuln-"
      },
      "outputs": [],
      "source": []
    },
    {
      "cell_type": "markdown",
      "metadata": {
        "id": "cf43k3fHuln-"
      },
      "source": [
        "# Communication Result"
      ]
    },
    {
      "cell_type": "markdown",
      "metadata": {
        "id": "vMZUtDgPuln_"
      },
      "source": [
        "Based on the analysis, if you plan to buy a car and sell it as a second-hand car, you should consider purchasing one of the following brands for potentially better resale value:\n",
        "\n",
        "Ford\n",
        "Chevrolet\n",
        "Nissan\n",
        "Toyota\n",
        "Dodge\n",
        "The top 5 bought car models are not provided in the information you've shared.\n",
        "\n",
        "For a better resale value, you should aim for an automatic transmission car, as there is a significant difference between automatic and manual transmission cars in the resale market.\n",
        "\n",
        "In terms of body type, sedans and SUVs are the most commonly bought types, so choosing one of these types could also improve your chances of a good resale value.\n",
        "\n",
        "Regarding color, the top 5 preferred colors for cars are black, white, gray, silver, and blue.\n",
        "\n",
        "For the interior, the most popular colors are black, gray, beige, tan, and brown.\n",
        "\n",
        "Lastly, it's important to note that cars with higher odometer readings tend to have lower selling prices, so considering a car with a lower mileage could be beneficial for resale.\n",
        "\n",
        "In summary, to maximize your chances of a good resale value, consider buying a Ford, Chevrolet, Nissan, Toyota, or Dodge in an automatic transmission, sedan or SUV body type, with a black, white, gray, silver, or blue exterior, and a black, gray, beige, tan, or brown interior, while also ensuring the car has a lower odometer reading."
      ]
    },
    {
      "cell_type": "code",
      "execution_count": null,
      "metadata": {
        "id": "OqG08njCuln_"
      },
      "outputs": [],
      "source": [
        "\n"
      ]
    },
    {
      "cell_type": "code",
      "execution_count": null,
      "metadata": {
        "id": "DCRB83yjuln_"
      },
      "outputs": [],
      "source": []
    },
    {
      "cell_type": "code",
      "execution_count": null,
      "metadata": {
        "id": "vjZT_tvOuln_"
      },
      "outputs": [],
      "source": []
    },
    {
      "cell_type": "code",
      "execution_count": null,
      "metadata": {
        "id": "DTPvV1uSuln_"
      },
      "outputs": [],
      "source": []
    },
    {
      "cell_type": "code",
      "execution_count": null,
      "metadata": {
        "id": "Vd1SWcUFuln_"
      },
      "outputs": [],
      "source": []
    },
    {
      "cell_type": "code",
      "execution_count": null,
      "metadata": {
        "id": "XP83eI1culn_"
      },
      "outputs": [],
      "source": []
    },
    {
      "cell_type": "code",
      "execution_count": null,
      "metadata": {
        "id": "O-IzXeBAuln_"
      },
      "outputs": [],
      "source": []
    },
    {
      "cell_type": "code",
      "execution_count": null,
      "metadata": {
        "id": "1dIFAD0auln_"
      },
      "outputs": [],
      "source": []
    }
  ],
  "metadata": {
    "kaggle": {
      "accelerator": "none",
      "dataSources": [
        {
          "datasetId": 4913029,
          "sourceId": 8274170,
          "sourceType": "datasetVersion"
        }
      ],
      "dockerImageVersionId": 30698,
      "isGpuEnabled": false,
      "isInternetEnabled": false,
      "language": "python",
      "sourceType": "notebook"
    },
    "kernelspec": {
      "display_name": "Python 3",
      "language": "python",
      "name": "python3"
    },
    "language_info": {
      "codemirror_mode": {
        "name": "ipython",
        "version": 3
      },
      "file_extension": ".py",
      "mimetype": "text/x-python",
      "name": "python",
      "nbconvert_exporter": "python",
      "pygments_lexer": "ipython3",
      "version": "3.12.2"
    },
    "colab": {
      "provenance": []
    }
  },
  "nbformat": 4,
  "nbformat_minor": 0
}